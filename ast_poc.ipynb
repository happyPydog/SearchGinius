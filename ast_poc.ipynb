{
 "cells": [
  {
   "cell_type": "code",
   "execution_count": 46,
   "metadata": {},
   "outputs": [
    {
     "data": {
      "text/html": [
       "<pre style=\"white-space:pre;overflow-x:auto;line-height:normal;font-family:Menlo,'DejaVu Sans Mono',consolas,'Courier New',monospace\">#!<span style=\"color: #800080; text-decoration-color: #800080\">/usr/bin/</span><span style=\"color: #ff00ff; text-decoration-color: #ff00ff\">env</span> python\n",
       "# -*- coding: utf-<span style=\"color: #008080; text-decoration-color: #008080; font-weight: bold\">8</span> -*-\n",
       "<span style=\"color: #008000; text-decoration-color: #008000\">\"\"</span>\"\n",
       "提供配置，单例\n",
       "<span style=\"color: #008000; text-decoration-color: #008000\">\"\"</span>\"\n",
       "import os\n",
       "\n",
       "import openai\n",
       "import yaml\n",
       "from metagpt.const import PROJECT_ROOT\n",
       "from metagpt.logs import logger\n",
       "from metagpt.tools import SearchEngineType, WebBrowserEngineType\n",
       "from metagpt.utils.singleton import Singleton\n",
       "\n",
       "\n",
       "class <span style=\"color: #800080; text-decoration-color: #800080; font-weight: bold\">NotConfiguredException</span><span style=\"font-weight: bold\">(</span>Exception<span style=\"font-weight: bold\">)</span>:\n",
       "    <span style=\"color: #008000; text-decoration-color: #008000\">\"\"</span>\"Exception raised for errors in the configuration.\n",
       "\n",
       "    Attributes:\n",
       "        message -- explanation of the error\n",
       "    <span style=\"color: #008000; text-decoration-color: #008000\">\"\"</span>\"\n",
       "\n",
       "    def <span style=\"color: #800080; text-decoration-color: #800080; font-weight: bold\">__init__</span><span style=\"font-weight: bold\">(</span>self, <span style=\"color: #808000; text-decoration-color: #808000\">message</span>=<span style=\"color: #008000; text-decoration-color: #008000\">\"The required configuration is not set\"</span><span style=\"font-weight: bold\">)</span>:\n",
       "        self.message = message\n",
       "        <span style=\"color: #800080; text-decoration-color: #800080; font-weight: bold\">super</span><span style=\"font-weight: bold\">()</span><span style=\"color: #800080; text-decoration-color: #800080; font-weight: bold\">.__init__</span><span style=\"font-weight: bold\">(</span>self.message<span style=\"font-weight: bold\">)</span>\n",
       "\n",
       "\n",
       "class <span style=\"color: #800080; text-decoration-color: #800080; font-weight: bold\">Config</span><span style=\"font-weight: bold\">(</span><span style=\"color: #808000; text-decoration-color: #808000\">metaclass</span>=<span style=\"color: #800080; text-decoration-color: #800080\">Singleton</span><span style=\"font-weight: bold\">)</span>:\n",
       "    <span style=\"color: #008000; text-decoration-color: #008000\">\"\"</span>\"\n",
       "    常规使用方法：\n",
       "    config = <span style=\"color: #800080; text-decoration-color: #800080; font-weight: bold\">Config</span><span style=\"font-weight: bold\">(</span><span style=\"color: #008000; text-decoration-color: #008000\">\"config.yaml\"</span><span style=\"font-weight: bold\">)</span>\n",
       "    secret_key = <span style=\"color: #800080; text-decoration-color: #800080; font-weight: bold\">config.get_key</span><span style=\"font-weight: bold\">(</span><span style=\"color: #008000; text-decoration-color: #008000\">\"MY_SECRET_KEY\"</span><span style=\"font-weight: bold\">)</span>\n",
       "    <span style=\"color: #800080; text-decoration-color: #800080; font-weight: bold\">print</span><span style=\"font-weight: bold\">(</span><span style=\"color: #008000; text-decoration-color: #008000\">\"Secret key:\"</span>, secret_key<span style=\"font-weight: bold\">)</span>\n",
       "    <span style=\"color: #008000; text-decoration-color: #008000\">\"\"</span>\"\n",
       "\n",
       "    _instance = <span style=\"color: #800080; text-decoration-color: #800080; font-style: italic\">None</span>\n",
       "    key_yaml_file = PROJECT_ROOT <span style=\"color: #800080; text-decoration-color: #800080\">/</span> <span style=\"color: #008000; text-decoration-color: #008000\">\"config/key.yaml\"</span>\n",
       "    default_yaml_file = PROJECT_ROOT <span style=\"color: #800080; text-decoration-color: #800080\">/</span> <span style=\"color: #008000; text-decoration-color: #008000\">\"config/config.yaml\"</span>\n",
       "\n",
       "    def <span style=\"color: #800080; text-decoration-color: #800080; font-weight: bold\">__init__</span><span style=\"font-weight: bold\">(</span>self, <span style=\"color: #808000; text-decoration-color: #808000\">yaml_file</span>=<span style=\"color: #800080; text-decoration-color: #800080\">default_yaml_file</span><span style=\"font-weight: bold\">)</span>:\n",
       "        self._configs = <span style=\"font-weight: bold\">{}</span>\n",
       "        <span style=\"color: #800080; text-decoration-color: #800080; font-weight: bold\">self._init_with_config_files_and_env</span><span style=\"font-weight: bold\">(</span>self._configs, yaml_file<span style=\"font-weight: bold\">)</span>\n",
       "        <span style=\"color: #800080; text-decoration-color: #800080; font-weight: bold\">logger.info</span><span style=\"font-weight: bold\">(</span><span style=\"color: #008000; text-decoration-color: #008000\">\"Config loading done.\"</span><span style=\"font-weight: bold\">)</span>\n",
       "        self.global_proxy = <span style=\"color: #800080; text-decoration-color: #800080; font-weight: bold\">self._get</span><span style=\"font-weight: bold\">(</span><span style=\"color: #008000; text-decoration-color: #008000\">\"GLOBAL_PROXY\"</span><span style=\"font-weight: bold\">)</span>\n",
       "        self.openai_api_key = <span style=\"color: #800080; text-decoration-color: #800080; font-weight: bold\">self._get</span><span style=\"font-weight: bold\">(</span><span style=\"color: #008000; text-decoration-color: #008000\">\"OPENAI_API_KEY\"</span><span style=\"font-weight: bold\">)</span>\n",
       "        if not self.openai_api_key or <span style=\"color: #008000; text-decoration-color: #008000\">\"YOUR_API_KEY\"</span> == self.openai_api_key:\n",
       "            raise <span style=\"color: #800080; text-decoration-color: #800080; font-weight: bold\">NotConfiguredException</span><span style=\"font-weight: bold\">(</span><span style=\"color: #008000; text-decoration-color: #008000\">\"Set OPENAI_API_KEY first\"</span><span style=\"font-weight: bold\">)</span>\n",
       "\n",
       "        self.openai_api_base = <span style=\"color: #800080; text-decoration-color: #800080; font-weight: bold\">self._get</span><span style=\"font-weight: bold\">(</span><span style=\"color: #008000; text-decoration-color: #008000\">\"OPENAI_API_BASE\"</span><span style=\"font-weight: bold\">)</span>\n",
       "        if not self.openai_api_base or <span style=\"color: #008000; text-decoration-color: #008000\">\"YOUR_API_BASE\"</span> == self.openai_api_base:\n",
       "            openai_proxy = <span style=\"color: #800080; text-decoration-color: #800080; font-weight: bold\">self._get</span><span style=\"font-weight: bold\">(</span><span style=\"color: #008000; text-decoration-color: #008000\">\"OPENAI_PROXY\"</span><span style=\"font-weight: bold\">)</span> or self.global_proxy\n",
       "            if openai_proxy:\n",
       "                openai.proxy = openai_proxy\n",
       "            else:\n",
       "                <span style=\"color: #800080; text-decoration-color: #800080; font-weight: bold\">logger.info</span><span style=\"font-weight: bold\">(</span><span style=\"color: #008000; text-decoration-color: #008000\">\"Set OPENAI_API_BASE in case of network issues\"</span><span style=\"font-weight: bold\">)</span>\n",
       "        self.openai_api_type = <span style=\"color: #800080; text-decoration-color: #800080; font-weight: bold\">self._get</span><span style=\"font-weight: bold\">(</span><span style=\"color: #008000; text-decoration-color: #008000\">\"OPENAI_API_TYPE\"</span><span style=\"font-weight: bold\">)</span>\n",
       "        self.openai_api_version = <span style=\"color: #800080; text-decoration-color: #800080; font-weight: bold\">self._get</span><span style=\"font-weight: bold\">(</span><span style=\"color: #008000; text-decoration-color: #008000\">\"OPENAI_API_VERSION\"</span><span style=\"font-weight: bold\">)</span>\n",
       "        self.openai_api_rpm = <span style=\"color: #800080; text-decoration-color: #800080; font-weight: bold\">self._get</span><span style=\"font-weight: bold\">(</span><span style=\"color: #008000; text-decoration-color: #008000\">\"RPM\"</span>, <span style=\"color: #008080; text-decoration-color: #008080; font-weight: bold\">3</span><span style=\"font-weight: bold\">)</span>\n",
       "        self.openai_api_model = <span style=\"color: #800080; text-decoration-color: #800080; font-weight: bold\">self._get</span><span style=\"font-weight: bold\">(</span><span style=\"color: #008000; text-decoration-color: #008000\">\"OPENAI_API_MODEL\"</span>, <span style=\"color: #008000; text-decoration-color: #008000\">\"gpt-4\"</span><span style=\"font-weight: bold\">)</span>\n",
       "        self.max_tokens_rsp = <span style=\"color: #800080; text-decoration-color: #800080; font-weight: bold\">self._get</span><span style=\"font-weight: bold\">(</span><span style=\"color: #008000; text-decoration-color: #008000\">\"MAX_TOKENS\"</span>, <span style=\"color: #008080; text-decoration-color: #008080; font-weight: bold\">2048</span><span style=\"font-weight: bold\">)</span>\n",
       "        self.deployment_id = <span style=\"color: #800080; text-decoration-color: #800080; font-weight: bold\">self._get</span><span style=\"font-weight: bold\">(</span><span style=\"color: #008000; text-decoration-color: #008000\">\"DEPLOYMENT_ID\"</span><span style=\"font-weight: bold\">)</span>\n",
       "\n",
       "        self.claude_api_key = <span style=\"color: #800080; text-decoration-color: #800080; font-weight: bold\">self._get</span><span style=\"font-weight: bold\">(</span><span style=\"color: #008000; text-decoration-color: #008000\">'Anthropic_API_KEY'</span><span style=\"font-weight: bold\">)</span>\n",
       "        self.serpapi_api_key = <span style=\"color: #800080; text-decoration-color: #800080; font-weight: bold\">self._get</span><span style=\"font-weight: bold\">(</span><span style=\"color: #008000; text-decoration-color: #008000\">\"SERPAPI_API_KEY\"</span><span style=\"font-weight: bold\">)</span>\n",
       "        self.serper_api_key = <span style=\"color: #800080; text-decoration-color: #800080; font-weight: bold\">self._get</span><span style=\"font-weight: bold\">(</span><span style=\"color: #008000; text-decoration-color: #008000\">\"SERPER_API_KEY\"</span><span style=\"font-weight: bold\">)</span>\n",
       "        self.google_api_key = <span style=\"color: #800080; text-decoration-color: #800080; font-weight: bold\">self._get</span><span style=\"font-weight: bold\">(</span><span style=\"color: #008000; text-decoration-color: #008000\">\"GOOGLE_API_KEY\"</span><span style=\"font-weight: bold\">)</span>\n",
       "        self.google_cse_id = <span style=\"color: #800080; text-decoration-color: #800080; font-weight: bold\">self._get</span><span style=\"font-weight: bold\">(</span><span style=\"color: #008000; text-decoration-color: #008000\">\"GOOGLE_CSE_ID\"</span><span style=\"font-weight: bold\">)</span>\n",
       "        self.search_engine = <span style=\"color: #800080; text-decoration-color: #800080; font-weight: bold\">self._get</span><span style=\"font-weight: bold\">(</span><span style=\"color: #008000; text-decoration-color: #008000\">\"SEARCH_ENGINE\"</span>, SearchEngineType.SERPAPI_GOOGLE<span style=\"font-weight: bold\">)</span>\n",
       " \n",
       "        self.web_browser_engine = <span style=\"color: #800080; text-decoration-color: #800080; font-weight: bold\">WebBrowserEngineType</span><span style=\"font-weight: bold\">(</span><span style=\"color: #800080; text-decoration-color: #800080; font-weight: bold\">self._get</span><span style=\"font-weight: bold\">(</span><span style=\"color: #008000; text-decoration-color: #008000\">\"WEB_BROWSER_ENGINE\"</span>, <span style=\"color: #008000; text-decoration-color: #008000\">\"playwright\"</span><span style=\"font-weight: bold\">))</span>\n",
       "        self.playwright_browser_type = <span style=\"color: #800080; text-decoration-color: #800080; font-weight: bold\">self._get</span><span style=\"font-weight: bold\">(</span><span style=\"color: #008000; text-decoration-color: #008000\">\"PLAYWRIGHT_BROWSER_TYPE\"</span>, <span style=\"color: #008000; text-decoration-color: #008000\">\"chromium\"</span><span style=\"font-weight: bold\">)</span>\n",
       "        self.selenium_browser_type = <span style=\"color: #800080; text-decoration-color: #800080; font-weight: bold\">self._get</span><span style=\"font-weight: bold\">(</span><span style=\"color: #008000; text-decoration-color: #008000\">\"SELENIUM_BROWSER_TYPE\"</span>, <span style=\"color: #008000; text-decoration-color: #008000\">\"chrome\"</span><span style=\"font-weight: bold\">)</span>\n",
       "      \n",
       "        self.long_term_memory = <span style=\"color: #800080; text-decoration-color: #800080; font-weight: bold\">self._get</span><span style=\"font-weight: bold\">(</span><span style=\"color: #008000; text-decoration-color: #008000\">'LONG_TERM_MEMORY'</span>, <span style=\"color: #ff0000; text-decoration-color: #ff0000; font-style: italic\">False</span><span style=\"font-weight: bold\">)</span>\n",
       "        if self.long_term_memory:\n",
       "            <span style=\"color: #800080; text-decoration-color: #800080; font-weight: bold\">logger.warning</span><span style=\"font-weight: bold\">(</span><span style=\"color: #008000; text-decoration-color: #008000\">\"LONG_TERM_MEMORY is True\"</span><span style=\"font-weight: bold\">)</span>\n",
       "        self.max_budget = <span style=\"color: #800080; text-decoration-color: #800080; font-weight: bold\">self._get</span><span style=\"font-weight: bold\">(</span><span style=\"color: #008000; text-decoration-color: #008000\">\"MAX_BUDGET\"</span>, <span style=\"color: #008080; text-decoration-color: #008080; font-weight: bold\">10.0</span><span style=\"font-weight: bold\">)</span>\n",
       "        self.total_cost = <span style=\"color: #008080; text-decoration-color: #008080; font-weight: bold\">0.0</span>\n",
       "        self.puppeteer_config = <span style=\"color: #800080; text-decoration-color: #800080; font-weight: bold\">self._get</span><span style=\"font-weight: bold\">(</span><span style=\"color: #008000; text-decoration-color: #008000\">\"PUPPETEER_CONFIG\"</span>,<span style=\"color: #008000; text-decoration-color: #008000\">\"\"</span><span style=\"font-weight: bold\">)</span>\n",
       "        self.mmdc = <span style=\"color: #800080; text-decoration-color: #800080; font-weight: bold\">self._get</span><span style=\"font-weight: bold\">(</span><span style=\"color: #008000; text-decoration-color: #008000\">\"MMDC\"</span>,<span style=\"color: #008000; text-decoration-color: #008000\">\"mmdc\"</span><span style=\"font-weight: bold\">)</span>\n",
       "        self.update_costs = <span style=\"color: #800080; text-decoration-color: #800080; font-weight: bold\">self._get</span><span style=\"font-weight: bold\">(</span><span style=\"color: #008000; text-decoration-color: #008000\">\"UPDATE_COSTS\"</span>,<span style=\"color: #00ff00; text-decoration-color: #00ff00; font-style: italic\">True</span><span style=\"font-weight: bold\">)</span>\n",
       "        self.calc_usage = <span style=\"color: #800080; text-decoration-color: #800080; font-weight: bold\">self._get</span><span style=\"font-weight: bold\">(</span><span style=\"color: #008000; text-decoration-color: #008000\">\"CALC_USAGE\"</span>,<span style=\"color: #00ff00; text-decoration-color: #00ff00; font-style: italic\">True</span><span style=\"font-weight: bold\">)</span>\n",
       "\n",
       "        \n",
       "\n",
       "    def <span style=\"color: #800080; text-decoration-color: #800080; font-weight: bold\">_init_with_config_files_and_env</span><span style=\"font-weight: bold\">(</span>self, configs: dict, yaml_file<span style=\"font-weight: bold\">)</span>:\n",
       "        <span style=\"color: #008000; text-decoration-color: #008000\">\"\"\"从config/key.yaml / config/config.yaml / env三处按优先级递减加载\"\"\"</span>\n",
       "        <span style=\"color: #800080; text-decoration-color: #800080; font-weight: bold\">configs.update</span><span style=\"font-weight: bold\">(</span>os.environ<span style=\"font-weight: bold\">)</span>\n",
       "\n",
       "        for _yaml_file in :\n",
       "            if not <span style=\"color: #800080; text-decoration-color: #800080; font-weight: bold\">_yaml_file.exists</span><span style=\"font-weight: bold\">()</span>:\n",
       "                continue\n",
       "\n",
       "            # 加载本地 YAML 文件\n",
       "            with <span style=\"color: #800080; text-decoration-color: #800080; font-weight: bold\">open</span><span style=\"font-weight: bold\">(</span>_yaml_file, <span style=\"color: #008000; text-decoration-color: #008000\">\"r\"</span>, <span style=\"color: #808000; text-decoration-color: #808000\">encoding</span>=<span style=\"color: #008000; text-decoration-color: #008000\">\"utf-8\"</span><span style=\"font-weight: bold\">)</span> as file:\n",
       "                yaml_data = <span style=\"color: #800080; text-decoration-color: #800080; font-weight: bold\">yaml.safe_load</span><span style=\"font-weight: bold\">(</span>file<span style=\"font-weight: bold\">)</span>\n",
       "                if not yaml_data:\n",
       "                    continue\n",
       "                <span style=\"color: #800080; text-decoration-color: #800080; font-weight: bold\">os.environ.update</span><span style=\"font-weight: bold\">({</span>k: v for k, v in <span style=\"color: #800080; text-decoration-color: #800080; font-weight: bold\">yaml_data.items</span><span style=\"font-weight: bold\">()</span> if <span style=\"color: #800080; text-decoration-color: #800080; font-weight: bold\">isinstance</span><span style=\"font-weight: bold\">(</span>v, str<span style=\"font-weight: bold\">)})</span>\n",
       "                <span style=\"color: #800080; text-decoration-color: #800080; font-weight: bold\">configs.update</span><span style=\"font-weight: bold\">(</span>yaml_data<span style=\"font-weight: bold\">)</span>\n",
       "\n",
       "    def <span style=\"color: #800080; text-decoration-color: #800080; font-weight: bold\">_get</span><span style=\"font-weight: bold\">(</span>self, *args, **kwargs<span style=\"font-weight: bold\">)</span>:\n",
       "        return <span style=\"color: #800080; text-decoration-color: #800080; font-weight: bold\">self._configs.get</span><span style=\"font-weight: bold\">(</span>*args, **kwargs<span style=\"font-weight: bold\">)</span>\n",
       "\n",
       "    def <span style=\"color: #800080; text-decoration-color: #800080; font-weight: bold\">get</span><span style=\"font-weight: bold\">(</span>self, key, *args, **kwargs<span style=\"font-weight: bold\">)</span>:\n",
       "        <span style=\"color: #008000; text-decoration-color: #008000\">\"\"\"从config/key.yaml / config/config.yaml / env三处找值，找不到报错\"\"\"</span>\n",
       "        value = <span style=\"color: #800080; text-decoration-color: #800080; font-weight: bold\">self._get</span><span style=\"font-weight: bold\">(</span>key, *args, **kwargs<span style=\"font-weight: bold\">)</span>\n",
       "        if value is <span style=\"color: #800080; text-decoration-color: #800080; font-style: italic\">None</span>:\n",
       "            raise <span style=\"color: #800080; text-decoration-color: #800080; font-weight: bold\">ValueError</span><span style=\"font-weight: bold\">(</span>f\"Key <span style=\"color: #008000; text-decoration-color: #008000\">'{key}'</span> not found in environment variables or in the YAML file\"<span style=\"font-weight: bold\">)</span>\n",
       "        return value\n",
       "\n",
       "\n",
       "CONFIG = <span style=\"color: #800080; text-decoration-color: #800080; font-weight: bold\">Config</span><span style=\"font-weight: bold\">()</span>\n",
       "\n",
       "</pre>\n"
      ],
      "text/plain": [
       "#!\u001b[35m/usr/bin/\u001b[0m\u001b[95menv\u001b[0m python\n",
       "# -*- coding: utf-\u001b[1;36m8\u001b[0m -*-\n",
       "\u001b[32m\"\"\u001b[0m\"\n",
       "提供配置，单例\n",
       "\u001b[32m\"\"\u001b[0m\"\n",
       "import os\n",
       "\n",
       "import openai\n",
       "import yaml\n",
       "from metagpt.const import PROJECT_ROOT\n",
       "from metagpt.logs import logger\n",
       "from metagpt.tools import SearchEngineType, WebBrowserEngineType\n",
       "from metagpt.utils.singleton import Singleton\n",
       "\n",
       "\n",
       "class \u001b[1;35mNotConfiguredException\u001b[0m\u001b[1m(\u001b[0mException\u001b[1m)\u001b[0m:\n",
       "    \u001b[32m\"\"\u001b[0m\"Exception raised for errors in the configuration.\n",
       "\n",
       "    Attributes:\n",
       "        message -- explanation of the error\n",
       "    \u001b[32m\"\"\u001b[0m\"\n",
       "\n",
       "    def \u001b[1;35m__init__\u001b[0m\u001b[1m(\u001b[0mself, \u001b[33mmessage\u001b[0m=\u001b[32m\"The\u001b[0m\u001b[32m required configuration is not set\"\u001b[0m\u001b[1m)\u001b[0m:\n",
       "        self.message = message\n",
       "        \u001b[1;35msuper\u001b[0m\u001b[1m(\u001b[0m\u001b[1m)\u001b[0m\u001b[1;35m.__init__\u001b[0m\u001b[1m(\u001b[0mself.message\u001b[1m)\u001b[0m\n",
       "\n",
       "\n",
       "class \u001b[1;35mConfig\u001b[0m\u001b[1m(\u001b[0m\u001b[33mmetaclass\u001b[0m=\u001b[35mSingleton\u001b[0m\u001b[1m)\u001b[0m:\n",
       "    \u001b[32m\"\"\u001b[0m\"\n",
       "    常规使用方法：\n",
       "    config = \u001b[1;35mConfig\u001b[0m\u001b[1m(\u001b[0m\u001b[32m\"config.yaml\"\u001b[0m\u001b[1m)\u001b[0m\n",
       "    secret_key = \u001b[1;35mconfig.get_key\u001b[0m\u001b[1m(\u001b[0m\u001b[32m\"MY_SECRET_KEY\"\u001b[0m\u001b[1m)\u001b[0m\n",
       "    \u001b[1;35mprint\u001b[0m\u001b[1m(\u001b[0m\u001b[32m\"Secret key:\"\u001b[0m, secret_key\u001b[1m)\u001b[0m\n",
       "    \u001b[32m\"\"\u001b[0m\"\n",
       "\n",
       "    _instance = \u001b[3;35mNone\u001b[0m\n",
       "    key_yaml_file = PROJECT_ROOT \u001b[35m/\u001b[0m \u001b[32m\"config/key.yaml\"\u001b[0m\n",
       "    default_yaml_file = PROJECT_ROOT \u001b[35m/\u001b[0m \u001b[32m\"config/config.yaml\"\u001b[0m\n",
       "\n",
       "    def \u001b[1;35m__init__\u001b[0m\u001b[1m(\u001b[0mself, \u001b[33myaml_file\u001b[0m=\u001b[35mdefault_yaml_file\u001b[0m\u001b[1m)\u001b[0m:\n",
       "        self._configs = \u001b[1m{\u001b[0m\u001b[1m}\u001b[0m\n",
       "        \u001b[1;35mself._init_with_config_files_and_env\u001b[0m\u001b[1m(\u001b[0mself._configs, yaml_file\u001b[1m)\u001b[0m\n",
       "        \u001b[1;35mlogger.info\u001b[0m\u001b[1m(\u001b[0m\u001b[32m\"Config loading done.\"\u001b[0m\u001b[1m)\u001b[0m\n",
       "        self.global_proxy = \u001b[1;35mself._get\u001b[0m\u001b[1m(\u001b[0m\u001b[32m\"GLOBAL_PROXY\"\u001b[0m\u001b[1m)\u001b[0m\n",
       "        self.openai_api_key = \u001b[1;35mself._get\u001b[0m\u001b[1m(\u001b[0m\u001b[32m\"OPENAI_API_KEY\"\u001b[0m\u001b[1m)\u001b[0m\n",
       "        if not self.openai_api_key or \u001b[32m\"YOUR_API_KEY\"\u001b[0m == self.openai_api_key:\n",
       "            raise \u001b[1;35mNotConfiguredException\u001b[0m\u001b[1m(\u001b[0m\u001b[32m\"Set OPENAI_API_KEY first\"\u001b[0m\u001b[1m)\u001b[0m\n",
       "\n",
       "        self.openai_api_base = \u001b[1;35mself._get\u001b[0m\u001b[1m(\u001b[0m\u001b[32m\"OPENAI_API_BASE\"\u001b[0m\u001b[1m)\u001b[0m\n",
       "        if not self.openai_api_base or \u001b[32m\"YOUR_API_BASE\"\u001b[0m == self.openai_api_base:\n",
       "            openai_proxy = \u001b[1;35mself._get\u001b[0m\u001b[1m(\u001b[0m\u001b[32m\"OPENAI_PROXY\"\u001b[0m\u001b[1m)\u001b[0m or self.global_proxy\n",
       "            if openai_proxy:\n",
       "                openai.proxy = openai_proxy\n",
       "            else:\n",
       "                \u001b[1;35mlogger.info\u001b[0m\u001b[1m(\u001b[0m\u001b[32m\"Set OPENAI_API_BASE in case of network issues\"\u001b[0m\u001b[1m)\u001b[0m\n",
       "        self.openai_api_type = \u001b[1;35mself._get\u001b[0m\u001b[1m(\u001b[0m\u001b[32m\"OPENAI_API_TYPE\"\u001b[0m\u001b[1m)\u001b[0m\n",
       "        self.openai_api_version = \u001b[1;35mself._get\u001b[0m\u001b[1m(\u001b[0m\u001b[32m\"OPENAI_API_VERSION\"\u001b[0m\u001b[1m)\u001b[0m\n",
       "        self.openai_api_rpm = \u001b[1;35mself._get\u001b[0m\u001b[1m(\u001b[0m\u001b[32m\"RPM\"\u001b[0m, \u001b[1;36m3\u001b[0m\u001b[1m)\u001b[0m\n",
       "        self.openai_api_model = \u001b[1;35mself._get\u001b[0m\u001b[1m(\u001b[0m\u001b[32m\"OPENAI_API_MODEL\"\u001b[0m, \u001b[32m\"gpt-4\"\u001b[0m\u001b[1m)\u001b[0m\n",
       "        self.max_tokens_rsp = \u001b[1;35mself._get\u001b[0m\u001b[1m(\u001b[0m\u001b[32m\"MAX_TOKENS\"\u001b[0m, \u001b[1;36m2048\u001b[0m\u001b[1m)\u001b[0m\n",
       "        self.deployment_id = \u001b[1;35mself._get\u001b[0m\u001b[1m(\u001b[0m\u001b[32m\"DEPLOYMENT_ID\"\u001b[0m\u001b[1m)\u001b[0m\n",
       "\n",
       "        self.claude_api_key = \u001b[1;35mself._get\u001b[0m\u001b[1m(\u001b[0m\u001b[32m'Anthropic_API_KEY'\u001b[0m\u001b[1m)\u001b[0m\n",
       "        self.serpapi_api_key = \u001b[1;35mself._get\u001b[0m\u001b[1m(\u001b[0m\u001b[32m\"SERPAPI_API_KEY\"\u001b[0m\u001b[1m)\u001b[0m\n",
       "        self.serper_api_key = \u001b[1;35mself._get\u001b[0m\u001b[1m(\u001b[0m\u001b[32m\"SERPER_API_KEY\"\u001b[0m\u001b[1m)\u001b[0m\n",
       "        self.google_api_key = \u001b[1;35mself._get\u001b[0m\u001b[1m(\u001b[0m\u001b[32m\"GOOGLE_API_KEY\"\u001b[0m\u001b[1m)\u001b[0m\n",
       "        self.google_cse_id = \u001b[1;35mself._get\u001b[0m\u001b[1m(\u001b[0m\u001b[32m\"GOOGLE_CSE_ID\"\u001b[0m\u001b[1m)\u001b[0m\n",
       "        self.search_engine = \u001b[1;35mself._get\u001b[0m\u001b[1m(\u001b[0m\u001b[32m\"SEARCH_ENGINE\"\u001b[0m, SearchEngineType.SERPAPI_GOOGLE\u001b[1m)\u001b[0m\n",
       " \n",
       "        self.web_browser_engine = \u001b[1;35mWebBrowserEngineType\u001b[0m\u001b[1m(\u001b[0m\u001b[1;35mself._get\u001b[0m\u001b[1m(\u001b[0m\u001b[32m\"WEB_BROWSER_ENGINE\"\u001b[0m, \u001b[32m\"playwright\"\u001b[0m\u001b[1m)\u001b[0m\u001b[1m)\u001b[0m\n",
       "        self.playwright_browser_type = \u001b[1;35mself._get\u001b[0m\u001b[1m(\u001b[0m\u001b[32m\"PLAYWRIGHT_BROWSER_TYPE\"\u001b[0m, \u001b[32m\"chromium\"\u001b[0m\u001b[1m)\u001b[0m\n",
       "        self.selenium_browser_type = \u001b[1;35mself._get\u001b[0m\u001b[1m(\u001b[0m\u001b[32m\"SELENIUM_BROWSER_TYPE\"\u001b[0m, \u001b[32m\"chrome\"\u001b[0m\u001b[1m)\u001b[0m\n",
       "      \n",
       "        self.long_term_memory = \u001b[1;35mself._get\u001b[0m\u001b[1m(\u001b[0m\u001b[32m'LONG_TERM_MEMORY'\u001b[0m, \u001b[3;91mFalse\u001b[0m\u001b[1m)\u001b[0m\n",
       "        if self.long_term_memory:\n",
       "            \u001b[1;35mlogger.warning\u001b[0m\u001b[1m(\u001b[0m\u001b[32m\"LONG_TERM_MEMORY is True\"\u001b[0m\u001b[1m)\u001b[0m\n",
       "        self.max_budget = \u001b[1;35mself._get\u001b[0m\u001b[1m(\u001b[0m\u001b[32m\"MAX_BUDGET\"\u001b[0m, \u001b[1;36m10.0\u001b[0m\u001b[1m)\u001b[0m\n",
       "        self.total_cost = \u001b[1;36m0.0\u001b[0m\n",
       "        self.puppeteer_config = \u001b[1;35mself._get\u001b[0m\u001b[1m(\u001b[0m\u001b[32m\"PUPPETEER_CONFIG\"\u001b[0m,\u001b[32m\"\"\u001b[0m\u001b[1m)\u001b[0m\n",
       "        self.mmdc = \u001b[1;35mself._get\u001b[0m\u001b[1m(\u001b[0m\u001b[32m\"MMDC\"\u001b[0m,\u001b[32m\"mmdc\"\u001b[0m\u001b[1m)\u001b[0m\n",
       "        self.update_costs = \u001b[1;35mself._get\u001b[0m\u001b[1m(\u001b[0m\u001b[32m\"UPDATE_COSTS\"\u001b[0m,\u001b[3;92mTrue\u001b[0m\u001b[1m)\u001b[0m\n",
       "        self.calc_usage = \u001b[1;35mself._get\u001b[0m\u001b[1m(\u001b[0m\u001b[32m\"CALC_USAGE\"\u001b[0m,\u001b[3;92mTrue\u001b[0m\u001b[1m)\u001b[0m\n",
       "\n",
       "        \n",
       "\n",
       "    def \u001b[1;35m_init_with_config_files_and_env\u001b[0m\u001b[1m(\u001b[0mself, configs: dict, yaml_file\u001b[1m)\u001b[0m:\n",
       "        \u001b[32m\"\"\"从config/key.yaml / config/config.yaml / env三处按优先级递减加载\"\"\"\u001b[0m\n",
       "        \u001b[1;35mconfigs.update\u001b[0m\u001b[1m(\u001b[0mos.environ\u001b[1m)\u001b[0m\n",
       "\n",
       "        for _yaml_file in :\n",
       "            if not \u001b[1;35m_yaml_file.exists\u001b[0m\u001b[1m(\u001b[0m\u001b[1m)\u001b[0m:\n",
       "                continue\n",
       "\n",
       "            # 加载本地 YAML 文件\n",
       "            with \u001b[1;35mopen\u001b[0m\u001b[1m(\u001b[0m_yaml_file, \u001b[32m\"r\"\u001b[0m, \u001b[33mencoding\u001b[0m=\u001b[32m\"utf\u001b[0m\u001b[32m-8\"\u001b[0m\u001b[1m)\u001b[0m as file:\n",
       "                yaml_data = \u001b[1;35myaml.safe_load\u001b[0m\u001b[1m(\u001b[0mfile\u001b[1m)\u001b[0m\n",
       "                if not yaml_data:\n",
       "                    continue\n",
       "                \u001b[1;35mos.environ.update\u001b[0m\u001b[1m(\u001b[0m\u001b[1m{\u001b[0mk: v for k, v in \u001b[1;35myaml_data.items\u001b[0m\u001b[1m(\u001b[0m\u001b[1m)\u001b[0m if \u001b[1;35misinstance\u001b[0m\u001b[1m(\u001b[0mv, str\u001b[1m)\u001b[0m\u001b[1m}\u001b[0m\u001b[1m)\u001b[0m\n",
       "                \u001b[1;35mconfigs.update\u001b[0m\u001b[1m(\u001b[0myaml_data\u001b[1m)\u001b[0m\n",
       "\n",
       "    def \u001b[1;35m_get\u001b[0m\u001b[1m(\u001b[0mself, *args, **kwargs\u001b[1m)\u001b[0m:\n",
       "        return \u001b[1;35mself._configs.get\u001b[0m\u001b[1m(\u001b[0m*args, **kwargs\u001b[1m)\u001b[0m\n",
       "\n",
       "    def \u001b[1;35mget\u001b[0m\u001b[1m(\u001b[0mself, key, *args, **kwargs\u001b[1m)\u001b[0m:\n",
       "        \u001b[32m\"\"\"从config/key.yaml / config/config.yaml / env三处找值，找不到报错\"\"\"\u001b[0m\n",
       "        value = \u001b[1;35mself._get\u001b[0m\u001b[1m(\u001b[0mkey, *args, **kwargs\u001b[1m)\u001b[0m\n",
       "        if value is \u001b[3;35mNone\u001b[0m:\n",
       "            raise \u001b[1;35mValueError\u001b[0m\u001b[1m(\u001b[0mf\"Key \u001b[32m'\u001b[0m\u001b[32m{\u001b[0m\u001b[32mkey\u001b[0m\u001b[32m}\u001b[0m\u001b[32m'\u001b[0m not found in environment variables or in the YAML file\"\u001b[1m)\u001b[0m\n",
       "        return value\n",
       "\n",
       "\n",
       "CONFIG = \u001b[1;35mConfig\u001b[0m\u001b[1m(\u001b[0m\u001b[1m)\u001b[0m\n",
       "\n"
      ]
     },
     "metadata": {},
     "output_type": "display_data"
    },
    {
     "data": {
      "text/html": [
       "<pre style=\"white-space:pre;overflow-x:auto;line-height:normal;font-family:Menlo,'DejaVu Sans Mono',consolas,'Courier New',monospace\"><span style=\"font-weight: bold\">{</span>\n",
       "    <span style=\"color: #008000; text-decoration-color: #008000\">'__init__'</span>: <span style=\"color: #008000; text-decoration-color: #008000\">'    def __init__(self, message=\"The required configuration is not set\"):\\n        self.message = </span>\n",
       "<span style=\"color: #008000; text-decoration-color: #008000\">message\\n        super().__init__(self.message)\\n\\n'</span>,\n",
       "    <span style=\"color: #008000; text-decoration-color: #008000\">'_init_with_config_files_and_env'</span>: <span style=\"color: #008000; text-decoration-color: #008000\">'    def _init_with_config_files_and_env(self, configs: dict, yaml_file):\\n </span>\n",
       "<span style=\"color: #008000; text-decoration-color: #008000\">\"\"\"从config/key.yaml / config/config.yaml / env三处按优先级递减加载\"\"\"\\n        configs.update(os.environ)\\n\\n     </span>\n",
       "<span style=\"color: #008000; text-decoration-color: #008000\">for _yaml_file in [yaml_file, self.key_yaml_file]:\\n            if not _yaml_file.exists():\\n                </span>\n",
       "<span style=\"color: #008000; text-decoration-color: #008000\">continue\\n\\n            # 加载本地 YAML 文件'</span>,\n",
       "    <span style=\"color: #008000; text-decoration-color: #008000\">'_get'</span>: <span style=\"color: #008000; text-decoration-color: #008000\">'    def _get(self, *args, **kwargs):\\n        return self._configs.get(*args, **kwargs)\\n'</span>,\n",
       "    <span style=\"color: #008000; text-decoration-color: #008000\">'get'</span>: <span style=\"color: #008000; text-decoration-color: #008000\">'    def get(self, key, *args, **kwargs):\\n        \"\"\"从config/key.yaml / config/config.yaml / </span>\n",
       "<span style=\"color: #008000; text-decoration-color: #008000\">env三处找值，找不到报错\"\"\"\\n        value = self._get(key, *args, **kwargs)\\n        if value is None:\\n           </span>\n",
       "<span style=\"color: #008000; text-decoration-color: #008000\">raise ValueError(f\"Key \\'{key}\\' not found in environment variables or in the YAML file\")'</span>\n",
       "<span style=\"font-weight: bold\">}</span>\n",
       "</pre>\n"
      ],
      "text/plain": [
       "\u001b[1m{\u001b[0m\n",
       "    \u001b[32m'__init__'\u001b[0m: \u001b[32m'    def __init__\u001b[0m\u001b[32m(\u001b[0m\u001b[32mself, \u001b[0m\u001b[32mmessage\u001b[0m\u001b[32m=\u001b[0m\u001b[32m\"The\u001b[0m\u001b[32m required configuration is not set\"\u001b[0m\u001b[32m)\u001b[0m\u001b[32m:\\n        self.message = \u001b[0m\n",
       "\u001b[32mmessage\\n        super\u001b[0m\u001b[32m(\u001b[0m\u001b[32m)\u001b[0m\u001b[32m.__init__\u001b[0m\u001b[32m(\u001b[0m\u001b[32mself.message\u001b[0m\u001b[32m)\u001b[0m\u001b[32m\\n\\n'\u001b[0m,\n",
       "    \u001b[32m'_init_with_config_files_and_env'\u001b[0m: \u001b[32m'    def _init_with_config_files_and_env\u001b[0m\u001b[32m(\u001b[0m\u001b[32mself, configs: dict, yaml_file\u001b[0m\u001b[32m)\u001b[0m\u001b[32m:\\n \u001b[0m\n",
       "\u001b[32m\"\"\"从config/key.yaml / config/config.yaml / env三处按优先级递减加载\"\"\"\\n        configs.update\u001b[0m\u001b[32m(\u001b[0m\u001b[32mos.environ\u001b[0m\u001b[32m)\u001b[0m\u001b[32m\\n\\n     \u001b[0m\n",
       "\u001b[32mfor _yaml_file in \u001b[0m\u001b[32m[\u001b[0m\u001b[32myaml_file, self.key_yaml_file\u001b[0m\u001b[32m]\u001b[0m\u001b[32m:\\n            if not _yaml_file.exists\u001b[0m\u001b[32m(\u001b[0m\u001b[32m)\u001b[0m\u001b[32m:\\n                \u001b[0m\n",
       "\u001b[32mcontinue\\n\\n            # 加载本地 YAML 文件'\u001b[0m,\n",
       "    \u001b[32m'_get'\u001b[0m: \u001b[32m'    def _get\u001b[0m\u001b[32m(\u001b[0m\u001b[32mself, *args, **kwargs\u001b[0m\u001b[32m)\u001b[0m\u001b[32m:\\n        return self._configs.get\u001b[0m\u001b[32m(\u001b[0m\u001b[32m*args, **kwargs\u001b[0m\u001b[32m)\u001b[0m\u001b[32m\\n'\u001b[0m,\n",
       "    \u001b[32m'get'\u001b[0m: \u001b[32m'    def get\u001b[0m\u001b[32m(\u001b[0m\u001b[32mself, key, *args, **kwargs\u001b[0m\u001b[32m)\u001b[0m\u001b[32m:\\n        \"\"\"从config/key.yaml / config/config.yaml / \u001b[0m\n",
       "\u001b[32menv三处找值，找不到报错\"\"\"\\n        value = self._get\u001b[0m\u001b[32m(\u001b[0m\u001b[32mkey, *args, **kwargs\u001b[0m\u001b[32m)\u001b[0m\u001b[32m\\n        if value is None:\\n           \u001b[0m\n",
       "\u001b[32mraise ValueError\u001b[0m\u001b[32m(\u001b[0m\u001b[32mf\"Key \\'\u001b[0m\u001b[32m{\u001b[0m\u001b[32mkey\u001b[0m\u001b[32m}\u001b[0m\u001b[32m\\' not found in environment variables or in the YAML file\"\u001b[0m\u001b[32m)\u001b[0m\u001b[32m'\u001b[0m\n",
       "\u001b[1m}\u001b[0m\n"
      ]
     },
     "metadata": {},
     "output_type": "display_data"
    },
    {
     "data": {
      "text/html": [
       "<pre style=\"white-space:pre;overflow-x:auto;line-height:normal;font-family:Menlo,'DejaVu Sans Mono',consolas,'Courier New',monospace\"><span style=\"font-weight: bold\">{}</span>\n",
       "</pre>\n"
      ],
      "text/plain": [
       "\u001b[1m{\u001b[0m\u001b[1m}\u001b[0m\n"
      ]
     },
     "metadata": {},
     "output_type": "display_data"
    }
   ],
   "source": [
    "import ast\n",
    "import tokenize\n",
    "from io import BytesIO\n",
    "from typing import List, Dict, Union, Optional, Any, Type, Callable\n",
    "from typing_extensions import TypedDict\n",
    "\n",
    "from file import get_file_paths\n",
    "\n",
    "PROJET_DIR = \"./MetaGPT/metagpt\"\n",
    "SUPPORTED_FILE_TYPES = [\".py\"]\n",
    "\n",
    "class DependencyData(TypedDict):\n",
    "    modules: List[str]\n",
    "    functions_called: List[str]\n",
    "    global_vars: List[str]\n",
    "    classes_used: List[str]\n",
    "    \n",
    "class BaseExtractor:\n",
    "    @classmethod\n",
    "    def extract(cls, node: ast.AST) -> List[str]:\n",
    "        raise NotImplementedError\n",
    "    \n",
    "class ImportExtractor(BaseExtractor):\n",
    "    @classmethod\n",
    "    def extract(cls, node: ast.AST) -> List[str]:\n",
    "        if isinstance(node, ast.Import):\n",
    "            return [n.name for n in node.names]\n",
    "        elif isinstance(node, ast.ImportFrom):\n",
    "            return [f\"{node.module}.{n.name}\" for n in node.names]\n",
    "        return []\n",
    "    \n",
    "class FunctionCallExtractor(BaseExtractor):\n",
    "    @classmethod\n",
    "    def extract(cls, node: ast.AST) -> List[str]:\n",
    "        if isinstance(node, ast.Call):\n",
    "            if isinstance(node.func, ast.Name):\n",
    "                return [node.func.id]\n",
    "            elif isinstance(node.func, ast.Attribute):\n",
    "                return [node.func.attr]\n",
    "        return []\n",
    "    \n",
    "class GlobalVarExtractor(BaseExtractor):\n",
    "    @classmethod\n",
    "    def extract(cls, node: ast.AST) -> List[str]:\n",
    "        return node.names if isinstance(node, ast.Global) else []\n",
    "\n",
    "class ClassUsageExtractor(BaseExtractor):\n",
    "    @classmethod\n",
    "    def extract(cls, node: ast.AST) -> List[str]:\n",
    "        return [node.name] if isinstance(node, ast.ClassDef) else []\n",
    "    \n",
    "\n",
    "class CodeAnalyzer:\n",
    "    def __init__(self, code: str):\n",
    "        self.code = code\n",
    "        self.tree = ast.parse(self.code)\n",
    "    \n",
    "    def _node_filter(self, node_type: Type) -> Callable[[ast.AST], bool]:\n",
    "        \"\"\"Higher-order function that returns a function to filter AST nodes.\"\"\"\n",
    "        return lambda node: isinstance(node, node_type)\n",
    "\n",
    "    def _extract_code_by_tokenizing(self, name: str, node_type: Type) -> Optional[str]:\n",
    "        \"\"\"Retrieve the code of a function or class using tokenization.\"\"\"\n",
    "        tokens = list(tokenize.tokenize(BytesIO(self.code.encode('utf-8')).readline))\n",
    "        start_token_index = None\n",
    "        end_token_index = None\n",
    "\n",
    "        for index, token in enumerate(tokens):\n",
    "            # Check if we are at the start of the function or class\n",
    "            if (token.type == tokenize.NAME and token.string in (node_type.__name__, 'def', 'async def') \n",
    "                and tokens[index + 1].type == tokenize.NAME and tokens[index + 1].string == name):\n",
    "                start_token_index = token.start[0] - 1\n",
    "            \n",
    "            # Find the end of the function or class (by matching indentation)\n",
    "            if start_token_index is not None and token.type == tokenize.DEDENT:\n",
    "                end_token_index = token.end[0] - 1\n",
    "                break\n",
    "\n",
    "        # Return the code segment\n",
    "        if start_token_index is not None and end_token_index is not None:\n",
    "            return '\\n'.join(self.code.splitlines()[start_token_index:end_token_index])\n",
    "        \n",
    "        return None\n",
    "\n",
    "    def get_function_code(self, name: str) -> Optional[str]:\n",
    "        return self._extract_code_by_tokenizing(name, ast.FunctionDef)\n",
    "\n",
    "    def get_class_code(self, name: str) -> Optional[str]:\n",
    "        return self._extract_code_by_tokenizing(name, ast.ClassDef)\n",
    "    \n",
    "\n",
    "    def analyze(self) -> DependencyData:\n",
    "        data: DependencyData = {\n",
    "            'modules': [],\n",
    "            'functions_called': [],\n",
    "            'global_vars': [],\n",
    "            'classes_used': []\n",
    "        }\n",
    "\n",
    "        extractors = {\n",
    "            'modules': ImportExtractor,\n",
    "            'functions_called': FunctionCallExtractor,\n",
    "            'global_vars': GlobalVarExtractor,\n",
    "            'classes_used': ClassUsageExtractor\n",
    "        }\n",
    "\n",
    "        for key, extractor in extractors.items():\n",
    "            for node in ast.walk(self.tree):\n",
    "                data[key].extend(extractor.extract(node))\n",
    "\n",
    "        return data\n",
    "\n",
    "\n",
    "def main():\n",
    "    paths = get_file_paths(PROJET_DIR, SUPPORTED_FILE_TYPES)\n",
    "    \n",
    "    for path in paths:\n",
    "        with open(path, \"r\") as source:\n",
    "            code = source.read()\n",
    "        print(code)\n",
    "        analyzer = CodeAnalyzer(code)\n",
    "        result = analyzer.analyze()\n",
    "        function_codes = analyzer.get_all_functions()\n",
    "        print(function_codes)\n",
    "        class_codes = analyzer.get_all_classes()\n",
    "        print(class_codes)\n",
    "        break\n",
    "if __name__ == \"__main__\":\n",
    "    main()"
   ]
  },
  {
   "cell_type": "code",
   "execution_count": 53,
   "metadata": {},
   "outputs": [
    {
     "data": {
      "text/html": [
       "<pre style=\"white-space:pre;overflow-x:auto;line-height:normal;font-family:Menlo,'DejaVu Sans Mono',consolas,'Courier New',monospace\"><span style=\"font-weight: bold\">{}</span>\n",
       "</pre>\n"
      ],
      "text/plain": [
       "\u001b[1m{\u001b[0m\u001b[1m}\u001b[0m\n"
      ]
     },
     "metadata": {},
     "output_type": "display_data"
    },
    {
     "data": {
      "text/html": [
       "<pre style=\"white-space:pre;overflow-x:auto;line-height:normal;font-family:Menlo,'DejaVu Sans Mono',consolas,'Courier New',monospace\"><span style=\"font-weight: bold\">{</span>\n",
       "    <span style=\"color: #008000; text-decoration-color: #008000\">'NotConfiguredException'</span>: <span style=\"color: #008000; text-decoration-color: #008000\">'class NotConfiguredException(Exception):\\n    \"\"\"Exception raised for errors in the </span>\n",
       "<span style=\"color: #008000; text-decoration-color: #008000\">configuration.\\n\\n    Attributes:\\n        message -- explanation of the error\\n    \"\"\"\\n\\n    def __init__(self, </span>\n",
       "<span style=\"color: #008000; text-decoration-color: #008000\">message=\"The required configuration is not set\"):\\n        self.message = message\\n        </span>\n",
       "<span style=\"color: #008000; text-decoration-color: #008000\">super().__init__(self.message)\\n'</span>,\n",
       "    <span style=\"color: #008000; text-decoration-color: #008000\">'Config'</span>: <span style=\"color: #008000; text-decoration-color: #008000\">'class Config(metaclass=Singleton):\\n    \"\"\"\\n    常规使用方法：\\n    config = </span>\n",
       "<span style=\"color: #008000; text-decoration-color: #008000\">Config(\"config.yaml\")\\n    secret_key = config.get_key(\"MY_SECRET_KEY\")\\n    print(\"Secret key:\", secret_key)\\n    </span>\n",
       "<span style=\"color: #008000; text-decoration-color: #008000\">\"\"\"\\n\\n    _instance = None\\n    key_yaml_file = PROJECT_ROOT / \"config/key.yaml\"\\n    default_yaml_file = </span>\n",
       "<span style=\"color: #008000; text-decoration-color: #008000\">PROJECT_ROOT / \"config/config.yaml\"\\n\\n    def __init__(self, yaml_file=default_yaml_file):\\n        self._configs </span>\n",
       "<span style=\"color: #008000; text-decoration-color: #008000\">= {}\\n        self._init_with_config_files_and_env(self._configs, yaml_file)\\n        logger.info(\"Config loading </span>\n",
       "<span style=\"color: #008000; text-decoration-color: #008000\">done.\")\\n        self.global_proxy = self._get(\"GLOBAL_PROXY\")\\n        self.openai_api_key = </span>\n",
       "<span style=\"color: #008000; text-decoration-color: #008000\">self._get(\"OPENAI_API_KEY\")\\n        if not self.openai_api_key or \"YOUR_API_KEY\" == self.openai_api_key:\\n        </span>\n",
       "<span style=\"color: #008000; text-decoration-color: #008000\">raise NotConfiguredException(\"Set OPENAI_API_KEY first\")\\n\\n        self.openai_api_base = </span>\n",
       "<span style=\"color: #008000; text-decoration-color: #008000\">self._get(\"OPENAI_API_BASE\")\\n        if not self.openai_api_base or \"YOUR_API_BASE\" == self.openai_api_base:\\n    </span>\n",
       "<span style=\"color: #008000; text-decoration-color: #008000\">openai_proxy = self._get(\"OPENAI_PROXY\") or self.global_proxy\\n            if openai_proxy:\\n                </span>\n",
       "<span style=\"color: #008000; text-decoration-color: #008000\">openai.proxy = openai_proxy\\n            else:\\n                logger.info(\"Set OPENAI_API_BASE in case of network</span>\n",
       "<span style=\"color: #008000; text-decoration-color: #008000\">issues\")\\n        self.openai_api_type = self._get(\"OPENAI_API_TYPE\")\\n        self.openai_api_version = </span>\n",
       "<span style=\"color: #008000; text-decoration-color: #008000\">self._get(\"OPENAI_API_VERSION\")\\n        self.openai_api_rpm = self._get(\"RPM\", 3)\\n        self.openai_api_model =</span>\n",
       "<span style=\"color: #008000; text-decoration-color: #008000\">self._get(\"OPENAI_API_MODEL\", \"gpt-4\")\\n        self.max_tokens_rsp = self._get(\"MAX_TOKENS\", 2048)\\n        </span>\n",
       "<span style=\"color: #008000; text-decoration-color: #008000\">self.deployment_id = self._get(\"DEPLOYMENT_ID\")\\n\\n        self.claude_api_key = self._get(\\'Anthropic_API_KEY\\')\\n</span>\n",
       "<span style=\"color: #008000; text-decoration-color: #008000\">self.serpapi_api_key = self._get(\"SERPAPI_API_KEY\")\\n        self.serper_api_key = self._get(\"SERPER_API_KEY\")\\n   </span>\n",
       "<span style=\"color: #008000; text-decoration-color: #008000\">self.google_api_key = self._get(\"GOOGLE_API_KEY\")\\n        self.google_cse_id = self._get(\"GOOGLE_CSE_ID\")\\n       </span>\n",
       "<span style=\"color: #008000; text-decoration-color: #008000\">self.search_engine = self._get(\"SEARCH_ENGINE\", SearchEngineType.SERPAPI_GOOGLE)\\n \\n        </span>\n",
       "<span style=\"color: #008000; text-decoration-color: #008000\">self.web_browser_engine = WebBrowserEngineType(self._get(\"WEB_BROWSER_ENGINE\", \"playwright\"))\\n        </span>\n",
       "<span style=\"color: #008000; text-decoration-color: #008000\">self.playwright_browser_type = self._get(\"PLAYWRIGHT_BROWSER_TYPE\", \"chromium\")\\n        self.selenium_browser_type</span>\n",
       "<span style=\"color: #008000; text-decoration-color: #008000\">= self._get(\"SELENIUM_BROWSER_TYPE\", \"chrome\")\\n      \\n        self.long_term_memory = </span>\n",
       "<span style=\"color: #008000; text-decoration-color: #008000\">self._get(\\'LONG_TERM_MEMORY\\', False)\\n        if self.long_term_memory:\\n            </span>\n",
       "<span style=\"color: #008000; text-decoration-color: #008000\">logger.warning(\"LONG_TERM_MEMORY is True\")\\n        self.max_budget = self._get(\"MAX_BUDGET\", 10.0)\\n        </span>\n",
       "<span style=\"color: #008000; text-decoration-color: #008000\">self.total_cost = 0.0\\n        self.puppeteer_config = self._get(\"PUPPETEER_CONFIG\",\"\")\\n        self.mmdc = </span>\n",
       "<span style=\"color: #008000; text-decoration-color: #008000\">self._get(\"MMDC\",\"mmdc\")\\n        self.update_costs = self._get(\"UPDATE_COSTS\",True)\\n        self.calc_usage = </span>\n",
       "<span style=\"color: #008000; text-decoration-color: #008000\">self._get(\"CALC_USAGE\",True)\\n\\n        \\n\\n    def _init_with_config_files_and_env(self, configs: dict, </span>\n",
       "<span style=\"color: #008000; text-decoration-color: #008000\">yaml_file):\\n        \"\"\"从config/key.yaml / config/config.yaml / env三处按优先级递减加载\"\"\"\\n        </span>\n",
       "<span style=\"color: #008000; text-decoration-color: #008000\">configs.update(os.environ)\\n\\n        for _yaml_file in [yaml_file, self.key_yaml_file]:\\n            if not </span>\n",
       "<span style=\"color: #008000; text-decoration-color: #008000\">_yaml_file.exists():\\n                continue\\n\\n            # 加载本地 YAML 文件\\n            with </span>\n",
       "<span style=\"color: #008000; text-decoration-color: #008000\">open(_yaml_file, \"r\", encoding=\"utf-8\") as file:\\n                yaml_data = yaml.safe_load(file)\\n               </span>\n",
       "<span style=\"color: #008000; text-decoration-color: #008000\">if not yaml_data:\\n                    continue\\n                os.environ.update({k: v for k, v in </span>\n",
       "<span style=\"color: #008000; text-decoration-color: #008000\">yaml_data.items() if isinstance(v, str)})\\n                configs.update(yaml_data)\\n\\n    def _get(self, *args, </span>\n",
       "<span style=\"color: #008000; text-decoration-color: #008000\">**kwargs):\\n        return self._configs.get(*args, **kwargs)\\n\\n    def get(self, key, *args, **kwargs):\\n        </span>\n",
       "<span style=\"color: #008000; text-decoration-color: #008000\">\"\"\"从config/key.yaml / config/config.yaml / env三处找值，找不到报错\"\"\"\\n        value = self._get(key, *args, </span>\n",
       "<span style=\"color: #008000; text-decoration-color: #008000\">**kwargs)\\n        if value is None:\\n            raise ValueError(f\"Key \\'{key}\\' not found in environment </span>\n",
       "<span style=\"color: #008000; text-decoration-color: #008000\">variables or in the YAML file\")\\n        return value\\n'</span>\n",
       "<span style=\"font-weight: bold\">}</span>\n",
       "</pre>\n"
      ],
      "text/plain": [
       "\u001b[1m{\u001b[0m\n",
       "    \u001b[32m'NotConfiguredException'\u001b[0m: \u001b[32m'class NotConfiguredException\u001b[0m\u001b[32m(\u001b[0m\u001b[32mException\u001b[0m\u001b[32m)\u001b[0m\u001b[32m:\\n    \"\"\"Exception raised for errors in the \u001b[0m\n",
       "\u001b[32mconfiguration.\\n\\n    Attributes:\\n        message -- explanation of the error\\n    \"\"\"\\n\\n    def __init__\u001b[0m\u001b[32m(\u001b[0m\u001b[32mself, \u001b[0m\n",
       "\u001b[32mmessage\u001b[0m\u001b[32m=\u001b[0m\u001b[32m\"The\u001b[0m\u001b[32m required configuration is not set\"\u001b[0m\u001b[32m)\u001b[0m\u001b[32m:\\n        self.message = message\\n        \u001b[0m\n",
       "\u001b[32msuper\u001b[0m\u001b[32m(\u001b[0m\u001b[32m)\u001b[0m\u001b[32m.__init__\u001b[0m\u001b[32m(\u001b[0m\u001b[32mself.message\u001b[0m\u001b[32m)\u001b[0m\u001b[32m\\n'\u001b[0m,\n",
       "    \u001b[32m'Config'\u001b[0m: \u001b[32m'class Config\u001b[0m\u001b[32m(\u001b[0m\u001b[32mmetaclass\u001b[0m\u001b[32m=\u001b[0m\u001b[32mSingleton\u001b[0m\u001b[32m)\u001b[0m\u001b[32m:\\n    \"\"\"\\n    常规使用方法：\\n    config = \u001b[0m\n",
       "\u001b[32mConfig\u001b[0m\u001b[32m(\u001b[0m\u001b[32m\"config.yaml\"\u001b[0m\u001b[32m)\u001b[0m\u001b[32m\\n    secret_key = config.get_key\u001b[0m\u001b[32m(\u001b[0m\u001b[32m\"MY_SECRET_KEY\"\u001b[0m\u001b[32m)\u001b[0m\u001b[32m\\n    print\u001b[0m\u001b[32m(\u001b[0m\u001b[32m\"Secret key:\", secret_key\u001b[0m\u001b[32m)\u001b[0m\u001b[32m\\n    \u001b[0m\n",
       "\u001b[32m\"\"\"\\n\\n    _instance = None\\n    key_yaml_file = PROJECT_ROOT / \"config/key.yaml\"\\n    default_yaml_file = \u001b[0m\n",
       "\u001b[32mPROJECT_ROOT / \"config/config.yaml\"\\n\\n    def __init__\u001b[0m\u001b[32m(\u001b[0m\u001b[32mself, \u001b[0m\u001b[32myaml_file\u001b[0m\u001b[32m=\u001b[0m\u001b[32mdefault_yaml_file\u001b[0m\u001b[32m)\u001b[0m\u001b[32m:\\n        self._configs \u001b[0m\n",
       "\u001b[32m= \u001b[0m\u001b[32m{\u001b[0m\u001b[32m}\u001b[0m\u001b[32m\\n        self._init_with_config_files_and_env\u001b[0m\u001b[32m(\u001b[0m\u001b[32mself._configs, yaml_file\u001b[0m\u001b[32m)\u001b[0m\u001b[32m\\n        logger.info\u001b[0m\u001b[32m(\u001b[0m\u001b[32m\"Config loading \u001b[0m\n",
       "\u001b[32mdone.\"\u001b[0m\u001b[32m)\u001b[0m\u001b[32m\\n        self.global_proxy = self._get\u001b[0m\u001b[32m(\u001b[0m\u001b[32m\"GLOBAL_PROXY\"\u001b[0m\u001b[32m)\u001b[0m\u001b[32m\\n        self.openai_api_key = \u001b[0m\n",
       "\u001b[32mself._get\u001b[0m\u001b[32m(\u001b[0m\u001b[32m\"OPENAI_API_KEY\"\u001b[0m\u001b[32m)\u001b[0m\u001b[32m\\n        if not self.openai_api_key or \"YOUR_API_KEY\" == self.openai_api_key:\\n        \u001b[0m\n",
       "\u001b[32mraise NotConfiguredException\u001b[0m\u001b[32m(\u001b[0m\u001b[32m\"Set OPENAI_API_KEY first\"\u001b[0m\u001b[32m)\u001b[0m\u001b[32m\\n\\n        self.openai_api_base = \u001b[0m\n",
       "\u001b[32mself._get\u001b[0m\u001b[32m(\u001b[0m\u001b[32m\"OPENAI_API_BASE\"\u001b[0m\u001b[32m)\u001b[0m\u001b[32m\\n        if not self.openai_api_base or \"YOUR_API_BASE\" == self.openai_api_base:\\n    \u001b[0m\n",
       "\u001b[32mopenai_proxy = self._get\u001b[0m\u001b[32m(\u001b[0m\u001b[32m\"OPENAI_PROXY\"\u001b[0m\u001b[32m)\u001b[0m\u001b[32m or self.global_proxy\\n            if openai_proxy:\\n                \u001b[0m\n",
       "\u001b[32mopenai.proxy = openai_proxy\\n            else:\\n                logger.info\u001b[0m\u001b[32m(\u001b[0m\u001b[32m\"Set OPENAI_API_BASE in case of network\u001b[0m\n",
       "\u001b[32missues\"\u001b[0m\u001b[32m)\u001b[0m\u001b[32m\\n        self.openai_api_type = self._get\u001b[0m\u001b[32m(\u001b[0m\u001b[32m\"OPENAI_API_TYPE\"\u001b[0m\u001b[32m)\u001b[0m\u001b[32m\\n        self.openai_api_version = \u001b[0m\n",
       "\u001b[32mself._get\u001b[0m\u001b[32m(\u001b[0m\u001b[32m\"OPENAI_API_VERSION\"\u001b[0m\u001b[32m)\u001b[0m\u001b[32m\\n        self.openai_api_rpm = self._get\u001b[0m\u001b[32m(\u001b[0m\u001b[32m\"RPM\", 3\u001b[0m\u001b[32m)\u001b[0m\u001b[32m\\n        self.openai_api_model =\u001b[0m\n",
       "\u001b[32mself._get\u001b[0m\u001b[32m(\u001b[0m\u001b[32m\"OPENAI_API_MODEL\", \"gpt-4\"\u001b[0m\u001b[32m)\u001b[0m\u001b[32m\\n        self.max_tokens_rsp = self._get\u001b[0m\u001b[32m(\u001b[0m\u001b[32m\"MAX_TOKENS\", 2048\u001b[0m\u001b[32m)\u001b[0m\u001b[32m\\n        \u001b[0m\n",
       "\u001b[32mself.deployment_id = self._get\u001b[0m\u001b[32m(\u001b[0m\u001b[32m\"DEPLOYMENT_ID\"\u001b[0m\u001b[32m)\u001b[0m\u001b[32m\\n\\n        self.claude_api_key = self._get\u001b[0m\u001b[32m(\u001b[0m\u001b[32m\\'Anthropic_API_KEY\\'\u001b[0m\u001b[32m)\u001b[0m\u001b[32m\\n\u001b[0m\n",
       "\u001b[32mself.serpapi_api_key = self._get\u001b[0m\u001b[32m(\u001b[0m\u001b[32m\"SERPAPI_API_KEY\"\u001b[0m\u001b[32m)\u001b[0m\u001b[32m\\n        self.serper_api_key = self._get\u001b[0m\u001b[32m(\u001b[0m\u001b[32m\"SERPER_API_KEY\"\u001b[0m\u001b[32m)\u001b[0m\u001b[32m\\n   \u001b[0m\n",
       "\u001b[32mself.google_api_key = self._get\u001b[0m\u001b[32m(\u001b[0m\u001b[32m\"GOOGLE_API_KEY\"\u001b[0m\u001b[32m)\u001b[0m\u001b[32m\\n        self.google_cse_id = self._get\u001b[0m\u001b[32m(\u001b[0m\u001b[32m\"GOOGLE_CSE_ID\"\u001b[0m\u001b[32m)\u001b[0m\u001b[32m\\n       \u001b[0m\n",
       "\u001b[32mself.search_engine = self._get\u001b[0m\u001b[32m(\u001b[0m\u001b[32m\"SEARCH_ENGINE\", SearchEngineType.SERPAPI_GOOGLE\u001b[0m\u001b[32m)\u001b[0m\u001b[32m\\n \\n        \u001b[0m\n",
       "\u001b[32mself.web_browser_engine = WebBrowserEngineType\u001b[0m\u001b[32m(\u001b[0m\u001b[32mself._get\u001b[0m\u001b[32m(\u001b[0m\u001b[32m\"WEB_BROWSER_ENGINE\", \"playwright\"\u001b[0m\u001b[32m)\u001b[0m\u001b[32m)\u001b[0m\u001b[32m\\n        \u001b[0m\n",
       "\u001b[32mself.playwright_browser_type = self._get\u001b[0m\u001b[32m(\u001b[0m\u001b[32m\"PLAYWRIGHT_BROWSER_TYPE\", \"chromium\"\u001b[0m\u001b[32m)\u001b[0m\u001b[32m\\n        self.selenium_browser_type\u001b[0m\n",
       "\u001b[32m= self._get\u001b[0m\u001b[32m(\u001b[0m\u001b[32m\"SELENIUM_BROWSER_TYPE\", \"chrome\"\u001b[0m\u001b[32m)\u001b[0m\u001b[32m\\n      \\n        self.long_term_memory = \u001b[0m\n",
       "\u001b[32mself._get\u001b[0m\u001b[32m(\u001b[0m\u001b[32m\\'LONG_TERM_MEMORY\\', False\u001b[0m\u001b[32m)\u001b[0m\u001b[32m\\n        if self.long_term_memory:\\n            \u001b[0m\n",
       "\u001b[32mlogger.warning\u001b[0m\u001b[32m(\u001b[0m\u001b[32m\"LONG_TERM_MEMORY is True\"\u001b[0m\u001b[32m)\u001b[0m\u001b[32m\\n        self.max_budget = self._get\u001b[0m\u001b[32m(\u001b[0m\u001b[32m\"MAX_BUDGET\", 10.0\u001b[0m\u001b[32m)\u001b[0m\u001b[32m\\n        \u001b[0m\n",
       "\u001b[32mself.total_cost = 0.0\\n        self.puppeteer_config = self._get\u001b[0m\u001b[32m(\u001b[0m\u001b[32m\"PUPPETEER_CONFIG\",\"\"\u001b[0m\u001b[32m)\u001b[0m\u001b[32m\\n        self.mmdc = \u001b[0m\n",
       "\u001b[32mself._get\u001b[0m\u001b[32m(\u001b[0m\u001b[32m\"MMDC\",\"mmdc\"\u001b[0m\u001b[32m)\u001b[0m\u001b[32m\\n        self.update_costs = self._get\u001b[0m\u001b[32m(\u001b[0m\u001b[32m\"UPDATE_COSTS\",True\u001b[0m\u001b[32m)\u001b[0m\u001b[32m\\n        self.calc_usage = \u001b[0m\n",
       "\u001b[32mself._get\u001b[0m\u001b[32m(\u001b[0m\u001b[32m\"CALC_USAGE\",True\u001b[0m\u001b[32m)\u001b[0m\u001b[32m\\n\\n        \\n\\n    def _init_with_config_files_and_env\u001b[0m\u001b[32m(\u001b[0m\u001b[32mself, configs: dict, \u001b[0m\n",
       "\u001b[32myaml_file\u001b[0m\u001b[32m)\u001b[0m\u001b[32m:\\n        \"\"\"从config/key.yaml / config/config.yaml / env三处按优先级递减加载\"\"\"\\n        \u001b[0m\n",
       "\u001b[32mconfigs.update\u001b[0m\u001b[32m(\u001b[0m\u001b[32mos.environ\u001b[0m\u001b[32m)\u001b[0m\u001b[32m\\n\\n        for _yaml_file in \u001b[0m\u001b[32m[\u001b[0m\u001b[32myaml_file, self.key_yaml_file\u001b[0m\u001b[32m]\u001b[0m\u001b[32m:\\n            if not \u001b[0m\n",
       "\u001b[32m_yaml_file.exists\u001b[0m\u001b[32m(\u001b[0m\u001b[32m)\u001b[0m\u001b[32m:\\n                continue\\n\\n            # 加载本地 YAML 文件\\n            with \u001b[0m\n",
       "\u001b[32mopen\u001b[0m\u001b[32m(\u001b[0m\u001b[32m_yaml_file, \"r\", \u001b[0m\u001b[32mencoding\u001b[0m\u001b[32m=\u001b[0m\u001b[32m\"utf\u001b[0m\u001b[32m-8\"\u001b[0m\u001b[32m)\u001b[0m\u001b[32m as file:\\n                yaml_data = yaml.safe_load\u001b[0m\u001b[32m(\u001b[0m\u001b[32mfile\u001b[0m\u001b[32m)\u001b[0m\u001b[32m\\n               \u001b[0m\n",
       "\u001b[32mif not yaml_data:\\n                    continue\\n                os.environ.update\u001b[0m\u001b[32m(\u001b[0m\u001b[32m{\u001b[0m\u001b[32mk: v for k, v in \u001b[0m\n",
       "\u001b[32myaml_data.items\u001b[0m\u001b[32m(\u001b[0m\u001b[32m)\u001b[0m\u001b[32m if isinstance\u001b[0m\u001b[32m(\u001b[0m\u001b[32mv, str\u001b[0m\u001b[32m)\u001b[0m\u001b[32m}\u001b[0m\u001b[32m)\u001b[0m\u001b[32m\\n                configs.update\u001b[0m\u001b[32m(\u001b[0m\u001b[32myaml_data\u001b[0m\u001b[32m)\u001b[0m\u001b[32m\\n\\n    def _get\u001b[0m\u001b[32m(\u001b[0m\u001b[32mself, *args, \u001b[0m\n",
       "\u001b[32m**kwargs\u001b[0m\u001b[32m)\u001b[0m\u001b[32m:\\n        return self._configs.get\u001b[0m\u001b[32m(\u001b[0m\u001b[32m*args, **kwargs\u001b[0m\u001b[32m)\u001b[0m\u001b[32m\\n\\n    def get\u001b[0m\u001b[32m(\u001b[0m\u001b[32mself, key, *args, **kwargs\u001b[0m\u001b[32m)\u001b[0m\u001b[32m:\\n        \u001b[0m\n",
       "\u001b[32m\"\"\"从config/key.yaml / config/config.yaml / env三处找值，找不到报错\"\"\"\\n        value = self._get\u001b[0m\u001b[32m(\u001b[0m\u001b[32mkey, *args, \u001b[0m\n",
       "\u001b[32m**kwargs\u001b[0m\u001b[32m)\u001b[0m\u001b[32m\\n        if value is None:\\n            raise ValueError\u001b[0m\u001b[32m(\u001b[0m\u001b[32mf\"Key \\'\u001b[0m\u001b[32m{\u001b[0m\u001b[32mkey\u001b[0m\u001b[32m}\u001b[0m\u001b[32m\\' not found in environment \u001b[0m\n",
       "\u001b[32mvariables or in the YAML file\"\u001b[0m\u001b[32m)\u001b[0m\u001b[32m\\n        return value\\n'\u001b[0m\n",
       "\u001b[1m}\u001b[0m\n"
      ]
     },
     "metadata": {},
     "output_type": "display_data"
    },
    {
     "data": {
      "text/html": [
       "<pre style=\"white-space:pre;overflow-x:auto;line-height:normal;font-family:Menlo,'DejaVu Sans Mono',consolas,'Courier New',monospace\"><span style=\"font-weight: bold\">{}</span>\n",
       "</pre>\n"
      ],
      "text/plain": [
       "\u001b[1m{\u001b[0m\u001b[1m}\u001b[0m\n"
      ]
     },
     "metadata": {},
     "output_type": "display_data"
    },
    {
     "data": {
      "text/html": [
       "<pre style=\"white-space:pre;overflow-x:auto;line-height:normal;font-family:Menlo,'DejaVu Sans Mono',consolas,'Courier New',monospace\"><span style=\"font-weight: bold\">{</span>\n",
       "    <span style=\"color: #008000; text-decoration-color: #008000\">'SoftwareCompany'</span>: <span style=\"color: #008000; text-decoration-color: #008000\">'class SoftwareCompany(BaseModel):\\n    \"\"\"\\n    Software Company: Possesses a team, SOP </span>\n",
       "<span style=\"color: #008000; text-decoration-color: #008000\">(Standard Operating Procedures), and a platform for instant messaging,\\n    dedicated to writing executable code.\\n</span>\n",
       "<span style=\"color: #008000; text-decoration-color: #008000\">\"\"\"\\n    environment: Environment = Field(default_factory=Environment)\\n    investment: float = </span>\n",
       "<span style=\"color: #008000; text-decoration-color: #008000\">Field(default=10.0)\\n    idea: str = Field(default=\"\")\\n\\n    class Config:\\n        arbitrary_types_allowed = </span>\n",
       "<span style=\"color: #008000; text-decoration-color: #008000\">True\\n\\n    def hire(self, roles: list[Role]):\\n        \"\"\"Hire roles to cooperate\"\"\"\\n        </span>\n",
       "<span style=\"color: #008000; text-decoration-color: #008000\">self.environment.add_roles(roles)\\n\\n    def invest(self, investment: float):\\n        \"\"\"Invest company. raise </span>\n",
       "<span style=\"color: #008000; text-decoration-color: #008000\">NoMoneyException when exceed max_budget.\"\"\"\\n        self.investment = investment\\n        CONFIG.max_budget = </span>\n",
       "<span style=\"color: #008000; text-decoration-color: #008000\">investment\\n        logger.info(f\\'Investment: ${investment}.\\')\\n\\n    def _check_balance(self):\\n        if </span>\n",
       "<span style=\"color: #008000; text-decoration-color: #008000\">CONFIG.total_cost &gt; CONFIG.max_budget:\\n            raise NoMoneyException(CONFIG.total_cost, f\\'Insufficient </span>\n",
       "<span style=\"color: #008000; text-decoration-color: #008000\">funds: {CONFIG.max_budget}\\')\\n\\n    def start_project(self, idea):\\n        \"\"\"Start a project from publishing </span>\n",
       "<span style=\"color: #008000; text-decoration-color: #008000\">boss requirement.\"\"\"\\n        self.idea = idea\\n        self.environment.publish_message(Message(role=\"BOSS\", </span>\n",
       "<span style=\"color: #008000; text-decoration-color: #008000\">content=idea, cause_by=BossRequirement))\\n\\n    def _save(self):\\n        logger.info(self.json())\\n\\n    async def</span>\n",
       "<span style=\"color: #008000; text-decoration-color: #008000\">run(self, n_round=3):\\n        \"\"\"Run company until target round or no money\"\"\"\\n        while n_round &gt; 0:\\n      </span>\n",
       "<span style=\"color: #008000; text-decoration-color: #008000\"># self._save()\\n            n_round -= 1\\n            logger.debug(f\"{n_round=}\")\\n            </span>\n",
       "<span style=\"color: #008000; text-decoration-color: #008000\">self._check_balance()\\n            await self.environment.run()\\n        return self.environment.history'</span>\n",
       "<span style=\"font-weight: bold\">}</span>\n",
       "</pre>\n"
      ],
      "text/plain": [
       "\u001b[1m{\u001b[0m\n",
       "    \u001b[32m'SoftwareCompany'\u001b[0m: \u001b[32m'class SoftwareCompany\u001b[0m\u001b[32m(\u001b[0m\u001b[32mBaseModel\u001b[0m\u001b[32m)\u001b[0m\u001b[32m:\\n    \"\"\"\\n    Software Company: Possesses a team, SOP \u001b[0m\n",
       "\u001b[32m(\u001b[0m\u001b[32mStandard Operating Procedures\u001b[0m\u001b[32m)\u001b[0m\u001b[32m, and a platform for instant messaging,\\n    dedicated to writing executable code.\\n\u001b[0m\n",
       "\u001b[32m\"\"\"\\n    environment: Environment = Field\u001b[0m\u001b[32m(\u001b[0m\u001b[32mdefault_factory\u001b[0m\u001b[32m=\u001b[0m\u001b[32mEnvironment\u001b[0m\u001b[32m)\u001b[0m\u001b[32m\\n    investment: float = \u001b[0m\n",
       "\u001b[32mField\u001b[0m\u001b[32m(\u001b[0m\u001b[32mdefault\u001b[0m\u001b[32m=\u001b[0m\u001b[32m10\u001b[0m\u001b[32m.0\u001b[0m\u001b[32m)\u001b[0m\u001b[32m\\n    idea: str = Field\u001b[0m\u001b[32m(\u001b[0m\u001b[32mdefault\u001b[0m\u001b[32m=\"\"\u001b[0m\u001b[32m)\u001b[0m\u001b[32m\\n\\n    class Config:\\n        arbitrary_types_allowed = \u001b[0m\n",
       "\u001b[32mTrue\\n\\n    def hire\u001b[0m\u001b[32m(\u001b[0m\u001b[32mself, roles: list\u001b[0m\u001b[32m[\u001b[0m\u001b[32mRole\u001b[0m\u001b[32m]\u001b[0m\u001b[32m)\u001b[0m\u001b[32m:\\n        \"\"\"Hire roles to cooperate\"\"\"\\n        \u001b[0m\n",
       "\u001b[32mself.environment.add_roles\u001b[0m\u001b[32m(\u001b[0m\u001b[32mroles\u001b[0m\u001b[32m)\u001b[0m\u001b[32m\\n\\n    def invest\u001b[0m\u001b[32m(\u001b[0m\u001b[32mself, investment: float\u001b[0m\u001b[32m)\u001b[0m\u001b[32m:\\n        \"\"\"Invest company. raise \u001b[0m\n",
       "\u001b[32mNoMoneyException when exceed max_budget.\"\"\"\\n        self.investment = investment\\n        CONFIG.max_budget = \u001b[0m\n",
       "\u001b[32minvestment\\n        logger.info\u001b[0m\u001b[32m(\u001b[0m\u001b[32mf\\'Investment: $\u001b[0m\u001b[32m{\u001b[0m\u001b[32minvestment\u001b[0m\u001b[32m}\u001b[0m\u001b[32m.\\'\u001b[0m\u001b[32m)\u001b[0m\u001b[32m\\n\\n    def _check_balance\u001b[0m\u001b[32m(\u001b[0m\u001b[32mself\u001b[0m\u001b[32m)\u001b[0m\u001b[32m:\\n        if \u001b[0m\n",
       "\u001b[32mCONFIG.total_cost > CONFIG.max_budget:\\n            raise NoMoneyException\u001b[0m\u001b[32m(\u001b[0m\u001b[32mCONFIG.total_cost, f\\'Insufficient \u001b[0m\n",
       "\u001b[32mfunds: \u001b[0m\u001b[32m{\u001b[0m\u001b[32mCONFIG.max_budget\u001b[0m\u001b[32m}\u001b[0m\u001b[32m\\'\u001b[0m\u001b[32m)\u001b[0m\u001b[32m\\n\\n    def start_project\u001b[0m\u001b[32m(\u001b[0m\u001b[32mself, idea\u001b[0m\u001b[32m)\u001b[0m\u001b[32m:\\n        \"\"\"Start a project from publishing \u001b[0m\n",
       "\u001b[32mboss requirement.\"\"\"\\n        self.idea = idea\\n        self.environment.publish_message\u001b[0m\u001b[32m(\u001b[0m\u001b[32mMessage\u001b[0m\u001b[32m(\u001b[0m\u001b[32mrole\u001b[0m\u001b[32m=\u001b[0m\u001b[32m\"BOSS\"\u001b[0m\u001b[32m, \u001b[0m\n",
       "\u001b[32mcontent\u001b[0m\u001b[32m=\u001b[0m\u001b[32midea\u001b[0m\u001b[32m, \u001b[0m\u001b[32mcause_by\u001b[0m\u001b[32m=\u001b[0m\u001b[32mBossRequirement\u001b[0m\u001b[32m)\u001b[0m\u001b[32m)\u001b[0m\u001b[32m\\n\\n    def _save\u001b[0m\u001b[32m(\u001b[0m\u001b[32mself\u001b[0m\u001b[32m)\u001b[0m\u001b[32m:\\n        logger.info\u001b[0m\u001b[32m(\u001b[0m\u001b[32mself.json\u001b[0m\u001b[32m(\u001b[0m\u001b[32m)\u001b[0m\u001b[32m)\u001b[0m\u001b[32m\\n\\n    async def\u001b[0m\n",
       "\u001b[32mrun\u001b[0m\u001b[32m(\u001b[0m\u001b[32mself, \u001b[0m\u001b[32mn_round\u001b[0m\u001b[32m=\u001b[0m\u001b[32m3\u001b[0m\u001b[32m)\u001b[0m\u001b[32m:\\n        \"\"\"Run company until target round or no money\"\"\"\\n        while n_round > 0:\\n      \u001b[0m\n",
       "\u001b[32m# self._save\u001b[0m\u001b[32m(\u001b[0m\u001b[32m)\u001b[0m\u001b[32m\\n            n_round -= 1\\n            logger.debug\u001b[0m\u001b[32m(\u001b[0m\u001b[32mf\"\u001b[0m\u001b[32m{\u001b[0m\u001b[32mn_round\u001b[0m\u001b[32m=\u001b[0m\u001b[32m}\u001b[0m\u001b[32m\"\u001b[0m\u001b[32m)\u001b[0m\u001b[32m\\n            \u001b[0m\n",
       "\u001b[32mself._check_balance\u001b[0m\u001b[32m(\u001b[0m\u001b[32m)\u001b[0m\u001b[32m\\n            await self.environment.run\u001b[0m\u001b[32m(\u001b[0m\u001b[32m)\u001b[0m\u001b[32m\\n        return self.environment.history'\u001b[0m\n",
       "\u001b[1m}\u001b[0m\n"
      ]
     },
     "metadata": {},
     "output_type": "display_data"
    },
    {
     "data": {
      "text/html": [
       "<pre style=\"white-space:pre;overflow-x:auto;line-height:normal;font-family:Menlo,'DejaVu Sans Mono',consolas,'Courier New',monospace\"><span style=\"font-weight: bold\">{</span>\n",
       "    <span style=\"color: #008000; text-decoration-color: #008000\">'print_classes_and_functions'</span>: <span style=\"color: #008000; text-decoration-color: #008000\">'def print_classes_and_functions(module):\\n    \"\"\"FIXME: NOT WORK.. \"\"\"\\n    for</span>\n",
       "<span style=\"color: #008000; text-decoration-color: #008000\">name, obj in inspect.getmembers(module):\\n        if inspect.isclass(obj):\\n            print(f\\'Class: {name}\\')\\n</span>\n",
       "<span style=\"color: #008000; text-decoration-color: #008000\">elif inspect.isfunction(obj):\\n            print(f\\'Function: {name}\\')\\n        else:\\n            print(name)\\n\\n</span>\n",
       "<span style=\"color: #008000; text-decoration-color: #008000\">print(dir(module))\\n'</span>\n",
       "<span style=\"font-weight: bold\">}</span>\n",
       "</pre>\n"
      ],
      "text/plain": [
       "\u001b[1m{\u001b[0m\n",
       "    \u001b[32m'print_classes_and_functions'\u001b[0m: \u001b[32m'def print_classes_and_functions\u001b[0m\u001b[32m(\u001b[0m\u001b[32mmodule\u001b[0m\u001b[32m)\u001b[0m\u001b[32m:\\n    \"\"\"FIXME: NOT WORK.. \"\"\"\\n    for\u001b[0m\n",
       "\u001b[32mname, obj in inspect.getmembers\u001b[0m\u001b[32m(\u001b[0m\u001b[32mmodule\u001b[0m\u001b[32m)\u001b[0m\u001b[32m:\\n        if inspect.isclass\u001b[0m\u001b[32m(\u001b[0m\u001b[32mobj\u001b[0m\u001b[32m)\u001b[0m\u001b[32m:\\n            print\u001b[0m\u001b[32m(\u001b[0m\u001b[32mf\\'Class: \u001b[0m\u001b[32m{\u001b[0m\u001b[32mname\u001b[0m\u001b[32m}\u001b[0m\u001b[32m\\'\u001b[0m\u001b[32m)\u001b[0m\u001b[32m\\n\u001b[0m\n",
       "\u001b[32melif inspect.isfunction\u001b[0m\u001b[32m(\u001b[0m\u001b[32mobj\u001b[0m\u001b[32m)\u001b[0m\u001b[32m:\\n            print\u001b[0m\u001b[32m(\u001b[0m\u001b[32mf\\'Function: \u001b[0m\u001b[32m{\u001b[0m\u001b[32mname\u001b[0m\u001b[32m}\u001b[0m\u001b[32m\\'\u001b[0m\u001b[32m)\u001b[0m\u001b[32m\\n        else:\\n            print\u001b[0m\u001b[32m(\u001b[0m\u001b[32mname\u001b[0m\u001b[32m)\u001b[0m\u001b[32m\\n\\n\u001b[0m\n",
       "\u001b[32mprint\u001b[0m\u001b[32m(\u001b[0m\u001b[32mdir\u001b[0m\u001b[32m(\u001b[0m\u001b[32mmodule\u001b[0m\u001b[32m)\u001b[0m\u001b[32m)\u001b[0m\u001b[32m\\n'\u001b[0m\n",
       "\u001b[1m}\u001b[0m\n"
      ]
     },
     "metadata": {},
     "output_type": "display_data"
    },
    {
     "data": {
      "text/html": [
       "<pre style=\"white-space:pre;overflow-x:auto;line-height:normal;font-family:Menlo,'DejaVu Sans Mono',consolas,'Courier New',monospace\"><span style=\"font-weight: bold\">{}</span>\n",
       "</pre>\n"
      ],
      "text/plain": [
       "\u001b[1m{\u001b[0m\u001b[1m}\u001b[0m\n"
      ]
     },
     "metadata": {},
     "output_type": "display_data"
    },
    {
     "data": {
      "text/html": [
       "<pre style=\"white-space:pre;overflow-x:auto;line-height:normal;font-family:Menlo,'DejaVu Sans Mono',consolas,'Courier New',monospace\"><span style=\"font-weight: bold\">{}</span>\n",
       "</pre>\n"
      ],
      "text/plain": [
       "\u001b[1m{\u001b[0m\u001b[1m}\u001b[0m\n"
      ]
     },
     "metadata": {},
     "output_type": "display_data"
    },
    {
     "data": {
      "text/html": [
       "<pre style=\"white-space:pre;overflow-x:auto;line-height:normal;font-family:Menlo,'DejaVu Sans Mono',consolas,'Courier New',monospace\"><span style=\"font-weight: bold\">{}</span>\n",
       "</pre>\n"
      ],
      "text/plain": [
       "\u001b[1m{\u001b[0m\u001b[1m}\u001b[0m\n"
      ]
     },
     "metadata": {},
     "output_type": "display_data"
    },
    {
     "data": {
      "text/html": [
       "<pre style=\"white-space:pre;overflow-x:auto;line-height:normal;font-family:Menlo,'DejaVu Sans Mono',consolas,'Courier New',monospace\"><span style=\"font-weight: bold\">{}</span>\n",
       "</pre>\n"
      ],
      "text/plain": [
       "\u001b[1m{\u001b[0m\u001b[1m}\u001b[0m\n"
      ]
     },
     "metadata": {},
     "output_type": "display_data"
    },
    {
     "data": {
      "text/html": [
       "<pre style=\"white-space:pre;overflow-x:auto;line-height:normal;font-family:Menlo,'DejaVu Sans Mono',consolas,'Courier New',monospace\"><span style=\"font-weight: bold\">{}</span>\n",
       "</pre>\n"
      ],
      "text/plain": [
       "\u001b[1m{\u001b[0m\u001b[1m}\u001b[0m\n"
      ]
     },
     "metadata": {},
     "output_type": "display_data"
    },
    {
     "data": {
      "text/html": [
       "<pre style=\"white-space:pre;overflow-x:auto;line-height:normal;font-family:Menlo,'DejaVu Sans Mono',consolas,'Courier New',monospace\"><span style=\"font-weight: bold\">{</span>\n",
       "    <span style=\"color: #008000; text-decoration-color: #008000\">'define_log_level'</span>: <span style=\"color: #008000; text-decoration-color: #008000\">'def define_log_level(print_level=\"INFO\", logfile_level=\"DEBUG\"):\\n    </span>\n",
       "<span style=\"color: #008000; text-decoration-color: #008000\">\"\"\"调整日志级别到level之上\"\"\"\\n    _logger.remove()\\n    _logger.add(sys.stderr, level=print_level)\\n    </span>\n",
       "<span style=\"color: #008000; text-decoration-color: #008000\">_logger.add(PROJECT_ROOT / \\'logs/log.txt\\', level=logfile_level)\\n    return _logger\\n'</span>\n",
       "<span style=\"font-weight: bold\">}</span>\n",
       "</pre>\n"
      ],
      "text/plain": [
       "\u001b[1m{\u001b[0m\n",
       "    \u001b[32m'define_log_level'\u001b[0m: \u001b[32m'def define_log_level\u001b[0m\u001b[32m(\u001b[0m\u001b[32mprint_level\u001b[0m\u001b[32m=\u001b[0m\u001b[32m\"INFO\"\u001b[0m\u001b[32m, \u001b[0m\u001b[32mlogfile_level\u001b[0m\u001b[32m=\u001b[0m\u001b[32m\"DEBUG\"\u001b[0m\u001b[32m)\u001b[0m\u001b[32m:\\n    \u001b[0m\n",
       "\u001b[32m\"\"\"调整日志级别到level之上\"\"\"\\n    _logger.remove\u001b[0m\u001b[32m(\u001b[0m\u001b[32m)\u001b[0m\u001b[32m\\n    _logger.add\u001b[0m\u001b[32m(\u001b[0m\u001b[32msys.stderr, \u001b[0m\u001b[32mlevel\u001b[0m\u001b[32m=\u001b[0m\u001b[32mprint_level\u001b[0m\u001b[32m)\u001b[0m\u001b[32m\\n    \u001b[0m\n",
       "\u001b[32m_logger.add\u001b[0m\u001b[32m(\u001b[0m\u001b[32mPROJECT_ROOT / \\'logs/log.txt\\', \u001b[0m\u001b[32mlevel\u001b[0m\u001b[32m=\u001b[0m\u001b[32mlogfile_level\u001b[0m\u001b[32m)\u001b[0m\u001b[32m\\n    return _logger\\n'\u001b[0m\n",
       "\u001b[1m}\u001b[0m\n"
      ]
     },
     "metadata": {},
     "output_type": "display_data"
    },
    {
     "data": {
      "text/html": [
       "<pre style=\"white-space:pre;overflow-x:auto;line-height:normal;font-family:Menlo,'DejaVu Sans Mono',consolas,'Courier New',monospace\"><span style=\"font-weight: bold\">{}</span>\n",
       "</pre>\n"
      ],
      "text/plain": [
       "\u001b[1m{\u001b[0m\u001b[1m}\u001b[0m\n"
      ]
     },
     "metadata": {},
     "output_type": "display_data"
    },
    {
     "data": {
      "text/html": [
       "<pre style=\"white-space:pre;overflow-x:auto;line-height:normal;font-family:Menlo,'DejaVu Sans Mono',consolas,'Courier New',monospace\"><span style=\"font-weight: bold\">{}</span>\n",
       "</pre>\n"
      ],
      "text/plain": [
       "\u001b[1m{\u001b[0m\u001b[1m}\u001b[0m\n"
      ]
     },
     "metadata": {},
     "output_type": "display_data"
    },
    {
     "data": {
      "text/html": [
       "<pre style=\"white-space:pre;overflow-x:auto;line-height:normal;font-family:Menlo,'DejaVu Sans Mono',consolas,'Courier New',monospace\"><span style=\"font-weight: bold\">{</span>\n",
       "    <span style=\"color: #008000; text-decoration-color: #008000\">'Environment'</span>: <span style=\"color: #008000; text-decoration-color: #008000\">'class Environment(BaseModel):\\n    </span>\n",
       "<span style=\"color: #008000; text-decoration-color: #008000\">\"\"\"环境，承载一批角色，角色可以向环境发布消息，可以被其他角色观察到\"\"\"\\n\\n    roles: dict[str, Role] = </span>\n",
       "<span style=\"color: #008000; text-decoration-color: #008000\">Field(default_factory=dict)\\n    memory: Memory = Field(default_factory=Memory)\\n    history: str = </span>\n",
       "<span style=\"color: #008000; text-decoration-color: #008000\">Field(default=\\'\\')\\n\\n    class Config:\\n        arbitrary_types_allowed = True\\n\\n    def add_role(self, role: </span>\n",
       "<span style=\"color: #008000; text-decoration-color: #008000\">Role):\\n        \"\"\"增加一个在当前环境的Role\"\"\"\\n        role.set_env(self)\\n        self.roles[role.profile] = </span>\n",
       "<span style=\"color: #008000; text-decoration-color: #008000\">role\\n\\n    def add_roles(self, roles: Iterable[Role]):\\n        \"\"\"增加一批在当前环境的Role\"\"\"\\n        for role </span>\n",
       "<span style=\"color: #008000; text-decoration-color: #008000\">in roles:\\n            self.add_role(role)\\n\\n    def publish_message(self, message: Message):\\n        </span>\n",
       "<span style=\"color: #008000; text-decoration-color: #008000\">\"\"\"向当前环境发布信息\"\"\"\\n        # self.message_queue.put(message)\\n        self.memory.add(message)\\n        </span>\n",
       "<span style=\"color: #008000; text-decoration-color: #008000\">self.history += f\"\\\\n{message}\"\\n\\n    async def run(self, k=1):\\n        \"\"\"处理一次所有Role的运行\"\"\"\\n        # </span>\n",
       "<span style=\"color: #008000; text-decoration-color: #008000\">while not self.message_queue.empty():\\n        # message = self.message_queue.get()\\n        # rsp = await </span>\n",
       "<span style=\"color: #008000; text-decoration-color: #008000\">self.manager.handle(message, self)\\n        # self.message_queue.put(rsp)\\n        for _ in range(k):\\n            </span>\n",
       "<span style=\"color: #008000; text-decoration-color: #008000\">futures = []\\n            for role in self.roles.values():\\n                future = role.run()\\n                </span>\n",
       "<span style=\"color: #008000; text-decoration-color: #008000\">futures.append(future)\\n\\n            await asyncio.gather(*futures)\\n\\n    def get_roles(self) -&gt; dict[str, </span>\n",
       "<span style=\"color: #008000; text-decoration-color: #008000\">Role]:\\n        \"\"\"获得环境内的所有Role\"\"\"\\n        return self.roles\\n\\n    def get_role(self, name: str) -&gt; </span>\n",
       "<span style=\"color: #008000; text-decoration-color: #008000\">Role:\\n        \"\"\"获得环境内的指定Role\"\"\"\\n        return self.roles.get(name, None)'</span>\n",
       "<span style=\"font-weight: bold\">}</span>\n",
       "</pre>\n"
      ],
      "text/plain": [
       "\u001b[1m{\u001b[0m\n",
       "    \u001b[32m'Environment'\u001b[0m: \u001b[32m'class Environment\u001b[0m\u001b[32m(\u001b[0m\u001b[32mBaseModel\u001b[0m\u001b[32m)\u001b[0m\u001b[32m:\\n    \u001b[0m\n",
       "\u001b[32m\"\"\"环境，承载一批角色，角色可以向环境发布消息，可以被其他角色观察到\"\"\"\\n\\n    roles: dict\u001b[0m\u001b[32m[\u001b[0m\u001b[32mstr, Role\u001b[0m\u001b[32m]\u001b[0m\u001b[32m = \u001b[0m\n",
       "\u001b[32mField\u001b[0m\u001b[32m(\u001b[0m\u001b[32mdefault_factory\u001b[0m\u001b[32m=\u001b[0m\u001b[32mdict\u001b[0m\u001b[32m)\u001b[0m\u001b[32m\\n    memory: Memory = Field\u001b[0m\u001b[32m(\u001b[0m\u001b[32mdefault_factory\u001b[0m\u001b[32m=\u001b[0m\u001b[32mMemory\u001b[0m\u001b[32m)\u001b[0m\u001b[32m\\n    history: str = \u001b[0m\n",
       "\u001b[32mField\u001b[0m\u001b[32m(\u001b[0m\u001b[32mdefault\u001b[0m\u001b[32m=\\'\\'\u001b[0m\u001b[32m)\u001b[0m\u001b[32m\\n\\n    class Config:\\n        arbitrary_types_allowed = True\\n\\n    def add_role\u001b[0m\u001b[32m(\u001b[0m\u001b[32mself, role: \u001b[0m\n",
       "\u001b[32mRole\u001b[0m\u001b[32m)\u001b[0m\u001b[32m:\\n        \"\"\"增加一个在当前环境的Role\"\"\"\\n        role.set_env\u001b[0m\u001b[32m(\u001b[0m\u001b[32mself\u001b[0m\u001b[32m)\u001b[0m\u001b[32m\\n        self.roles\u001b[0m\u001b[32m[\u001b[0m\u001b[32mrole.profile\u001b[0m\u001b[32m]\u001b[0m\u001b[32m = \u001b[0m\n",
       "\u001b[32mrole\\n\\n    def add_roles\u001b[0m\u001b[32m(\u001b[0m\u001b[32mself, roles: Iterable\u001b[0m\u001b[32m[\u001b[0m\u001b[32mRole\u001b[0m\u001b[32m]\u001b[0m\u001b[32m)\u001b[0m\u001b[32m:\\n        \"\"\"增加一批在当前环境的Role\"\"\"\\n        for role \u001b[0m\n",
       "\u001b[32min roles:\\n            self.add_role\u001b[0m\u001b[32m(\u001b[0m\u001b[32mrole\u001b[0m\u001b[32m)\u001b[0m\u001b[32m\\n\\n    def publish_message\u001b[0m\u001b[32m(\u001b[0m\u001b[32mself, message: Message\u001b[0m\u001b[32m)\u001b[0m\u001b[32m:\\n        \u001b[0m\n",
       "\u001b[32m\"\"\"向当前环境发布信息\"\"\"\\n        # self.message_queue.put\u001b[0m\u001b[32m(\u001b[0m\u001b[32mmessage\u001b[0m\u001b[32m)\u001b[0m\u001b[32m\\n        self.memory.add\u001b[0m\u001b[32m(\u001b[0m\u001b[32mmessage\u001b[0m\u001b[32m)\u001b[0m\u001b[32m\\n        \u001b[0m\n",
       "\u001b[32mself.history += f\"\\\\n\u001b[0m\u001b[32m{\u001b[0m\u001b[32mmessage\u001b[0m\u001b[32m}\u001b[0m\u001b[32m\"\\n\\n    async def run\u001b[0m\u001b[32m(\u001b[0m\u001b[32mself, \u001b[0m\u001b[32mk\u001b[0m\u001b[32m=\u001b[0m\u001b[32m1\u001b[0m\u001b[32m)\u001b[0m\u001b[32m:\\n        \"\"\"处理一次所有Role的运行\"\"\"\\n        # \u001b[0m\n",
       "\u001b[32mwhile not self.message_queue.empty\u001b[0m\u001b[32m(\u001b[0m\u001b[32m)\u001b[0m\u001b[32m:\\n        # message = self.message_queue.get\u001b[0m\u001b[32m(\u001b[0m\u001b[32m)\u001b[0m\u001b[32m\\n        # rsp = await \u001b[0m\n",
       "\u001b[32mself.manager.handle\u001b[0m\u001b[32m(\u001b[0m\u001b[32mmessage, self\u001b[0m\u001b[32m)\u001b[0m\u001b[32m\\n        # self.message_queue.put\u001b[0m\u001b[32m(\u001b[0m\u001b[32mrsp\u001b[0m\u001b[32m)\u001b[0m\u001b[32m\\n        for _ in range\u001b[0m\u001b[32m(\u001b[0m\u001b[32mk\u001b[0m\u001b[32m)\u001b[0m\u001b[32m:\\n            \u001b[0m\n",
       "\u001b[32mfutures = \u001b[0m\u001b[32m[\u001b[0m\u001b[32m]\u001b[0m\u001b[32m\\n            for role in self.roles.values\u001b[0m\u001b[32m(\u001b[0m\u001b[32m)\u001b[0m\u001b[32m:\\n                future = role.run\u001b[0m\u001b[32m(\u001b[0m\u001b[32m)\u001b[0m\u001b[32m\\n                \u001b[0m\n",
       "\u001b[32mfutures.append\u001b[0m\u001b[32m(\u001b[0m\u001b[32mfuture\u001b[0m\u001b[32m)\u001b[0m\u001b[32m\\n\\n            await asyncio.gather\u001b[0m\u001b[32m(\u001b[0m\u001b[32m*futures\u001b[0m\u001b[32m)\u001b[0m\u001b[32m\\n\\n    def get_roles\u001b[0m\u001b[32m(\u001b[0m\u001b[32mself\u001b[0m\u001b[32m)\u001b[0m\u001b[32m -> dict\u001b[0m\u001b[32m[\u001b[0m\u001b[32mstr, \u001b[0m\n",
       "\u001b[32mRole\u001b[0m\u001b[32m]\u001b[0m\u001b[32m:\\n        \"\"\"获得环境内的所有Role\"\"\"\\n        return self.roles\\n\\n    def get_role\u001b[0m\u001b[32m(\u001b[0m\u001b[32mself, name: str\u001b[0m\u001b[32m)\u001b[0m\u001b[32m -> \u001b[0m\n",
       "\u001b[32mRole:\\n        \"\"\"获得环境内的指定Role\"\"\"\\n        return self.roles.get\u001b[0m\u001b[32m(\u001b[0m\u001b[32mname, None\u001b[0m\u001b[32m)\u001b[0m\u001b[32m'\u001b[0m\n",
       "\u001b[1m}\u001b[0m\n"
      ]
     },
     "metadata": {},
     "output_type": "display_data"
    },
    {
     "data": {
      "text/html": [
       "<pre style=\"white-space:pre;overflow-x:auto;line-height:normal;font-family:Menlo,'DejaVu Sans Mono',consolas,'Courier New',monospace\"><span style=\"font-weight: bold\">{}</span>\n",
       "</pre>\n"
      ],
      "text/plain": [
       "\u001b[1m{\u001b[0m\u001b[1m}\u001b[0m\n"
      ]
     },
     "metadata": {},
     "output_type": "display_data"
    },
    {
     "data": {
      "text/html": [
       "<pre style=\"white-space:pre;overflow-x:auto;line-height:normal;font-family:Menlo,'DejaVu Sans Mono',consolas,'Courier New',monospace\"><span style=\"font-weight: bold\">{</span>\n",
       "    <span style=\"color: #008000; text-decoration-color: #008000\">'Manager'</span>: <span style=\"color: #008000; text-decoration-color: #008000\">'class Manager:\\n    def __init__(self, llm: LLM = LLM()):\\n        self.llm = llm  # Large Language</span>\n",
       "<span style=\"color: #008000; text-decoration-color: #008000\">Model\\n        self.role_directions = {\\n            \"BOSS\": \"Product Manager\",\\n            \"Product Manager\": </span>\n",
       "<span style=\"color: #008000; text-decoration-color: #008000\">\"Architect\",\\n            \"Architect\": \"Engineer\",\\n            \"Engineer\": \"QA Engineer\",\\n            \"QA </span>\n",
       "<span style=\"color: #008000; text-decoration-color: #008000\">Engineer\": \"Product Manager\"\\n        }\\n        self.prompt_template = \"\"\"\\n        Given the following message:\\n</span>\n",
       "<span style=\"color: #008000; text-decoration-color: #008000\">{message}\\n\\n        And the current status of roles:\\n        {roles}\\n\\n        Which role should handle this </span>\n",
       "<span style=\"color: #008000; text-decoration-color: #008000\">message?\\n        \"\"\"\\n\\n    async def handle(self, message: Message, environment):\\n        \"\"\"\\n        </span>\n",
       "<span style=\"color: #008000; text-decoration-color: #008000\">管理员处理信息，现在简单的将信息递交给下一个人\\n        :param message:\\n        :param environment:\\n        </span>\n",
       "<span style=\"color: #008000; text-decoration-color: #008000\">:return:\\n        \"\"\"\\n        # Get all roles from the environment\\n        roles = environment.get_roles()\\n     </span>\n",
       "<span style=\"color: #008000; text-decoration-color: #008000\"># logger.debug(f\"{roles=}, {message=}\")\\n\\n        # Build a context for the LLM to understand the situation\\n     </span>\n",
       "<span style=\"color: #008000; text-decoration-color: #008000\"># context = {\\n        #     \"message\": str(message),\\n        #     \"roles\": {role.name: role.get_info() for role </span>\n",
       "<span style=\"color: #008000; text-decoration-color: #008000\">in roles},\\n        # }\\n        # Ask the LLM to decide which role should handle the message\\n        # </span>\n",
       "<span style=\"color: #008000; text-decoration-color: #008000\">chosen_role_name = self.llm.ask(self.prompt_template.format(context))\\n\\n        # FIXME: </span>\n",
       "<span style=\"color: #008000; text-decoration-color: #008000\">现在通过简单的字典决定流向，但之后还是应该有思考过程\\n        next_role_profile = </span>\n",
       "<span style=\"color: #008000; text-decoration-color: #008000\">self.role_directions[message.role]\\n        # logger.debug(f\"{next_role_profile}\")\\n        for _, role in </span>\n",
       "<span style=\"color: #008000; text-decoration-color: #008000\">roles.items():\\n            if next_role_profile == role.profile:\\n                next_role = role\\n              </span>\n",
       "<span style=\"color: #008000; text-decoration-color: #008000\">break\\n        else:\\n            logger.error(f\"No available role can handle message: {message}.\")\\n            </span>\n",
       "<span style=\"color: #008000; text-decoration-color: #008000\">return\\n\\n        # Find the chosen role and handle the message\\n        return await next_role.handle(message)'</span>\n",
       "<span style=\"font-weight: bold\">}</span>\n",
       "</pre>\n"
      ],
      "text/plain": [
       "\u001b[1m{\u001b[0m\n",
       "    \u001b[32m'Manager'\u001b[0m: \u001b[32m'class Manager:\\n    def __init__\u001b[0m\u001b[32m(\u001b[0m\u001b[32mself, llm: LLM = LLM\u001b[0m\u001b[32m(\u001b[0m\u001b[32m)\u001b[0m\u001b[32m)\u001b[0m\u001b[32m:\\n        self.llm = llm  # Large Language\u001b[0m\n",
       "\u001b[32mModel\\n        self.role_directions = \u001b[0m\u001b[32m{\u001b[0m\u001b[32m\\n            \"BOSS\": \"Product Manager\",\\n            \"Product Manager\": \u001b[0m\n",
       "\u001b[32m\"Architect\",\\n            \"Architect\": \"Engineer\",\\n            \"Engineer\": \"QA Engineer\",\\n            \"QA \u001b[0m\n",
       "\u001b[32mEngineer\": \"Product Manager\"\\n        \u001b[0m\u001b[32m}\u001b[0m\u001b[32m\\n        self.prompt_template = \"\"\"\\n        Given the following message:\\n\u001b[0m\n",
       "\u001b[32m{\u001b[0m\u001b[32mmessage\u001b[0m\u001b[32m}\u001b[0m\u001b[32m\\n\\n        And the current status of roles:\\n        \u001b[0m\u001b[32m{\u001b[0m\u001b[32mroles\u001b[0m\u001b[32m}\u001b[0m\u001b[32m\\n\\n        Which role should handle this \u001b[0m\n",
       "\u001b[32mmessage?\\n        \"\"\"\\n\\n    async def handle\u001b[0m\u001b[32m(\u001b[0m\u001b[32mself, message: Message, environment\u001b[0m\u001b[32m)\u001b[0m\u001b[32m:\\n        \"\"\"\\n        \u001b[0m\n",
       "\u001b[32m管理员处理信息，现在简单的将信息递交给下一个人\\n        :param message:\\n        :param environment:\\n        \u001b[0m\n",
       "\u001b[32m:return:\\n        \"\"\"\\n        # Get all roles from the environment\\n        roles = environment.get_roles\u001b[0m\u001b[32m(\u001b[0m\u001b[32m)\u001b[0m\u001b[32m\\n     \u001b[0m\n",
       "\u001b[32m# logger.debug\u001b[0m\u001b[32m(\u001b[0m\u001b[32mf\"\u001b[0m\u001b[32m{\u001b[0m\u001b[32mroles\u001b[0m\u001b[32m=\u001b[0m\u001b[32m}\u001b[0m\u001b[32m, \u001b[0m\u001b[32m{\u001b[0m\u001b[32mmessage\u001b[0m\u001b[32m=\u001b[0m\u001b[32m}\u001b[0m\u001b[32m\"\u001b[0m\u001b[32m)\u001b[0m\u001b[32m\\n\\n        # Build a context for the LLM to understand the situation\\n     \u001b[0m\n",
       "\u001b[32m# context = \u001b[0m\u001b[32m{\u001b[0m\u001b[32m\\n        #     \"message\": str\u001b[0m\u001b[32m(\u001b[0m\u001b[32mmessage\u001b[0m\u001b[32m)\u001b[0m\u001b[32m,\\n        #     \"roles\": \u001b[0m\u001b[32m{\u001b[0m\u001b[32mrole.name: role.get_info\u001b[0m\u001b[32m(\u001b[0m\u001b[32m)\u001b[0m\u001b[32m for role \u001b[0m\n",
       "\u001b[32min roles\u001b[0m\u001b[32m}\u001b[0m\u001b[32m,\\n        # \u001b[0m\u001b[32m}\u001b[0m\u001b[32m\\n        # Ask the LLM to decide which role should handle the message\\n        # \u001b[0m\n",
       "\u001b[32mchosen_role_name = self.llm.ask\u001b[0m\u001b[32m(\u001b[0m\u001b[32mself.prompt_template.format\u001b[0m\u001b[32m(\u001b[0m\u001b[32mcontext\u001b[0m\u001b[32m)\u001b[0m\u001b[32m)\u001b[0m\u001b[32m\\n\\n        # FIXME: \u001b[0m\n",
       "\u001b[32m现在通过简单的字典决定流向，但之后还是应该有思考过程\\n        next_role_profile = \u001b[0m\n",
       "\u001b[32mself.role_directions\u001b[0m\u001b[32m[\u001b[0m\u001b[32mmessage.role\u001b[0m\u001b[32m]\u001b[0m\u001b[32m\\n        # logger.debug\u001b[0m\u001b[32m(\u001b[0m\u001b[32mf\"\u001b[0m\u001b[32m{\u001b[0m\u001b[32mnext_role_profile\u001b[0m\u001b[32m}\u001b[0m\u001b[32m\"\u001b[0m\u001b[32m)\u001b[0m\u001b[32m\\n        for _, role in \u001b[0m\n",
       "\u001b[32mroles.items\u001b[0m\u001b[32m(\u001b[0m\u001b[32m)\u001b[0m\u001b[32m:\\n            if next_role_profile == role.profile:\\n                next_role = role\\n              \u001b[0m\n",
       "\u001b[32mbreak\\n        else:\\n            logger.error\u001b[0m\u001b[32m(\u001b[0m\u001b[32mf\"No available role can handle message: \u001b[0m\u001b[32m{\u001b[0m\u001b[32mmessage\u001b[0m\u001b[32m}\u001b[0m\u001b[32m.\"\u001b[0m\u001b[32m)\u001b[0m\u001b[32m\\n            \u001b[0m\n",
       "\u001b[32mreturn\\n\\n        # Find the chosen role and handle the message\\n        return await next_role.handle\u001b[0m\u001b[32m(\u001b[0m\u001b[32mmessage\u001b[0m\u001b[32m)\u001b[0m\u001b[32m'\u001b[0m\n",
       "\u001b[1m}\u001b[0m\n"
      ]
     },
     "metadata": {},
     "output_type": "display_data"
    },
    {
     "data": {
      "text/html": [
       "<pre style=\"white-space:pre;overflow-x:auto;line-height:normal;font-family:Menlo,'DejaVu Sans Mono',consolas,'Courier New',monospace\"><span style=\"font-weight: bold\">{</span>\n",
       "    <span style=\"color: #008000; text-decoration-color: #008000\">'get_project_root'</span>: <span style=\"color: #008000; text-decoration-color: #008000\">'def get_project_root():\\n    \"\"\"逐级向上寻找项目根目录\"\"\"\\n    current_path = Path.cwd()\\n</span>\n",
       "<span style=\"color: #008000; text-decoration-color: #008000\">while True:\\n        if (current_path / \\'.git\\').exists() or \\\\\\n           (current_path / </span>\n",
       "<span style=\"color: #008000; text-decoration-color: #008000\">\\'.project_root\\').exists() or \\\\\\n           (current_path / \\'.gitignore\\').exists():\\n            return </span>\n",
       "<span style=\"color: #008000; text-decoration-color: #008000\">current_path\\n        parent_path = current_path.parent\\n        if parent_path == current_path:\\n            raise</span>\n",
       "<span style=\"color: #008000; text-decoration-color: #008000\">Exception(\"Project root not found.\")\\n        current_path = parent_path\\n'</span>\n",
       "<span style=\"font-weight: bold\">}</span>\n",
       "</pre>\n"
      ],
      "text/plain": [
       "\u001b[1m{\u001b[0m\n",
       "    \u001b[32m'get_project_root'\u001b[0m: \u001b[32m'def get_project_root\u001b[0m\u001b[32m(\u001b[0m\u001b[32m)\u001b[0m\u001b[32m:\\n    \"\"\"逐级向上寻找项目根目录\"\"\"\\n    current_path = Path.cwd\u001b[0m\u001b[32m(\u001b[0m\u001b[32m)\u001b[0m\u001b[32m\\n\u001b[0m\n",
       "\u001b[32mwhile True:\\n        if \u001b[0m\u001b[32m(\u001b[0m\u001b[32mcurrent_path / \\'.git\\'\u001b[0m\u001b[32m)\u001b[0m\u001b[32m.exists\u001b[0m\u001b[32m(\u001b[0m\u001b[32m)\u001b[0m\u001b[32m or \\\\\\n           \u001b[0m\u001b[32m(\u001b[0m\u001b[32mcurrent_path / \u001b[0m\n",
       "\u001b[32m\\'.project_root\\'\u001b[0m\u001b[32m)\u001b[0m\u001b[32m.exists\u001b[0m\u001b[32m(\u001b[0m\u001b[32m)\u001b[0m\u001b[32m or \\\\\\n           \u001b[0m\u001b[32m(\u001b[0m\u001b[32mcurrent_path / \\'.gitignore\\'\u001b[0m\u001b[32m)\u001b[0m\u001b[32m.exists\u001b[0m\u001b[32m(\u001b[0m\u001b[32m)\u001b[0m\u001b[32m:\\n            return \u001b[0m\n",
       "\u001b[32mcurrent_path\\n        parent_path = current_path.parent\\n        if parent_path == current_path:\\n            raise\u001b[0m\n",
       "\u001b[32mException\u001b[0m\u001b[32m(\u001b[0m\u001b[32m\"Project root not found.\"\u001b[0m\u001b[32m)\u001b[0m\u001b[32m\\n        current_path = parent_path\\n'\u001b[0m\n",
       "\u001b[1m}\u001b[0m\n"
      ]
     },
     "metadata": {},
     "output_type": "display_data"
    },
    {
     "data": {
      "text/html": [
       "<pre style=\"white-space:pre;overflow-x:auto;line-height:normal;font-family:Menlo,'DejaVu Sans Mono',consolas,'Courier New',monospace\"><span style=\"font-weight: bold\">{}</span>\n",
       "</pre>\n"
      ],
      "text/plain": [
       "\u001b[1m{\u001b[0m\u001b[1m}\u001b[0m\n"
      ]
     },
     "metadata": {},
     "output_type": "display_data"
    },
    {
     "data": {
      "text/html": [
       "<pre style=\"white-space:pre;overflow-x:auto;line-height:normal;font-family:Menlo,'DejaVu Sans Mono',consolas,'Courier New',monospace\"><span style=\"font-weight: bold\">{}</span>\n",
       "</pre>\n"
      ],
      "text/plain": [
       "\u001b[1m{\u001b[0m\u001b[1m}\u001b[0m\n"
      ]
     },
     "metadata": {},
     "output_type": "display_data"
    },
    {
     "data": {
      "text/html": [
       "<pre style=\"white-space:pre;overflow-x:auto;line-height:normal;font-family:Menlo,'DejaVu Sans Mono',consolas,'Courier New',monospace\"><span style=\"font-weight: bold\">{</span>\n",
       "    <span style=\"color: #008000; text-decoration-color: #008000\">'RawMessage'</span>: <span style=\"color: #008000; text-decoration-color: #008000\">'class RawMessage(TypedDict):\\n    content: str\\n    role: str\\n'</span>,\n",
       "    <span style=\"color: #008000; text-decoration-color: #008000\">'Message'</span>: <span style=\"color: #008000; text-decoration-color: #008000\">'class Message:\\n    \"\"\"list[&lt;role&gt;: &lt;content&gt;]\"\"\"\\n    content: str\\n    instruct_content: </span>\n",
       "<span style=\"color: #008000; text-decoration-color: #008000\">BaseModel = field(default=None)\\n    role: str = field(default=\\'user\\')  # system / user / assistant\\n    </span>\n",
       "<span style=\"color: #008000; text-decoration-color: #008000\">cause_by: Type[\"Action\"] = field(default=\"\")\\n\\n    def __str__(self):\\n        # prefix = \\'-\\'.join([self.role, </span>\n",
       "<span style=\"color: #008000; text-decoration-color: #008000\">str(self.cause_by)])\\n        return f\"{self.role}: {self.content}\"\\n\\n    def __repr__(self):\\n        return </span>\n",
       "<span style=\"color: #008000; text-decoration-color: #008000\">self.__str__()\\n\\n    def to_dict(self) -&gt; dict:\\n        return {\\n            \"role\": self.role,\\n            </span>\n",
       "<span style=\"color: #008000; text-decoration-color: #008000\">\"content\": self.content\\n        }\\n'</span>,\n",
       "    <span style=\"color: #008000; text-decoration-color: #008000\">'UserMessage'</span>: <span style=\"color: #008000; text-decoration-color: #008000\">'class UserMessage(Message):\\n    \"\"\"便于支持OpenAI的消息\"\"\"\\n    def __init__(self, content: </span>\n",
       "<span style=\"color: #008000; text-decoration-color: #008000\">str):\\n        super().__init__(content, \\'user\\')\\n'</span>,\n",
       "    <span style=\"color: #008000; text-decoration-color: #008000\">'SystemMessage'</span>: <span style=\"color: #008000; text-decoration-color: #008000\">'class SystemMessage(Message):\\n    \"\"\"便于支持OpenAI的消息\"\"\"\\n    def __init__(self, </span>\n",
       "<span style=\"color: #008000; text-decoration-color: #008000\">content: str):\\n        super().__init__(content, \\'system\\')\\n'</span>,\n",
       "    <span style=\"color: #008000; text-decoration-color: #008000\">'AIMessage'</span>: <span style=\"color: #008000; text-decoration-color: #008000\">'class AIMessage(Message):\\n    \"\"\"便于支持OpenAI的消息\"\"\"\\n    def __init__(self, content: </span>\n",
       "<span style=\"color: #008000; text-decoration-color: #008000\">str):\\n        super().__init__(content, \\'assistant\\')\\n'</span>\n",
       "<span style=\"font-weight: bold\">}</span>\n",
       "</pre>\n"
      ],
      "text/plain": [
       "\u001b[1m{\u001b[0m\n",
       "    \u001b[32m'RawMessage'\u001b[0m: \u001b[32m'class RawMessage\u001b[0m\u001b[32m(\u001b[0m\u001b[32mTypedDict\u001b[0m\u001b[32m)\u001b[0m\u001b[32m:\\n    content: str\\n    role: str\\n'\u001b[0m,\n",
       "    \u001b[32m'Message'\u001b[0m: \u001b[32m'class Message:\\n    \"\"\"list\u001b[0m\u001b[32m[\u001b[0m\u001b[32m<\u001b[0m\u001b[32mrole\u001b[0m\u001b[32m>: <content>\u001b[0m\u001b[32m]\u001b[0m\u001b[32m\"\"\"\\n    content: str\\n    instruct_content: \u001b[0m\n",
       "\u001b[32mBaseModel = field\u001b[0m\u001b[32m(\u001b[0m\u001b[32mdefault\u001b[0m\u001b[32m=\u001b[0m\u001b[32mNone\u001b[0m\u001b[32m)\u001b[0m\u001b[32m\\n    role: str = field\u001b[0m\u001b[32m(\u001b[0m\u001b[32mdefault\u001b[0m\u001b[32m=\\'user\\'\u001b[0m\u001b[32m)\u001b[0m\u001b[32m  # system / user / assistant\\n    \u001b[0m\n",
       "\u001b[32mcause_by: Type\u001b[0m\u001b[32m[\u001b[0m\u001b[32m\"Action\"\u001b[0m\u001b[32m]\u001b[0m\u001b[32m = field\u001b[0m\u001b[32m(\u001b[0m\u001b[32mdefault\u001b[0m\u001b[32m=\"\"\u001b[0m\u001b[32m)\u001b[0m\u001b[32m\\n\\n    def __str__\u001b[0m\u001b[32m(\u001b[0m\u001b[32mself\u001b[0m\u001b[32m)\u001b[0m\u001b[32m:\\n        # prefix = \\'-\\'.join\u001b[0m\u001b[32m(\u001b[0m\u001b[32m[\u001b[0m\u001b[32mself.role, \u001b[0m\n",
       "\u001b[32mstr\u001b[0m\u001b[32m(\u001b[0m\u001b[32mself.cause_by\u001b[0m\u001b[32m)\u001b[0m\u001b[32m]\u001b[0m\u001b[32m)\u001b[0m\u001b[32m\\n        return f\"\u001b[0m\u001b[32m{\u001b[0m\u001b[32mself.role\u001b[0m\u001b[32m}\u001b[0m\u001b[32m: \u001b[0m\u001b[32m{\u001b[0m\u001b[32mself.content\u001b[0m\u001b[32m}\u001b[0m\u001b[32m\"\\n\\n    def __repr__\u001b[0m\u001b[32m(\u001b[0m\u001b[32mself\u001b[0m\u001b[32m)\u001b[0m\u001b[32m:\\n        return \u001b[0m\n",
       "\u001b[32mself.__str__\u001b[0m\u001b[32m(\u001b[0m\u001b[32m)\u001b[0m\u001b[32m\\n\\n    def to_dict\u001b[0m\u001b[32m(\u001b[0m\u001b[32mself\u001b[0m\u001b[32m)\u001b[0m\u001b[32m -\u001b[0m\u001b[32m>\u001b[0m\u001b[32m dict:\\n        return \u001b[0m\u001b[32m{\u001b[0m\u001b[32m\\n            \"role\": self.role,\\n            \u001b[0m\n",
       "\u001b[32m\"content\": self.content\\n        \u001b[0m\u001b[32m}\u001b[0m\u001b[32m\\n'\u001b[0m,\n",
       "    \u001b[32m'UserMessage'\u001b[0m: \u001b[32m'class UserMessage\u001b[0m\u001b[32m(\u001b[0m\u001b[32mMessage\u001b[0m\u001b[32m)\u001b[0m\u001b[32m:\\n    \"\"\"便于支持OpenAI的消息\"\"\"\\n    def __init__\u001b[0m\u001b[32m(\u001b[0m\u001b[32mself, content: \u001b[0m\n",
       "\u001b[32mstr\u001b[0m\u001b[32m)\u001b[0m\u001b[32m:\\n        super\u001b[0m\u001b[32m(\u001b[0m\u001b[32m)\u001b[0m\u001b[32m.__init__\u001b[0m\u001b[32m(\u001b[0m\u001b[32mcontent, \\'user\\'\u001b[0m\u001b[32m)\u001b[0m\u001b[32m\\n'\u001b[0m,\n",
       "    \u001b[32m'SystemMessage'\u001b[0m: \u001b[32m'class SystemMessage\u001b[0m\u001b[32m(\u001b[0m\u001b[32mMessage\u001b[0m\u001b[32m)\u001b[0m\u001b[32m:\\n    \"\"\"便于支持OpenAI的消息\"\"\"\\n    def __init__\u001b[0m\u001b[32m(\u001b[0m\u001b[32mself, \u001b[0m\n",
       "\u001b[32mcontent: str\u001b[0m\u001b[32m)\u001b[0m\u001b[32m:\\n        super\u001b[0m\u001b[32m(\u001b[0m\u001b[32m)\u001b[0m\u001b[32m.__init__\u001b[0m\u001b[32m(\u001b[0m\u001b[32mcontent, \\'system\\'\u001b[0m\u001b[32m)\u001b[0m\u001b[32m\\n'\u001b[0m,\n",
       "    \u001b[32m'AIMessage'\u001b[0m: \u001b[32m'class AIMessage\u001b[0m\u001b[32m(\u001b[0m\u001b[32mMessage\u001b[0m\u001b[32m)\u001b[0m\u001b[32m:\\n    \"\"\"便于支持OpenAI的消息\"\"\"\\n    def __init__\u001b[0m\u001b[32m(\u001b[0m\u001b[32mself, content: \u001b[0m\n",
       "\u001b[32mstr\u001b[0m\u001b[32m)\u001b[0m\u001b[32m:\\n        super\u001b[0m\u001b[32m(\u001b[0m\u001b[32m)\u001b[0m\u001b[32m.__init__\u001b[0m\u001b[32m(\u001b[0m\u001b[32mcontent, \\'assistant\\'\u001b[0m\u001b[32m)\u001b[0m\u001b[32m\\n'\u001b[0m\n",
       "\u001b[1m}\u001b[0m\n"
      ]
     },
     "metadata": {},
     "output_type": "display_data"
    },
    {
     "data": {
      "text/html": [
       "<pre style=\"white-space:pre;overflow-x:auto;line-height:normal;font-family:Menlo,'DejaVu Sans Mono',consolas,'Courier New',monospace\"><span style=\"font-weight: bold\">{}</span>\n",
       "</pre>\n"
      ],
      "text/plain": [
       "\u001b[1m{\u001b[0m\u001b[1m}\u001b[0m\n"
      ]
     },
     "metadata": {},
     "output_type": "display_data"
    },
    {
     "data": {
      "text/html": [
       "<pre style=\"white-space:pre;overflow-x:auto;line-height:normal;font-family:Menlo,'DejaVu Sans Mono',consolas,'Courier New',monospace\"><span style=\"font-weight: bold\">{}</span>\n",
       "</pre>\n"
      ],
      "text/plain": [
       "\u001b[1m{\u001b[0m\u001b[1m}\u001b[0m\n"
      ]
     },
     "metadata": {},
     "output_type": "display_data"
    },
    {
     "data": {
      "text/html": [
       "<pre style=\"white-space:pre;overflow-x:auto;line-height:normal;font-family:Menlo,'DejaVu Sans Mono',consolas,'Courier New',monospace\"><span style=\"font-weight: bold\">{}</span>\n",
       "</pre>\n"
      ],
      "text/plain": [
       "\u001b[1m{\u001b[0m\u001b[1m}\u001b[0m\n"
      ]
     },
     "metadata": {},
     "output_type": "display_data"
    },
    {
     "data": {
      "text/html": [
       "<pre style=\"white-space:pre;overflow-x:auto;line-height:normal;font-family:Menlo,'DejaVu Sans Mono',consolas,'Courier New',monospace\"><span style=\"font-weight: bold\">{</span>\n",
       "    <span style=\"color: #008000; text-decoration-color: #008000\">'DataSource'</span>: <span style=\"color: #008000; text-decoration-color: #008000\">'class DataSource:\\n    def __init__(self, name: str, url: str):\\n        self.name = name\\n     </span>\n",
       "<span style=\"color: #008000; text-decoration-color: #008000\">self.url = url\\n'</span>,\n",
       "    <span style=\"color: #008000; text-decoration-color: #008000\">'MeilisearchEngine'</span>: <span style=\"color: #008000; text-decoration-color: #008000\">'class MeilisearchEngine:\\n    def __init__(self, url, token):\\n        self.client = </span>\n",
       "<span style=\"color: #008000; text-decoration-color: #008000\">meilisearch.Client(url, token)\\n        self._index: Index = None\\n\\n    def set_index(self, index):\\n        </span>\n",
       "<span style=\"color: #008000; text-decoration-color: #008000\">self._index = index\\n\\n    def add_documents(self, data_source: DataSource, documents: List[dict]):\\n        </span>\n",
       "<span style=\"color: #008000; text-decoration-color: #008000\">index_name = f\"{data_source.name}_index\"\\n        if index_name not in self.client.get_indexes():\\n            </span>\n",
       "<span style=\"color: #008000; text-decoration-color: #008000\">self.client.create_index(uid=index_name, options={\\'primaryKey\\': \\'id\\'})\\n        index = </span>\n",
       "<span style=\"color: #008000; text-decoration-color: #008000\">self.client.get_index(index_name)\\n        index.add_documents(documents)\\n        self.set_index(index)\\n\\n    def</span>\n",
       "<span style=\"color: #008000; text-decoration-color: #008000\">search(self, query):\\n        try:\\n            search_results = self._index.search(query)\\n            return </span>\n",
       "<span style=\"color: #008000; text-decoration-color: #008000\">search_results[\\'hits\\']\\n        except Exception as e:\\n            # 处理MeiliSearch API错误\\n            </span>\n",
       "<span style=\"color: #008000; text-decoration-color: #008000\">print(f\"MeiliSearch API错误: {e}\")\\n            return []'</span>\n",
       "<span style=\"font-weight: bold\">}</span>\n",
       "</pre>\n"
      ],
      "text/plain": [
       "\u001b[1m{\u001b[0m\n",
       "    \u001b[32m'DataSource'\u001b[0m: \u001b[32m'class DataSource:\\n    def __init__\u001b[0m\u001b[32m(\u001b[0m\u001b[32mself, name: str, url: str\u001b[0m\u001b[32m)\u001b[0m\u001b[32m:\\n        self.name = name\\n     \u001b[0m\n",
       "\u001b[32mself.url = url\\n'\u001b[0m,\n",
       "    \u001b[32m'MeilisearchEngine'\u001b[0m: \u001b[32m'class MeilisearchEngine:\\n    def __init__\u001b[0m\u001b[32m(\u001b[0m\u001b[32mself, url, token\u001b[0m\u001b[32m)\u001b[0m\u001b[32m:\\n        self.client = \u001b[0m\n",
       "\u001b[32mmeilisearch.Client\u001b[0m\u001b[32m(\u001b[0m\u001b[32murl, token\u001b[0m\u001b[32m)\u001b[0m\u001b[32m\\n        self._index: Index = None\\n\\n    def set_index\u001b[0m\u001b[32m(\u001b[0m\u001b[32mself, index\u001b[0m\u001b[32m)\u001b[0m\u001b[32m:\\n        \u001b[0m\n",
       "\u001b[32mself._index = index\\n\\n    def add_documents\u001b[0m\u001b[32m(\u001b[0m\u001b[32mself, data_source: DataSource, documents: List\u001b[0m\u001b[32m[\u001b[0m\u001b[32mdict\u001b[0m\u001b[32m]\u001b[0m\u001b[32m)\u001b[0m\u001b[32m:\\n        \u001b[0m\n",
       "\u001b[32mindex_name = f\"\u001b[0m\u001b[32m{\u001b[0m\u001b[32mdata_source.name\u001b[0m\u001b[32m}\u001b[0m\u001b[32m_index\"\\n        if index_name not in self.client.get_indexes\u001b[0m\u001b[32m(\u001b[0m\u001b[32m)\u001b[0m\u001b[32m:\\n            \u001b[0m\n",
       "\u001b[32mself.client.create_index\u001b[0m\u001b[32m(\u001b[0m\u001b[32muid\u001b[0m\u001b[32m=\u001b[0m\u001b[32mindex_name\u001b[0m\u001b[32m, \u001b[0m\u001b[32moptions\u001b[0m\u001b[32m=\u001b[0m\u001b[32m{\u001b[0m\u001b[32m\\'primaryKey\\': \\'id\\'\u001b[0m\u001b[32m}\u001b[0m\u001b[32m)\u001b[0m\u001b[32m\\n        index = \u001b[0m\n",
       "\u001b[32mself.client.get_index\u001b[0m\u001b[32m(\u001b[0m\u001b[32mindex_name\u001b[0m\u001b[32m)\u001b[0m\u001b[32m\\n        index.add_documents\u001b[0m\u001b[32m(\u001b[0m\u001b[32mdocuments\u001b[0m\u001b[32m)\u001b[0m\u001b[32m\\n        self.set_index\u001b[0m\u001b[32m(\u001b[0m\u001b[32mindex\u001b[0m\u001b[32m)\u001b[0m\u001b[32m\\n\\n    def\u001b[0m\n",
       "\u001b[32msearch\u001b[0m\u001b[32m(\u001b[0m\u001b[32mself, query\u001b[0m\u001b[32m)\u001b[0m\u001b[32m:\\n        try:\\n            search_results = self._index.search\u001b[0m\u001b[32m(\u001b[0m\u001b[32mquery\u001b[0m\u001b[32m)\u001b[0m\u001b[32m\\n            return \u001b[0m\n",
       "\u001b[32msearch_results\u001b[0m\u001b[32m[\u001b[0m\u001b[32m\\'hits\\'\u001b[0m\u001b[32m]\u001b[0m\u001b[32m\\n        except Exception as e:\\n            # 处理MeiliSearch API错误\\n            \u001b[0m\n",
       "\u001b[32mprint\u001b[0m\u001b[32m(\u001b[0m\u001b[32mf\"MeiliSearch API错误: \u001b[0m\u001b[32m{\u001b[0m\u001b[32me\u001b[0m\u001b[32m}\u001b[0m\u001b[32m\"\u001b[0m\u001b[32m)\u001b[0m\u001b[32m\\n            return \u001b[0m\u001b[32m[\u001b[0m\u001b[32m]\u001b[0m\u001b[32m'\u001b[0m\n",
       "\u001b[1m}\u001b[0m\n"
      ]
     },
     "metadata": {},
     "output_type": "display_data"
    },
    {
     "data": {
      "text/html": [
       "<pre style=\"white-space:pre;overflow-x:auto;line-height:normal;font-family:Menlo,'DejaVu Sans Mono',consolas,'Courier New',monospace\"><span style=\"font-weight: bold\">{}</span>\n",
       "</pre>\n"
      ],
      "text/plain": [
       "\u001b[1m{\u001b[0m\u001b[1m}\u001b[0m\n"
      ]
     },
     "metadata": {},
     "output_type": "display_data"
    },
    {
     "data": {
      "text/html": [
       "<pre style=\"white-space:pre;overflow-x:auto;line-height:normal;font-family:Menlo,'DejaVu Sans Mono',consolas,'Courier New',monospace\"><span style=\"font-weight: bold\">{</span>\n",
       "    <span style=\"color: #008000; text-decoration-color: #008000\">'SerpAPIWrapper'</span>: <span style=\"color: #008000; text-decoration-color: #008000\">'class SerpAPIWrapper(BaseModel):\\n    \"\"\"Wrapper around SerpAPI.\\n\\n    To use, you should </span>\n",
       "<span style=\"color: #008000; text-decoration-color: #008000\">have the ``google-search-results`` python package installed,\\n    and the environment variable ``SERPAPI_API_KEY`` </span>\n",
       "<span style=\"color: #008000; text-decoration-color: #008000\">set with your API key, or pass\\n    `serpapi_api_key` as a named parameter to the constructor.\\n    \"\"\"\\n\\n    </span>\n",
       "<span style=\"color: #008000; text-decoration-color: #008000\">search_engine: Any  #: :meta private:\\n    params: dict = Field(\\n        default={\\n            \"engine\": </span>\n",
       "<span style=\"color: #008000; text-decoration-color: #008000\">\"google\",\\n            \"google_domain\": \"google.com\",\\n            \"gl\": \"us\",\\n            \"hl\": \"en\",\\n        </span>\n",
       "<span style=\"color: #008000; text-decoration-color: #008000\">}\\n    )\\n    config = Config()\\n    serpapi_api_key: Optional[str] = config.serpapi_api_key\\n    aiosession: </span>\n",
       "<span style=\"color: #008000; text-decoration-color: #008000\">Optional[aiohttp.ClientSession] = None\\n\\n    class Config:\\n        arbitrary_types_allowed = True\\n\\n    async </span>\n",
       "<span style=\"color: #008000; text-decoration-color: #008000\">def run(self, query: str, **kwargs: Any) -&gt; str:\\n        \"\"\"Run query through SerpAPI and parse result async.\"\"\"\\n</span>\n",
       "<span style=\"color: #008000; text-decoration-color: #008000\">return self._process_response(await self.results(query))\\n\\n    async def results(self, query: str) -&gt; dict:\\n     </span>\n",
       "<span style=\"color: #008000; text-decoration-color: #008000\">\"\"\"Use aiohttp to run query through SerpAPI and return the results async.\"\"\"\\n\\n        def </span>\n",
       "<span style=\"color: #008000; text-decoration-color: #008000\">construct_url_and_params() -&gt; Tuple[str, Dict[str, str]]:\\n            params = self.get_params(query)\\n           </span>\n",
       "<span style=\"color: #008000; text-decoration-color: #008000\">params[\"source\"] = \"python\"\\n            if self.serpapi_api_key:\\n                params[\"serp_api_key\"] = </span>\n",
       "<span style=\"color: #008000; text-decoration-color: #008000\">self.serpapi_api_key\\n            params[\"output\"] = \"json\"\\n            url = \"https://serpapi.com/search\"\\n      </span>\n",
       "<span style=\"color: #008000; text-decoration-color: #008000\">return url, params\\n\\n        url, params = construct_url_and_params()\\n        if not self.aiosession:\\n          </span>\n",
       "<span style=\"color: #008000; text-decoration-color: #008000\">async with aiohttp.ClientSession() as session:\\n                async with session.get(url, params=params) as </span>\n",
       "<span style=\"color: #008000; text-decoration-color: #008000\">response:\\n                    res = await response.json()\\n        else:\\n            async with </span>\n",
       "<span style=\"color: #008000; text-decoration-color: #008000\">self.aiosession.get(url, params=params) as response:\\n                res = await response.json()\\n\\n        return</span>\n",
       "<span style=\"color: #008000; text-decoration-color: #008000\">res\\n\\n    def get_params(self, query: str) -&gt; Dict[str, str]:\\n        \"\"\"Get parameters for SerpAPI.\"\"\"\\n        </span>\n",
       "<span style=\"color: #008000; text-decoration-color: #008000\">_params = {\\n            \"api_key\": self.serpapi_api_key,\\n            \"q\": query,\\n        }\\n        params = </span>\n",
       "<span style=\"color: #008000; text-decoration-color: #008000\">{**self.params, **_params}\\n        return params\\n\\n    @staticmethod\\n    def _process_response(res: dict) -&gt; </span>\n",
       "<span style=\"color: #008000; text-decoration-color: #008000\">str:\\n        \"\"\"Process response from SerpAPI.\"\"\"\\n        # logger.debug(res)\\n        focus = [\\'title\\', </span>\n",
       "<span style=\"color: #008000; text-decoration-color: #008000\">\\'snippet\\', \\'link\\']\\n        get_focused = lambda x: {i: j for i, j in x.items() if i in focus}\\n\\n        if </span>\n",
       "<span style=\"color: #008000; text-decoration-color: #008000\">\"error\" in res.keys():\\n            raise ValueError(f\"Got error from SerpAPI: {res[\\'error\\']}\")\\n        if </span>\n",
       "<span style=\"color: #008000; text-decoration-color: #008000\">\"answer_box\" in res.keys() and \"answer\" in res[\"answer_box\"].keys():\\n            toret = </span>\n",
       "<span style=\"color: #008000; text-decoration-color: #008000\">res[\"answer_box\"][\"answer\"]\\n        elif \"answer_box\" in res.keys() and \"snippet\" in res[\"answer_box\"].keys():\\n  </span>\n",
       "<span style=\"color: #008000; text-decoration-color: #008000\">toret = res[\"answer_box\"][\"snippet\"]\\n        elif (\\n            \"answer_box\" in res.keys()\\n            and </span>\n",
       "<span style=\"color: #008000; text-decoration-color: #008000\">\"snippet_highlighted_words\" in res[\"answer_box\"].keys()\\n        ):\\n            toret = </span>\n",
       "<span style=\"color: #008000; text-decoration-color: #008000\">res[\"answer_box\"][\"snippet_highlighted_words\"][0]\\n        elif (\\n            \"sports_results\" in res.keys()\\n    </span>\n",
       "<span style=\"color: #008000; text-decoration-color: #008000\">and \"game_spotlight\" in res[\"sports_results\"].keys()\\n        ):\\n            toret = </span>\n",
       "<span style=\"color: #008000; text-decoration-color: #008000\">res[\"sports_results\"][\"game_spotlight\"]\\n        elif (\\n            \"knowledge_graph\" in res.keys()\\n            </span>\n",
       "<span style=\"color: #008000; text-decoration-color: #008000\">and \"description\" in res[\"knowledge_graph\"].keys()\\n        ):\\n            toret = </span>\n",
       "<span style=\"color: #008000; text-decoration-color: #008000\">res[\"knowledge_graph\"][\"description\"]\\n        elif \"snippet\" in res[\"organic_results\"][0].keys():\\n            </span>\n",
       "<span style=\"color: #008000; text-decoration-color: #008000\">toret = res[\"organic_results\"][0][\"snippet\"]\\n        else:\\n            toret = \"No good search result found\"\\n\\n </span>\n",
       "<span style=\"color: #008000; text-decoration-color: #008000\">toret_l = []\\n        if \"answer_box\" in res.keys() and \"snippet\" in res[\"answer_box\"].keys():\\n            toret_l</span>\n",
       "<span style=\"color: #008000; text-decoration-color: #008000\">+= [get_focused(res[\"answer_box\"])]\\n        if res.get(\"organic_results\"):\\n            toret_l += [get_focused(i)</span>\n",
       "<span style=\"color: #008000; text-decoration-color: #008000\">for i in res.get(\"organic_results\")]\\n\\n        return str(toret) + \\'\\\\n\\' + str(toret_l)'</span>\n",
       "<span style=\"font-weight: bold\">}</span>\n",
       "</pre>\n"
      ],
      "text/plain": [
       "\u001b[1m{\u001b[0m\n",
       "    \u001b[32m'SerpAPIWrapper'\u001b[0m: \u001b[32m'class SerpAPIWrapper\u001b[0m\u001b[32m(\u001b[0m\u001b[32mBaseModel\u001b[0m\u001b[32m)\u001b[0m\u001b[32m:\\n    \"\"\"Wrapper around SerpAPI.\\n\\n    To use, you should \u001b[0m\n",
       "\u001b[32mhave the ``google-search-results`` python package installed,\\n    and the environment variable ``SERPAPI_API_KEY`` \u001b[0m\n",
       "\u001b[32mset with your API key, or pass\\n    `serpapi_api_key` as a named parameter to the constructor.\\n    \"\"\"\\n\\n    \u001b[0m\n",
       "\u001b[32msearch_engine: Any  #: :meta private:\\n    params: dict = Field\u001b[0m\u001b[32m(\u001b[0m\u001b[32m\\n        \u001b[0m\u001b[32mdefault\u001b[0m\u001b[32m=\u001b[0m\u001b[32m{\u001b[0m\u001b[32m\\n            \"engine\": \u001b[0m\n",
       "\u001b[32m\"google\",\\n            \"google_domain\": \"google.com\",\\n            \"gl\": \"us\",\\n            \"hl\": \"en\",\\n        \u001b[0m\n",
       "\u001b[32m}\u001b[0m\u001b[32m\\n    \u001b[0m\u001b[32m)\u001b[0m\u001b[32m\\n    config = Config\u001b[0m\u001b[32m(\u001b[0m\u001b[32m)\u001b[0m\u001b[32m\\n    serpapi_api_key: Optional\u001b[0m\u001b[32m[\u001b[0m\u001b[32mstr\u001b[0m\u001b[32m]\u001b[0m\u001b[32m = config.serpapi_api_key\\n    aiosession: \u001b[0m\n",
       "\u001b[32mOptional\u001b[0m\u001b[32m[\u001b[0m\u001b[32maiohttp.ClientSession\u001b[0m\u001b[32m]\u001b[0m\u001b[32m = None\\n\\n    class Config:\\n        arbitrary_types_allowed = True\\n\\n    async \u001b[0m\n",
       "\u001b[32mdef run\u001b[0m\u001b[32m(\u001b[0m\u001b[32mself, query: str, **kwargs: Any\u001b[0m\u001b[32m)\u001b[0m\u001b[32m -> str:\\n        \"\"\"Run query through SerpAPI and parse result async.\"\"\"\\n\u001b[0m\n",
       "\u001b[32mreturn self._process_response\u001b[0m\u001b[32m(\u001b[0m\u001b[32mawait self.results\u001b[0m\u001b[32m(\u001b[0m\u001b[32mquery\u001b[0m\u001b[32m)\u001b[0m\u001b[32m)\u001b[0m\u001b[32m\\n\\n    async def results\u001b[0m\u001b[32m(\u001b[0m\u001b[32mself, query: str\u001b[0m\u001b[32m)\u001b[0m\u001b[32m -> dict:\\n     \u001b[0m\n",
       "\u001b[32m\"\"\"Use aiohttp to run query through SerpAPI and return the results async.\"\"\"\\n\\n        def \u001b[0m\n",
       "\u001b[32mconstruct_url_and_params\u001b[0m\u001b[32m(\u001b[0m\u001b[32m)\u001b[0m\u001b[32m -> Tuple\u001b[0m\u001b[32m[\u001b[0m\u001b[32mstr, Dict\u001b[0m\u001b[32m[\u001b[0m\u001b[32mstr, str\u001b[0m\u001b[32m]\u001b[0m\u001b[32m]\u001b[0m\u001b[32m:\\n            params = self.get_params\u001b[0m\u001b[32m(\u001b[0m\u001b[32mquery\u001b[0m\u001b[32m)\u001b[0m\u001b[32m\\n           \u001b[0m\n",
       "\u001b[32mparams\u001b[0m\u001b[32m[\u001b[0m\u001b[32m\"source\"\u001b[0m\u001b[32m]\u001b[0m\u001b[32m = \"python\"\\n            if self.serpapi_api_key:\\n                params\u001b[0m\u001b[32m[\u001b[0m\u001b[32m\"serp_api_key\"\u001b[0m\u001b[32m]\u001b[0m\u001b[32m = \u001b[0m\n",
       "\u001b[32mself.serpapi_api_key\\n            params\u001b[0m\u001b[32m[\u001b[0m\u001b[32m\"output\"\u001b[0m\u001b[32m]\u001b[0m\u001b[32m = \"json\"\\n            url = \"https://serpapi.com/search\"\\n      \u001b[0m\n",
       "\u001b[32mreturn url, params\\n\\n        url, params = construct_url_and_params\u001b[0m\u001b[32m(\u001b[0m\u001b[32m)\u001b[0m\u001b[32m\\n        if not self.aiosession:\\n          \u001b[0m\n",
       "\u001b[32masync with aiohttp.ClientSession\u001b[0m\u001b[32m(\u001b[0m\u001b[32m)\u001b[0m\u001b[32m as session:\\n                async with session.get\u001b[0m\u001b[32m(\u001b[0m\u001b[32murl, \u001b[0m\u001b[32mparams\u001b[0m\u001b[32m=\u001b[0m\u001b[32mparams\u001b[0m\u001b[32m)\u001b[0m\u001b[32m as \u001b[0m\n",
       "\u001b[32mresponse:\\n                    res = await response.json\u001b[0m\u001b[32m(\u001b[0m\u001b[32m)\u001b[0m\u001b[32m\\n        else:\\n            async with \u001b[0m\n",
       "\u001b[32mself.aiosession.get\u001b[0m\u001b[32m(\u001b[0m\u001b[32murl, \u001b[0m\u001b[32mparams\u001b[0m\u001b[32m=\u001b[0m\u001b[32mparams\u001b[0m\u001b[32m)\u001b[0m\u001b[32m as response:\\n                res = await response.json\u001b[0m\u001b[32m(\u001b[0m\u001b[32m)\u001b[0m\u001b[32m\\n\\n        return\u001b[0m\n",
       "\u001b[32mres\\n\\n    def get_params\u001b[0m\u001b[32m(\u001b[0m\u001b[32mself, query: str\u001b[0m\u001b[32m)\u001b[0m\u001b[32m -> Dict\u001b[0m\u001b[32m[\u001b[0m\u001b[32mstr, str\u001b[0m\u001b[32m]\u001b[0m\u001b[32m:\\n        \"\"\"Get parameters for SerpAPI.\"\"\"\\n        \u001b[0m\n",
       "\u001b[32m_params = \u001b[0m\u001b[32m{\u001b[0m\u001b[32m\\n            \"api_key\": self.serpapi_api_key,\\n            \"q\": query,\\n        \u001b[0m\u001b[32m}\u001b[0m\u001b[32m\\n        params = \u001b[0m\n",
       "\u001b[32m{\u001b[0m\u001b[32m**self.params, **_params\u001b[0m\u001b[32m}\u001b[0m\u001b[32m\\n        return params\\n\\n    @staticmethod\\n    def _process_response\u001b[0m\u001b[32m(\u001b[0m\u001b[32mres: dict\u001b[0m\u001b[32m)\u001b[0m\u001b[32m -> \u001b[0m\n",
       "\u001b[32mstr:\\n        \"\"\"Process response from SerpAPI.\"\"\"\\n        # logger.debug\u001b[0m\u001b[32m(\u001b[0m\u001b[32mres\u001b[0m\u001b[32m)\u001b[0m\u001b[32m\\n        focus = \u001b[0m\u001b[32m[\u001b[0m\u001b[32m\\'title\\', \u001b[0m\n",
       "\u001b[32m\\'snippet\\', \\'link\\'\u001b[0m\u001b[32m]\u001b[0m\u001b[32m\\n        get_focused = lambda x: \u001b[0m\u001b[32m{\u001b[0m\u001b[32mi: j for i, j in x.items\u001b[0m\u001b[32m(\u001b[0m\u001b[32m)\u001b[0m\u001b[32m if i in focus\u001b[0m\u001b[32m}\u001b[0m\u001b[32m\\n\\n        if \u001b[0m\n",
       "\u001b[32m\"error\" in res.keys\u001b[0m\u001b[32m(\u001b[0m\u001b[32m)\u001b[0m\u001b[32m:\\n            raise ValueError\u001b[0m\u001b[32m(\u001b[0m\u001b[32mf\"Got error from SerpAPI: \u001b[0m\u001b[32m{\u001b[0m\u001b[32mres\u001b[0m\u001b[32m[\u001b[0m\u001b[32m\\'error\\'\u001b[0m\u001b[32m]\u001b[0m\u001b[32m}\u001b[0m\u001b[32m\"\u001b[0m\u001b[32m)\u001b[0m\u001b[32m\\n        if \u001b[0m\n",
       "\u001b[32m\"answer_box\" in res.keys\u001b[0m\u001b[32m(\u001b[0m\u001b[32m)\u001b[0m\u001b[32m and \"answer\" in res\u001b[0m\u001b[32m[\u001b[0m\u001b[32m\"answer_box\"\u001b[0m\u001b[32m]\u001b[0m\u001b[32m.keys\u001b[0m\u001b[32m(\u001b[0m\u001b[32m)\u001b[0m\u001b[32m:\\n            toret = \u001b[0m\n",
       "\u001b[32mres\u001b[0m\u001b[32m[\u001b[0m\u001b[32m\"answer_box\"\u001b[0m\u001b[32m]\u001b[0m\u001b[32m[\u001b[0m\u001b[32m\"answer\"\u001b[0m\u001b[32m]\u001b[0m\u001b[32m\\n        elif \"answer_box\" in res.keys\u001b[0m\u001b[32m(\u001b[0m\u001b[32m)\u001b[0m\u001b[32m and \"snippet\" in res\u001b[0m\u001b[32m[\u001b[0m\u001b[32m\"answer_box\"\u001b[0m\u001b[32m]\u001b[0m\u001b[32m.keys\u001b[0m\u001b[32m(\u001b[0m\u001b[32m)\u001b[0m\u001b[32m:\\n  \u001b[0m\n",
       "\u001b[32mtoret = res\u001b[0m\u001b[32m[\u001b[0m\u001b[32m\"answer_box\"\u001b[0m\u001b[32m]\u001b[0m\u001b[32m[\u001b[0m\u001b[32m\"snippet\"\u001b[0m\u001b[32m]\u001b[0m\u001b[32m\\n        elif \u001b[0m\u001b[32m(\u001b[0m\u001b[32m\\n            \"answer_box\" in res.keys\u001b[0m\u001b[32m(\u001b[0m\u001b[32m)\u001b[0m\u001b[32m\\n            and \u001b[0m\n",
       "\u001b[32m\"snippet_highlighted_words\" in res\u001b[0m\u001b[32m[\u001b[0m\u001b[32m\"answer_box\"\u001b[0m\u001b[32m]\u001b[0m\u001b[32m.keys\u001b[0m\u001b[32m(\u001b[0m\u001b[32m)\u001b[0m\u001b[32m\\n        \u001b[0m\u001b[32m)\u001b[0m\u001b[32m:\\n            toret = \u001b[0m\n",
       "\u001b[32mres\u001b[0m\u001b[32m[\u001b[0m\u001b[32m\"answer_box\"\u001b[0m\u001b[32m]\u001b[0m\u001b[32m[\u001b[0m\u001b[32m\"snippet_highlighted_words\"\u001b[0m\u001b[32m]\u001b[0m\u001b[32m[\u001b[0m\u001b[32m0\u001b[0m\u001b[32m]\u001b[0m\u001b[32m\\n        elif \u001b[0m\u001b[32m(\u001b[0m\u001b[32m\\n            \"sports_results\" in res.keys\u001b[0m\u001b[32m(\u001b[0m\u001b[32m)\u001b[0m\u001b[32m\\n    \u001b[0m\n",
       "\u001b[32mand \"game_spotlight\" in res\u001b[0m\u001b[32m[\u001b[0m\u001b[32m\"sports_results\"\u001b[0m\u001b[32m]\u001b[0m\u001b[32m.keys\u001b[0m\u001b[32m(\u001b[0m\u001b[32m)\u001b[0m\u001b[32m\\n        \u001b[0m\u001b[32m)\u001b[0m\u001b[32m:\\n            toret = \u001b[0m\n",
       "\u001b[32mres\u001b[0m\u001b[32m[\u001b[0m\u001b[32m\"sports_results\"\u001b[0m\u001b[32m]\u001b[0m\u001b[32m[\u001b[0m\u001b[32m\"game_spotlight\"\u001b[0m\u001b[32m]\u001b[0m\u001b[32m\\n        elif \u001b[0m\u001b[32m(\u001b[0m\u001b[32m\\n            \"knowledge_graph\" in res.keys\u001b[0m\u001b[32m(\u001b[0m\u001b[32m)\u001b[0m\u001b[32m\\n            \u001b[0m\n",
       "\u001b[32mand \"description\" in res\u001b[0m\u001b[32m[\u001b[0m\u001b[32m\"knowledge_graph\"\u001b[0m\u001b[32m]\u001b[0m\u001b[32m.keys\u001b[0m\u001b[32m(\u001b[0m\u001b[32m)\u001b[0m\u001b[32m\\n        \u001b[0m\u001b[32m)\u001b[0m\u001b[32m:\\n            toret = \u001b[0m\n",
       "\u001b[32mres\u001b[0m\u001b[32m[\u001b[0m\u001b[32m\"knowledge_graph\"\u001b[0m\u001b[32m]\u001b[0m\u001b[32m[\u001b[0m\u001b[32m\"description\"\u001b[0m\u001b[32m]\u001b[0m\u001b[32m\\n        elif \"snippet\" in res\u001b[0m\u001b[32m[\u001b[0m\u001b[32m\"organic_results\"\u001b[0m\u001b[32m]\u001b[0m\u001b[32m[\u001b[0m\u001b[32m0\u001b[0m\u001b[32m]\u001b[0m\u001b[32m.keys\u001b[0m\u001b[32m(\u001b[0m\u001b[32m)\u001b[0m\u001b[32m:\\n            \u001b[0m\n",
       "\u001b[32mtoret = res\u001b[0m\u001b[32m[\u001b[0m\u001b[32m\"organic_results\"\u001b[0m\u001b[32m]\u001b[0m\u001b[32m[\u001b[0m\u001b[32m0\u001b[0m\u001b[32m]\u001b[0m\u001b[32m[\u001b[0m\u001b[32m\"snippet\"\u001b[0m\u001b[32m]\u001b[0m\u001b[32m\\n        else:\\n            toret = \"No good search result found\"\\n\\n \u001b[0m\n",
       "\u001b[32mtoret_l = \u001b[0m\u001b[32m[\u001b[0m\u001b[32m]\u001b[0m\u001b[32m\\n        if \"answer_box\" in res.keys\u001b[0m\u001b[32m(\u001b[0m\u001b[32m)\u001b[0m\u001b[32m and \"snippet\" in res\u001b[0m\u001b[32m[\u001b[0m\u001b[32m\"answer_box\"\u001b[0m\u001b[32m]\u001b[0m\u001b[32m.keys\u001b[0m\u001b[32m(\u001b[0m\u001b[32m)\u001b[0m\u001b[32m:\\n            toret_l\u001b[0m\n",
       "\u001b[32m+= \u001b[0m\u001b[32m[\u001b[0m\u001b[32mget_focused\u001b[0m\u001b[32m(\u001b[0m\u001b[32mres\u001b[0m\u001b[32m[\u001b[0m\u001b[32m\"answer_box\"\u001b[0m\u001b[32m]\u001b[0m\u001b[32m)\u001b[0m\u001b[32m]\u001b[0m\u001b[32m\\n        if res.get\u001b[0m\u001b[32m(\u001b[0m\u001b[32m\"organic_results\"\u001b[0m\u001b[32m)\u001b[0m\u001b[32m:\\n            toret_l += \u001b[0m\u001b[32m[\u001b[0m\u001b[32mget_focused\u001b[0m\u001b[32m(\u001b[0m\u001b[32mi\u001b[0m\u001b[32m)\u001b[0m\n",
       "\u001b[32mfor i in res.get\u001b[0m\u001b[32m(\u001b[0m\u001b[32m\"organic_results\"\u001b[0m\u001b[32m)\u001b[0m\u001b[32m]\u001b[0m\u001b[32m\\n\\n        return str\u001b[0m\u001b[32m(\u001b[0m\u001b[32mtoret\u001b[0m\u001b[32m)\u001b[0m\u001b[32m + \\'\\\\n\\' + str\u001b[0m\u001b[32m(\u001b[0m\u001b[32mtoret_l\u001b[0m\u001b[32m)\u001b[0m\u001b[32m'\u001b[0m\n",
       "\u001b[1m}\u001b[0m\n"
      ]
     },
     "metadata": {},
     "output_type": "display_data"
    },
    {
     "data": {
      "text/html": [
       "<pre style=\"white-space:pre;overflow-x:auto;line-height:normal;font-family:Menlo,'DejaVu Sans Mono',consolas,'Courier New',monospace\"><span style=\"font-weight: bold\">{}</span>\n",
       "</pre>\n"
      ],
      "text/plain": [
       "\u001b[1m{\u001b[0m\u001b[1m}\u001b[0m\n"
      ]
     },
     "metadata": {},
     "output_type": "display_data"
    },
    {
     "data": {
      "text/html": [
       "<pre style=\"white-space:pre;overflow-x:auto;line-height:normal;font-family:Menlo,'DejaVu Sans Mono',consolas,'Courier New',monospace\"><span style=\"font-weight: bold\">{</span>\n",
       "    <span style=\"color: #008000; text-decoration-color: #008000\">'PlaywrightWrapper'</span>: <span style=\"color: #008000; text-decoration-color: #008000\">'class PlaywrightWrapper:\\n    \"\"\"Wrapper around Playwright.\\n\\n    To use this module, </span>\n",
       "<span style=\"color: #008000; text-decoration-color: #008000\">you should have the `playwright` Python package installed and ensure that\\n    the required browsers are also </span>\n",
       "<span style=\"color: #008000; text-decoration-color: #008000\">installed. You can install playwright by running the command\\n    `pip install metagpt[playwright]` and download </span>\n",
       "<span style=\"color: #008000; text-decoration-color: #008000\">the necessary browser binaries by running the\\n    command `playwright install` for the first time.\"\\n    \"\"\"\\n\\n  </span>\n",
       "<span style=\"color: #008000; text-decoration-color: #008000\">def __init__(\\n        self,\\n        browser_type: Literal[\"chromium\", \"firefox\", \"webkit\"] | None = None,\\n      </span>\n",
       "<span style=\"color: #008000; text-decoration-color: #008000\">launch_kwargs: dict | None = None,\\n        **kwargs,\\n    ) -&gt; None:\\n        if browser_type is None:\\n          </span>\n",
       "<span style=\"color: #008000; text-decoration-color: #008000\">browser_type = CONFIG.playwright_browser_type\\n        self.browser_type = browser_type\\n        launch_kwargs = </span>\n",
       "<span style=\"color: #008000; text-decoration-color: #008000\">launch_kwargs or {}\\n        if CONFIG.global_proxy and \"proxy\" not in launch_kwargs:\\n            args = </span>\n",
       "<span style=\"color: #008000; text-decoration-color: #008000\">launch_kwargs.get(\"args\", [])\\n            if not any(str.startswith(i, \"--proxy-server=\") for i in args):\\n       </span>\n",
       "<span style=\"color: #008000; text-decoration-color: #008000\">launch_kwargs[\"proxy\"] = {\"server\": CONFIG.global_proxy}\\n        self.launch_kwargs = launch_kwargs\\n        </span>\n",
       "<span style=\"color: #008000; text-decoration-color: #008000\">context_kwargs = {}\\n        if \"ignore_https_errors\" in kwargs:\\n            context_kwargs[\"ignore_https_errors\"]</span>\n",
       "<span style=\"color: #008000; text-decoration-color: #008000\">= kwargs[\"ignore_https_errors\"]\\n        self._context_kwargs = context_kwargs\\n        self._has_run_precheck = </span>\n",
       "<span style=\"color: #008000; text-decoration-color: #008000\">False\\n\\n    async def run(self, url: str, *urls: str) -&gt; str | list[str]:\\n        async with async_playwright() </span>\n",
       "<span style=\"color: #008000; text-decoration-color: #008000\">as ap:\\n            browser_type = getattr(ap, self.browser_type)\\n            await </span>\n",
       "<span style=\"color: #008000; text-decoration-color: #008000\">self._run_precheck(browser_type)\\n            browser = await browser_type.launch(**self.launch_kwargs)\\n\\n        </span>\n",
       "<span style=\"color: #008000; text-decoration-color: #008000\">async def _scrape(url):\\n                context = await browser.new_context(**self._context_kwargs)\\n             </span>\n",
       "<span style=\"color: #008000; text-decoration-color: #008000\">page = await context.new_page()\\n                async with page:\\n                    try:\\n                      </span>\n",
       "<span style=\"color: #008000; text-decoration-color: #008000\">await page.goto(url)\\n                        await page.evaluate(\"window.scrollTo(0, </span>\n",
       "<span style=\"color: #008000; text-decoration-color: #008000\">document.body.scrollHeight)\")\\n                        content = await page.content()\\n                        </span>\n",
       "<span style=\"color: #008000; text-decoration-color: #008000\">return content\\n                    except Exception as e:\\n                        return f\"Fail to load page </span>\n",
       "<span style=\"color: #008000; text-decoration-color: #008000\">content for {e}\"\\n\\n            if urls:\\n                return await asyncio.gather(_scrape(url), *(_scrape(i) </span>\n",
       "<span style=\"color: #008000; text-decoration-color: #008000\">for i in urls))\\n            return await _scrape(url)\\n\\n    async def _run_precheck(self, browser_type):\\n       </span>\n",
       "<span style=\"color: #008000; text-decoration-color: #008000\">if self._has_run_precheck:\\n            return\\n\\n        executable_path = Path(browser_type.executable_path)\\n   </span>\n",
       "<span style=\"color: #008000; text-decoration-color: #008000\">if not executable_path.exists() and \"executable_path\" not in self.launch_kwargs:\\n            kwargs = {}\\n        </span>\n",
       "<span style=\"color: #008000; text-decoration-color: #008000\">if CONFIG.global_proxy:\\n                kwargs[\"env\"] = {\"ALL_PROXY\": CONFIG.global_proxy}\\n            await </span>\n",
       "<span style=\"color: #008000; text-decoration-color: #008000\">_install_browsers(self.browser_type, **kwargs)\\n            if not executable_path.exists():\\n                parts</span>\n",
       "<span style=\"color: #008000; text-decoration-color: #008000\">= executable_path.parts\\n                available_paths = list(Path(*parts[:-3]).glob(f\"{self.browser_type}-*\"))\\n</span>\n",
       "<span style=\"color: #008000; text-decoration-color: #008000\">if available_paths:\\n                    logger.warning(\\n                        \"It seems that your OS is not </span>\n",
       "<span style=\"color: #008000; text-decoration-color: #008000\">officially supported by Playwright. \"\\n                        \"Try to set executable_path to the fallback build </span>\n",
       "<span style=\"color: #008000; text-decoration-color: #008000\">version.\"\\n                    )\\n                    executable_path = available_paths[0].joinpath(*parts[-2:])\\n </span>\n",
       "<span style=\"color: #008000; text-decoration-color: #008000\">self.launch_kwargs[\"executable_path\"] = str(executable_path)\\n        self._has_run_precheck = True\\n'</span>\n",
       "<span style=\"font-weight: bold\">}</span>\n",
       "</pre>\n"
      ],
      "text/plain": [
       "\u001b[1m{\u001b[0m\n",
       "    \u001b[32m'PlaywrightWrapper'\u001b[0m: \u001b[32m'class PlaywrightWrapper:\\n    \"\"\"Wrapper around Playwright.\\n\\n    To use this module, \u001b[0m\n",
       "\u001b[32myou should have the `playwright` Python package installed and ensure that\\n    the required browsers are also \u001b[0m\n",
       "\u001b[32minstalled. You can install playwright by running the command\\n    `pip install metagpt\u001b[0m\u001b[32m[\u001b[0m\u001b[32mplaywright\u001b[0m\u001b[32m]\u001b[0m\u001b[32m` and download \u001b[0m\n",
       "\u001b[32mthe necessary browser binaries by running the\\n    command `playwright install` for the first time.\"\\n    \"\"\"\\n\\n  \u001b[0m\n",
       "\u001b[32mdef __init__\u001b[0m\u001b[32m(\u001b[0m\u001b[32m\\n        self,\\n        browser_type: Literal\u001b[0m\u001b[32m[\u001b[0m\u001b[32m\"chromium\", \"firefox\", \"webkit\"\u001b[0m\u001b[32m]\u001b[0m\u001b[32m | None = None,\\n      \u001b[0m\n",
       "\u001b[32mlaunch_kwargs: dict | None = None,\\n        **kwargs,\\n    \u001b[0m\u001b[32m)\u001b[0m\u001b[32m -> None:\\n        if browser_type is None:\\n          \u001b[0m\n",
       "\u001b[32mbrowser_type = CONFIG.playwright_browser_type\\n        self.browser_type = browser_type\\n        launch_kwargs = \u001b[0m\n",
       "\u001b[32mlaunch_kwargs or \u001b[0m\u001b[32m{\u001b[0m\u001b[32m}\u001b[0m\u001b[32m\\n        if CONFIG.global_proxy and \"proxy\" not in launch_kwargs:\\n            args = \u001b[0m\n",
       "\u001b[32mlaunch_kwargs.get\u001b[0m\u001b[32m(\u001b[0m\u001b[32m\"args\", \u001b[0m\u001b[32m[\u001b[0m\u001b[32m]\u001b[0m\u001b[32m)\u001b[0m\u001b[32m\\n            if not any\u001b[0m\u001b[32m(\u001b[0m\u001b[32mstr.startswith\u001b[0m\u001b[32m(\u001b[0m\u001b[32mi, \"--proxy-\u001b[0m\u001b[32mserver\u001b[0m\u001b[32m=\"\u001b[0m\u001b[32m)\u001b[0m\u001b[32m for i in args\u001b[0m\u001b[32m)\u001b[0m\u001b[32m:\\n       \u001b[0m\n",
       "\u001b[32mlaunch_kwargs\u001b[0m\u001b[32m[\u001b[0m\u001b[32m\"proxy\"\u001b[0m\u001b[32m]\u001b[0m\u001b[32m = \u001b[0m\u001b[32m{\u001b[0m\u001b[32m\"server\": CONFIG.global_proxy\u001b[0m\u001b[32m}\u001b[0m\u001b[32m\\n        self.launch_kwargs = launch_kwargs\\n        \u001b[0m\n",
       "\u001b[32mcontext_kwargs = \u001b[0m\u001b[32m{\u001b[0m\u001b[32m}\u001b[0m\u001b[32m\\n        if \"ignore_https_errors\" in kwargs:\\n            context_kwargs\u001b[0m\u001b[32m[\u001b[0m\u001b[32m\"ignore_https_errors\"\u001b[0m\u001b[32m]\u001b[0m\n",
       "\u001b[32m= kwargs\u001b[0m\u001b[32m[\u001b[0m\u001b[32m\"ignore_https_errors\"\u001b[0m\u001b[32m]\u001b[0m\u001b[32m\\n        self._context_kwargs = context_kwargs\\n        self._has_run_precheck = \u001b[0m\n",
       "\u001b[32mFalse\\n\\n    async def run\u001b[0m\u001b[32m(\u001b[0m\u001b[32mself, url: str, *urls: str\u001b[0m\u001b[32m)\u001b[0m\u001b[32m -> str | list\u001b[0m\u001b[32m[\u001b[0m\u001b[32mstr\u001b[0m\u001b[32m]\u001b[0m\u001b[32m:\\n        async with async_playwright\u001b[0m\u001b[32m(\u001b[0m\u001b[32m)\u001b[0m\u001b[32m \u001b[0m\n",
       "\u001b[32mas ap:\\n            browser_type = getattr\u001b[0m\u001b[32m(\u001b[0m\u001b[32map, self.browser_type\u001b[0m\u001b[32m)\u001b[0m\u001b[32m\\n            await \u001b[0m\n",
       "\u001b[32mself._run_precheck\u001b[0m\u001b[32m(\u001b[0m\u001b[32mbrowser_type\u001b[0m\u001b[32m)\u001b[0m\u001b[32m\\n            browser = await browser_type.launch\u001b[0m\u001b[32m(\u001b[0m\u001b[32m**self.launch_kwargs\u001b[0m\u001b[32m)\u001b[0m\u001b[32m\\n\\n        \u001b[0m\n",
       "\u001b[32masync def _scrape\u001b[0m\u001b[32m(\u001b[0m\u001b[32murl\u001b[0m\u001b[32m)\u001b[0m\u001b[32m:\\n                context = await browser.new_context\u001b[0m\u001b[32m(\u001b[0m\u001b[32m**self._context_kwargs\u001b[0m\u001b[32m)\u001b[0m\u001b[32m\\n             \u001b[0m\n",
       "\u001b[32mpage = await context.new_page\u001b[0m\u001b[32m(\u001b[0m\u001b[32m)\u001b[0m\u001b[32m\\n                async with page:\\n                    try:\\n                      \u001b[0m\n",
       "\u001b[32mawait page.goto\u001b[0m\u001b[32m(\u001b[0m\u001b[32murl\u001b[0m\u001b[32m)\u001b[0m\u001b[32m\\n                        await page.evaluate\u001b[0m\u001b[32m(\u001b[0m\u001b[32m\"window.scrollTo\u001b[0m\u001b[32m(\u001b[0m\u001b[32m0, \u001b[0m\n",
       "\u001b[32mdocument.body.scrollHeight\u001b[0m\u001b[32m)\u001b[0m\u001b[32m\"\u001b[0m\u001b[32m)\u001b[0m\u001b[32m\\n                        content = await page.content\u001b[0m\u001b[32m(\u001b[0m\u001b[32m)\u001b[0m\u001b[32m\\n                        \u001b[0m\n",
       "\u001b[32mreturn content\\n                    except Exception as e:\\n                        return f\"Fail to load page \u001b[0m\n",
       "\u001b[32mcontent for \u001b[0m\u001b[32m{\u001b[0m\u001b[32me\u001b[0m\u001b[32m}\u001b[0m\u001b[32m\"\\n\\n            if urls:\\n                return await asyncio.gather\u001b[0m\u001b[32m(\u001b[0m\u001b[32m_scrape\u001b[0m\u001b[32m(\u001b[0m\u001b[32murl\u001b[0m\u001b[32m)\u001b[0m\u001b[32m, *\u001b[0m\u001b[32m(\u001b[0m\u001b[32m_scrape\u001b[0m\u001b[32m(\u001b[0m\u001b[32mi\u001b[0m\u001b[32m)\u001b[0m\u001b[32m \u001b[0m\n",
       "\u001b[32mfor i in urls\u001b[0m\u001b[32m)\u001b[0m\u001b[32m)\u001b[0m\u001b[32m\\n            return await _scrape\u001b[0m\u001b[32m(\u001b[0m\u001b[32murl\u001b[0m\u001b[32m)\u001b[0m\u001b[32m\\n\\n    async def _run_precheck\u001b[0m\u001b[32m(\u001b[0m\u001b[32mself, browser_type\u001b[0m\u001b[32m)\u001b[0m\u001b[32m:\\n       \u001b[0m\n",
       "\u001b[32mif self._has_run_precheck:\\n            return\\n\\n        executable_path = Path\u001b[0m\u001b[32m(\u001b[0m\u001b[32mbrowser_type.executable_path\u001b[0m\u001b[32m)\u001b[0m\u001b[32m\\n   \u001b[0m\n",
       "\u001b[32mif not executable_path.exists\u001b[0m\u001b[32m(\u001b[0m\u001b[32m)\u001b[0m\u001b[32m and \"executable_path\" not in self.launch_kwargs:\\n            kwargs = \u001b[0m\u001b[32m{\u001b[0m\u001b[32m}\u001b[0m\u001b[32m\\n        \u001b[0m\n",
       "\u001b[32mif CONFIG.global_proxy:\\n                kwargs\u001b[0m\u001b[32m[\u001b[0m\u001b[32m\"env\"\u001b[0m\u001b[32m]\u001b[0m\u001b[32m = \u001b[0m\u001b[32m{\u001b[0m\u001b[32m\"ALL_PROXY\": CONFIG.global_proxy\u001b[0m\u001b[32m}\u001b[0m\u001b[32m\\n            await \u001b[0m\n",
       "\u001b[32m_install_browsers\u001b[0m\u001b[32m(\u001b[0m\u001b[32mself.browser_type, **kwargs\u001b[0m\u001b[32m)\u001b[0m\u001b[32m\\n            if not executable_path.exists\u001b[0m\u001b[32m(\u001b[0m\u001b[32m)\u001b[0m\u001b[32m:\\n                parts\u001b[0m\n",
       "\u001b[32m= executable_path.parts\\n                available_paths = list\u001b[0m\u001b[32m(\u001b[0m\u001b[32mPath\u001b[0m\u001b[32m(\u001b[0m\u001b[32m*parts\u001b[0m\u001b[32m[\u001b[0m\u001b[32m:-3\u001b[0m\u001b[32m]\u001b[0m\u001b[32m)\u001b[0m\u001b[32m.glob\u001b[0m\u001b[32m(\u001b[0m\u001b[32mf\"\u001b[0m\u001b[32m{\u001b[0m\u001b[32mself.browser_type\u001b[0m\u001b[32m}\u001b[0m\u001b[32m-*\"\u001b[0m\u001b[32m)\u001b[0m\u001b[32m)\u001b[0m\u001b[32m\\n\u001b[0m\n",
       "\u001b[32mif available_paths:\\n                    logger.warning\u001b[0m\u001b[32m(\u001b[0m\u001b[32m\\n                        \"It seems that your OS is not \u001b[0m\n",
       "\u001b[32mofficially supported by Playwright. \"\\n                        \"Try to set executable_path to the fallback build \u001b[0m\n",
       "\u001b[32mversion.\"\\n                    \u001b[0m\u001b[32m)\u001b[0m\u001b[32m\\n                    executable_path = available_paths\u001b[0m\u001b[32m[\u001b[0m\u001b[32m0\u001b[0m\u001b[32m]\u001b[0m\u001b[32m.joinpath\u001b[0m\u001b[32m(\u001b[0m\u001b[32m*parts\u001b[0m\u001b[32m[\u001b[0m\u001b[32m-2:\u001b[0m\u001b[32m]\u001b[0m\u001b[32m)\u001b[0m\u001b[32m\\n \u001b[0m\n",
       "\u001b[32mself.launch_kwargs\u001b[0m\u001b[32m[\u001b[0m\u001b[32m\"executable_path\"\u001b[0m\u001b[32m]\u001b[0m\u001b[32m = str\u001b[0m\u001b[32m(\u001b[0m\u001b[32mexecutable_path\u001b[0m\u001b[32m)\u001b[0m\u001b[32m\\n        self._has_run_precheck = True\\n'\u001b[0m\n",
       "\u001b[1m}\u001b[0m\n"
      ]
     },
     "metadata": {},
     "output_type": "display_data"
    },
    {
     "data": {
      "text/html": [
       "<pre style=\"white-space:pre;overflow-x:auto;line-height:normal;font-family:Menlo,'DejaVu Sans Mono',consolas,'Courier New',monospace\"><span style=\"font-weight: bold\">{</span>\n",
       "    <span style=\"color: #008000; text-decoration-color: #008000\">'google_official_search'</span>: <span style=\"color: #008000; text-decoration-color: #008000\">'def google_official_search(query: str, num_results: int = 8, focus=[\\'snippet\\', </span>\n",
       "<span style=\"color: #008000; text-decoration-color: #008000\">\\'link\\', \\'title\\']) -&gt; dict | list[dict]:\\n    \"\"\"Return the results of a Google search using the official Google</span>\n",
       "<span style=\"color: #008000; text-decoration-color: #008000\">API\\n\\n    Args:\\n        query (str): The search query.\\n        num_results (int): The number of results to </span>\n",
       "<span style=\"color: #008000; text-decoration-color: #008000\">return.\\n\\n    Returns:\\n        str: The results of the search.\\n    \"\"\"\\n\\n    from googleapiclient.discovery </span>\n",
       "<span style=\"color: #008000; text-decoration-color: #008000\">import build\\n    from googleapiclient.errors import HttpError\\n\\n    try:\\n        api_key = </span>\n",
       "<span style=\"color: #008000; text-decoration-color: #008000\">config.google_api_key\\n        custom_search_engine_id = config.google_cse_id\\n\\n        with build(\"customsearch\",</span>\n",
       "<span style=\"color: #008000; text-decoration-color: #008000\">\"v1\", developerKey=api_key) as service:\\n\\n            result = (\\n                service.cse()\\n                </span>\n",
       "<span style=\"color: #008000; text-decoration-color: #008000\">.list(q=query, cx=custom_search_engine_id, num=num_results)\\n                .execute()\\n            )\\n           </span>\n",
       "<span style=\"color: #008000; text-decoration-color: #008000\">logger.info(result)\\n            # Extract the search result items from the response\\n        search_results = </span>\n",
       "<span style=\"color: #008000; text-decoration-color: #008000\">result.get(\"items\", [])\\n\\n        # Create a list of only the URLs from the search results\\n        </span>\n",
       "<span style=\"color: #008000; text-decoration-color: #008000\">search_results_details = [{i: j for i, j in item_dict.items() if i in focus} for item_dict in search_results]\\n\\n  </span>\n",
       "<span style=\"color: #008000; text-decoration-color: #008000\">except HttpError as e:\\n        # Handle errors in the API call\\n        error_details = </span>\n",
       "<span style=\"color: #008000; text-decoration-color: #008000\">json.loads(e.content.decode())\\n\\n        # Check if the error is related to an invalid or missing API key\\n       </span>\n",
       "<span style=\"color: #008000; text-decoration-color: #008000\">if error_details.get(\"error\", {}).get(\\n            \"code\"\\n        ) == 403 and \"invalid API key\" in </span>\n",
       "<span style=\"color: #008000; text-decoration-color: #008000\">error_details.get(\"error\", {}).get(\\n            \"message\", \"\"\\n        ):\\n            return \"Error: The provided</span>\n",
       "<span style=\"color: #008000; text-decoration-color: #008000\">Google API key is invalid or missing.\"\\n        else:\\n            return f\"Error: {e}\"\\n    # google_result can be</span>\n",
       "<span style=\"color: #008000; text-decoration-color: #008000\">a list or a string depending on the search results\\n\\n    # Return the list of search result URLs\\n    return </span>\n",
       "<span style=\"color: #008000; text-decoration-color: #008000\">search_results_details\\n'</span>,\n",
       "    <span style=\"color: #008000; text-decoration-color: #008000\">'safe_google_results'</span>: <span style=\"color: #008000; text-decoration-color: #008000\">'def safe_google_results(results: str | list) -&gt; str:\\n    \"\"\"\\n        Return the </span>\n",
       "<span style=\"color: #008000; text-decoration-color: #008000\">results of a google search in a safe format.\\n\\n    Args:\\n        results (str | list): The search results.\\n\\n   </span>\n",
       "<span style=\"color: #008000; text-decoration-color: #008000\">Returns:\\n        str: The results of the search.\\n    \"\"\"\\n    if isinstance(results, list):\\n        safe_message</span>\n",
       "<span style=\"color: #008000; text-decoration-color: #008000\">= json.dumps(\\n            # FIXME: # .encode(\"utf-8\", \"ignore\") 这里去掉了，但是AutoGPT里有，很奇怪\\n            </span>\n",
       "<span style=\"color: #008000; text-decoration-color: #008000\">[result for result in results]\\n        )\\n    else:\\n        safe_message = results.encode(\"utf-8\", </span>\n",
       "<span style=\"color: #008000; text-decoration-color: #008000\">\"ignore\").decode(\"utf-8\")\\n    return safe_message\\n'</span>\n",
       "<span style=\"font-weight: bold\">}</span>\n",
       "</pre>\n"
      ],
      "text/plain": [
       "\u001b[1m{\u001b[0m\n",
       "    \u001b[32m'google_official_search'\u001b[0m: \u001b[32m'def google_official_search\u001b[0m\u001b[32m(\u001b[0m\u001b[32mquery: str, num_results: int = 8, \u001b[0m\u001b[32mfocus\u001b[0m\u001b[32m=\u001b[0m\u001b[32m[\u001b[0m\u001b[32m\\'snippet\\', \u001b[0m\n",
       "\u001b[32m\\'link\\', \\'title\\'\u001b[0m\u001b[32m]\u001b[0m\u001b[32m)\u001b[0m\u001b[32m -> dict | list\u001b[0m\u001b[32m[\u001b[0m\u001b[32mdict\u001b[0m\u001b[32m]\u001b[0m\u001b[32m:\\n    \"\"\"Return the results of a Google search using the official Google\u001b[0m\n",
       "\u001b[32mAPI\\n\\n    Args:\\n        query \u001b[0m\u001b[32m(\u001b[0m\u001b[32mstr\u001b[0m\u001b[32m)\u001b[0m\u001b[32m: The search query.\\n        num_results \u001b[0m\u001b[32m(\u001b[0m\u001b[32mint\u001b[0m\u001b[32m)\u001b[0m\u001b[32m: The number of results to \u001b[0m\n",
       "\u001b[32mreturn.\\n\\n    Returns:\\n        str: The results of the search.\\n    \"\"\"\\n\\n    from googleapiclient.discovery \u001b[0m\n",
       "\u001b[32mimport build\\n    from googleapiclient.errors import HttpError\\n\\n    try:\\n        api_key = \u001b[0m\n",
       "\u001b[32mconfig.google_api_key\\n        custom_search_engine_id = config.google_cse_id\\n\\n        with build\u001b[0m\u001b[32m(\u001b[0m\u001b[32m\"customsearch\",\u001b[0m\n",
       "\u001b[32m\"v1\", \u001b[0m\u001b[32mdeveloperKey\u001b[0m\u001b[32m=\u001b[0m\u001b[32mapi_key\u001b[0m\u001b[32m)\u001b[0m\u001b[32m as service:\\n\\n            result = \u001b[0m\u001b[32m(\u001b[0m\u001b[32m\\n                service.cse\u001b[0m\u001b[32m(\u001b[0m\u001b[32m)\u001b[0m\u001b[32m\\n                \u001b[0m\n",
       "\u001b[32m.list\u001b[0m\u001b[32m(\u001b[0m\u001b[32mq\u001b[0m\u001b[32m=\u001b[0m\u001b[32mquery\u001b[0m\u001b[32m, \u001b[0m\u001b[32mcx\u001b[0m\u001b[32m=\u001b[0m\u001b[32mcustom_search_engine_id\u001b[0m\u001b[32m, \u001b[0m\u001b[32mnum\u001b[0m\u001b[32m=\u001b[0m\u001b[32mnum_results\u001b[0m\u001b[32m)\u001b[0m\u001b[32m\\n                .execute\u001b[0m\u001b[32m(\u001b[0m\u001b[32m)\u001b[0m\u001b[32m\\n            \u001b[0m\u001b[32m)\u001b[0m\u001b[32m\\n           \u001b[0m\n",
       "\u001b[32mlogger.info\u001b[0m\u001b[32m(\u001b[0m\u001b[32mresult\u001b[0m\u001b[32m)\u001b[0m\u001b[32m\\n            # Extract the search result items from the response\\n        search_results = \u001b[0m\n",
       "\u001b[32mresult.get\u001b[0m\u001b[32m(\u001b[0m\u001b[32m\"items\", \u001b[0m\u001b[32m[\u001b[0m\u001b[32m]\u001b[0m\u001b[32m)\u001b[0m\u001b[32m\\n\\n        # Create a list of only the URLs from the search results\\n        \u001b[0m\n",
       "\u001b[32msearch_results_details = \u001b[0m\u001b[32m[\u001b[0m\u001b[32m{\u001b[0m\u001b[32mi: j for i, j in item_dict.items\u001b[0m\u001b[32m(\u001b[0m\u001b[32m)\u001b[0m\u001b[32m if i in focus\u001b[0m\u001b[32m}\u001b[0m\u001b[32m for item_dict in search_results\u001b[0m\u001b[32m]\u001b[0m\u001b[32m\\n\\n  \u001b[0m\n",
       "\u001b[32mexcept HttpError as e:\\n        # Handle errors in the API call\\n        error_details = \u001b[0m\n",
       "\u001b[32mjson.loads\u001b[0m\u001b[32m(\u001b[0m\u001b[32me.content.decode\u001b[0m\u001b[32m(\u001b[0m\u001b[32m)\u001b[0m\u001b[32m)\u001b[0m\u001b[32m\\n\\n        # Check if the error is related to an invalid or missing API key\\n       \u001b[0m\n",
       "\u001b[32mif error_details.get\u001b[0m\u001b[32m(\u001b[0m\u001b[32m\"error\", \u001b[0m\u001b[32m{\u001b[0m\u001b[32m}\u001b[0m\u001b[32m)\u001b[0m\u001b[32m.get\u001b[0m\u001b[32m(\u001b[0m\u001b[32m\\n            \"code\"\\n        \u001b[0m\u001b[32m)\u001b[0m\u001b[32m == 403 and \"invalid API key\" in \u001b[0m\n",
       "\u001b[32merror_details.get\u001b[0m\u001b[32m(\u001b[0m\u001b[32m\"error\", \u001b[0m\u001b[32m{\u001b[0m\u001b[32m}\u001b[0m\u001b[32m)\u001b[0m\u001b[32m.get\u001b[0m\u001b[32m(\u001b[0m\u001b[32m\\n            \"message\", \"\"\\n        \u001b[0m\u001b[32m)\u001b[0m\u001b[32m:\\n            return \"Error: The provided\u001b[0m\n",
       "\u001b[32mGoogle API key is invalid or missing.\"\\n        else:\\n            return f\"Error: \u001b[0m\u001b[32m{\u001b[0m\u001b[32me\u001b[0m\u001b[32m}\u001b[0m\u001b[32m\"\\n    # google_result can be\u001b[0m\n",
       "\u001b[32ma list or a string depending on the search results\\n\\n    # Return the list of search result URLs\\n    return \u001b[0m\n",
       "\u001b[32msearch_results_details\\n'\u001b[0m,\n",
       "    \u001b[32m'safe_google_results'\u001b[0m: \u001b[32m'def safe_google_results\u001b[0m\u001b[32m(\u001b[0m\u001b[32mresults: str | list\u001b[0m\u001b[32m)\u001b[0m\u001b[32m -> str:\\n    \"\"\"\\n        Return the \u001b[0m\n",
       "\u001b[32mresults of a google search in a safe format.\\n\\n    Args:\\n        results \u001b[0m\u001b[32m(\u001b[0m\u001b[32mstr | list\u001b[0m\u001b[32m)\u001b[0m\u001b[32m: The search results.\\n\\n   \u001b[0m\n",
       "\u001b[32mReturns:\\n        str: The results of the search.\\n    \"\"\"\\n    if isinstance\u001b[0m\u001b[32m(\u001b[0m\u001b[32mresults, list\u001b[0m\u001b[32m)\u001b[0m\u001b[32m:\\n        safe_message\u001b[0m\n",
       "\u001b[32m= json.dumps\u001b[0m\u001b[32m(\u001b[0m\u001b[32m\\n            # FIXME: # .encode\u001b[0m\u001b[32m(\u001b[0m\u001b[32m\"utf-8\", \"ignore\"\u001b[0m\u001b[32m)\u001b[0m\u001b[32m 这里去掉了，但是AutoGPT里有，很奇怪\\n            \u001b[0m\n",
       "\u001b[32m[\u001b[0m\u001b[32mresult for result in results\u001b[0m\u001b[32m]\u001b[0m\u001b[32m\\n        \u001b[0m\u001b[32m)\u001b[0m\u001b[32m\\n    else:\\n        safe_message = results.encode\u001b[0m\u001b[32m(\u001b[0m\u001b[32m\"utf-8\", \u001b[0m\n",
       "\u001b[32m\"ignore\"\u001b[0m\u001b[32m)\u001b[0m\u001b[32m.decode\u001b[0m\u001b[32m(\u001b[0m\u001b[32m\"utf-8\"\u001b[0m\u001b[32m)\u001b[0m\u001b[32m\\n    return safe_message\\n'\u001b[0m\n",
       "\u001b[1m}\u001b[0m\n"
      ]
     },
     "metadata": {},
     "output_type": "display_data"
    },
    {
     "data": {
      "text/html": [
       "<pre style=\"white-space:pre;overflow-x:auto;line-height:normal;font-family:Menlo,'DejaVu Sans Mono',consolas,'Courier New',monospace\"><span style=\"font-weight: bold\">{</span>\n",
       "    <span style=\"color: #008000; text-decoration-color: #008000\">'SearchEngine'</span>: <span style=\"color: #008000; text-decoration-color: #008000\">'class SearchEngine:\\n    \"\"\"\\n    TODO: 合入Google Search 并进行反代\\n    </span>\n",
       "<span style=\"color: #008000; text-decoration-color: #008000\">注：这里Google需要挂Proxifier或者类似全局代理\\n    - DDG: https://pypi.org/project/duckduckgo-search/\\n    - </span>\n",
       "<span style=\"color: #008000; text-decoration-color: #008000\">GOOGLE: https://programmablesearchengine.google.com/controlpanel/overview?cx=63f9de531d0e24de9\\n    \"\"\"\\n    def </span>\n",
       "<span style=\"color: #008000; text-decoration-color: #008000\">__init__(self, engine=None, run_func=None):\\n        self.config = Config()\\n        self.run_func = run_func\\n    </span>\n",
       "<span style=\"color: #008000; text-decoration-color: #008000\">self.engine = engine or self.config.search_engine\\n\\n    @classmethod\\n    def run_google(cls, query, </span>\n",
       "<span style=\"color: #008000; text-decoration-color: #008000\">max_results=8):\\n        # results = ddg(query, max_results=max_results)\\n        results = </span>\n",
       "<span style=\"color: #008000; text-decoration-color: #008000\">google_official_search(query, num_results=max_results)\\n        logger.info(results)\\n        return results\\n\\n   </span>\n",
       "<span style=\"color: #008000; text-decoration-color: #008000\">async def run(self, query: str, max_results=8):\\n        if self.engine == SearchEngineType.SERPAPI_GOOGLE:\\n      </span>\n",
       "<span style=\"color: #008000; text-decoration-color: #008000\">api = SerpAPIWrapper()\\n            rsp = await api.run(query)\\n        elif self.engine == </span>\n",
       "<span style=\"color: #008000; text-decoration-color: #008000\">SearchEngineType.DIRECT_GOOGLE:\\n            rsp = SearchEngine.run_google(query, max_results)\\n        elif </span>\n",
       "<span style=\"color: #008000; text-decoration-color: #008000\">self.engine == SearchEngineType.SERPER_GOOGLE:\\n            api = SerperWrapper()\\n            rsp = await </span>\n",
       "<span style=\"color: #008000; text-decoration-color: #008000\">api.run(query)\\n        elif self.engine == SearchEngineType.CUSTOM_ENGINE:\\n            rsp = </span>\n",
       "<span style=\"color: #008000; text-decoration-color: #008000\">self.run_func(query)\\n        else:\\n            raise NotImplementedError\\n        return rsp\\n'</span>\n",
       "<span style=\"font-weight: bold\">}</span>\n",
       "</pre>\n"
      ],
      "text/plain": [
       "\u001b[1m{\u001b[0m\n",
       "    \u001b[32m'SearchEngine'\u001b[0m: \u001b[32m'class SearchEngine:\\n    \"\"\"\\n    TODO: 合入Google Search 并进行反代\\n    \u001b[0m\n",
       "\u001b[32m注：这里Google需要挂Proxifier或者类似全局代理\\n    - DDG: https://pypi.org/project/duckduckgo-search/\\n    - \u001b[0m\n",
       "\u001b[32mGOOGLE: https://programmablesearchengine.google.com/controlpanel/overview?\u001b[0m\u001b[32mcx\u001b[0m\u001b[32m=\u001b[0m\u001b[32m63f9de531d0e24de9\u001b[0m\u001b[32m\\n    \"\"\"\\n    def \u001b[0m\n",
       "\u001b[32m__init__\u001b[0m\u001b[32m(\u001b[0m\u001b[32mself, \u001b[0m\u001b[32mengine\u001b[0m\u001b[32m=\u001b[0m\u001b[32mNone\u001b[0m\u001b[32m, \u001b[0m\u001b[32mrun_func\u001b[0m\u001b[32m=\u001b[0m\u001b[32mNone\u001b[0m\u001b[32m)\u001b[0m\u001b[32m:\\n        self.config = Config\u001b[0m\u001b[32m(\u001b[0m\u001b[32m)\u001b[0m\u001b[32m\\n        self.run_func = run_func\\n    \u001b[0m\n",
       "\u001b[32mself.engine = engine or self.config.search_engine\\n\\n    @classmethod\\n    def run_google\u001b[0m\u001b[32m(\u001b[0m\u001b[32mcls, query, \u001b[0m\n",
       "\u001b[32mmax_results\u001b[0m\u001b[32m=\u001b[0m\u001b[32m8\u001b[0m\u001b[32m)\u001b[0m\u001b[32m:\\n        # results = ddg\u001b[0m\u001b[32m(\u001b[0m\u001b[32mquery, \u001b[0m\u001b[32mmax_results\u001b[0m\u001b[32m=\u001b[0m\u001b[32mmax_results\u001b[0m\u001b[32m)\u001b[0m\u001b[32m\\n        results = \u001b[0m\n",
       "\u001b[32mgoogle_official_search\u001b[0m\u001b[32m(\u001b[0m\u001b[32mquery, \u001b[0m\u001b[32mnum_results\u001b[0m\u001b[32m=\u001b[0m\u001b[32mmax_results\u001b[0m\u001b[32m)\u001b[0m\u001b[32m\\n        logger.info\u001b[0m\u001b[32m(\u001b[0m\u001b[32mresults\u001b[0m\u001b[32m)\u001b[0m\u001b[32m\\n        return results\\n\\n   \u001b[0m\n",
       "\u001b[32masync def run\u001b[0m\u001b[32m(\u001b[0m\u001b[32mself, query: str, \u001b[0m\u001b[32mmax_results\u001b[0m\u001b[32m=\u001b[0m\u001b[32m8\u001b[0m\u001b[32m)\u001b[0m\u001b[32m:\\n        if self.engine == SearchEngineType.SERPAPI_GOOGLE:\\n      \u001b[0m\n",
       "\u001b[32mapi = SerpAPIWrapper\u001b[0m\u001b[32m(\u001b[0m\u001b[32m)\u001b[0m\u001b[32m\\n            rsp = await api.run\u001b[0m\u001b[32m(\u001b[0m\u001b[32mquery\u001b[0m\u001b[32m)\u001b[0m\u001b[32m\\n        elif self.engine == \u001b[0m\n",
       "\u001b[32mSearchEngineType.DIRECT_GOOGLE:\\n            rsp = SearchEngine.run_google\u001b[0m\u001b[32m(\u001b[0m\u001b[32mquery, max_results\u001b[0m\u001b[32m)\u001b[0m\u001b[32m\\n        elif \u001b[0m\n",
       "\u001b[32mself.engine == SearchEngineType.SERPER_GOOGLE:\\n            api = SerperWrapper\u001b[0m\u001b[32m(\u001b[0m\u001b[32m)\u001b[0m\u001b[32m\\n            rsp = await \u001b[0m\n",
       "\u001b[32mapi.run\u001b[0m\u001b[32m(\u001b[0m\u001b[32mquery\u001b[0m\u001b[32m)\u001b[0m\u001b[32m\\n        elif self.engine == SearchEngineType.CUSTOM_ENGINE:\\n            rsp = \u001b[0m\n",
       "\u001b[32mself.run_func\u001b[0m\u001b[32m(\u001b[0m\u001b[32mquery\u001b[0m\u001b[32m)\u001b[0m\u001b[32m\\n        else:\\n            raise NotImplementedError\\n        return rsp\\n'\u001b[0m\n",
       "\u001b[1m}\u001b[0m\n"
      ]
     },
     "metadata": {},
     "output_type": "display_data"
    },
    {
     "data": {
      "text/html": [
       "<pre style=\"white-space:pre;overflow-x:auto;line-height:normal;font-family:Menlo,'DejaVu Sans Mono',consolas,'Courier New',monospace\"><span style=\"font-weight: bold\">{</span>\n",
       "    <span style=\"color: #008000; text-decoration-color: #008000\">'get_page_content'</span>: <span style=\"color: #008000; text-decoration-color: #008000\">'def get_page_content(page: str):\\n    soup = BeautifulSoup(page, \"html.parser\")\\n    </span>\n",
       "<span style=\"color: #008000; text-decoration-color: #008000\">return \"\\\\n\".join(i.text.strip() for i in soup.find_all([\"h1\", \"h2\", \"h3\", \"h4\", \"h5\", \"p\", \"pre\"]))\\n'</span>\n",
       "<span style=\"font-weight: bold\">}</span>\n",
       "</pre>\n"
      ],
      "text/plain": [
       "\u001b[1m{\u001b[0m\n",
       "    \u001b[32m'get_page_content'\u001b[0m: \u001b[32m'def get_page_content\u001b[0m\u001b[32m(\u001b[0m\u001b[32mpage: str\u001b[0m\u001b[32m)\u001b[0m\u001b[32m:\\n    soup = BeautifulSoup\u001b[0m\u001b[32m(\u001b[0m\u001b[32mpage, \"html.parser\"\u001b[0m\u001b[32m)\u001b[0m\u001b[32m\\n    \u001b[0m\n",
       "\u001b[32mreturn \"\\\\n\".join\u001b[0m\u001b[32m(\u001b[0m\u001b[32mi.text.strip\u001b[0m\u001b[32m(\u001b[0m\u001b[32m)\u001b[0m\u001b[32m for i in soup.find_all\u001b[0m\u001b[32m(\u001b[0m\u001b[32m[\u001b[0m\u001b[32m\"h1\", \"h2\", \"h3\", \"h4\", \"h5\", \"p\", \"pre\"\u001b[0m\u001b[32m]\u001b[0m\u001b[32m)\u001b[0m\u001b[32m)\u001b[0m\u001b[32m\\n'\u001b[0m\n",
       "\u001b[1m}\u001b[0m\n"
      ]
     },
     "metadata": {},
     "output_type": "display_data"
    },
    {
     "data": {
      "text/html": [
       "<pre style=\"white-space:pre;overflow-x:auto;line-height:normal;font-family:Menlo,'DejaVu Sans Mono',consolas,'Courier New',monospace\"><span style=\"font-weight: bold\">{</span>\n",
       "    <span style=\"color: #008000; text-decoration-color: #008000\">'WebBrowserEngine'</span>: <span style=\"color: #008000; text-decoration-color: #008000\">'class WebBrowserEngine:\\n    def __init__(\\n        self,\\n        engine: </span>\n",
       "<span style=\"color: #008000; text-decoration-color: #008000\">WebBrowserEngineType | None = None,\\n        run_func: Callable[..., Coroutine[Any, Any, str | list[str]]] | None =</span>\n",
       "<span style=\"color: #008000; text-decoration-color: #008000\">None,\\n        parse_func: Callable[[str], str] | None = None,\\n    ):\\n        engine = engine or </span>\n",
       "<span style=\"color: #008000; text-decoration-color: #008000\">CONFIG.web_browser_engine\\n\\n        if engine == WebBrowserEngineType.PLAYWRIGHT:\\n            module = </span>\n",
       "<span style=\"color: #008000; text-decoration-color: #008000\">\"metagpt.tools.web_browser_engine_playwright\"\\n            run_func = </span>\n",
       "<span style=\"color: #008000; text-decoration-color: #008000\">importlib.import_module(module).PlaywrightWrapper().run\\n        elif engine == WebBrowserEngineType.SELENIUM:\\n   </span>\n",
       "<span style=\"color: #008000; text-decoration-color: #008000\">module = \"metagpt.tools.web_browser_engine_selenium\"\\n            run_func = </span>\n",
       "<span style=\"color: #008000; text-decoration-color: #008000\">importlib.import_module(module).SeleniumWrapper().run\\n        elif engine == WebBrowserEngineType.CUSTOM:\\n       </span>\n",
       "<span style=\"color: #008000; text-decoration-color: #008000\">run_func = run_func\\n        else:\\n            raise NotImplementedError\\n        self.parse_func = parse_func or </span>\n",
       "<span style=\"color: #008000; text-decoration-color: #008000\">get_page_content\\n        self.run_func = run_func\\n        self.engine = engine\\n\\n    @overload\\n    async def </span>\n",
       "<span style=\"color: #008000; text-decoration-color: #008000\">run(self, url: str) -&gt; str:\\n        ...\\n\\n    @overload\\n    async def run(self, url: str, *urls: str) -&gt; </span>\n",
       "<span style=\"color: #008000; text-decoration-color: #008000\">list[str]:\\n        ...\\n\\n    async def run(self, url: str, *urls: str) -&gt; str | list[str]:\\n        page = await </span>\n",
       "<span style=\"color: #008000; text-decoration-color: #008000\">self.run_func(url, *urls)\\n        if isinstance(page, str):\\n            return self.parse_func(page)\\n        </span>\n",
       "<span style=\"color: #008000; text-decoration-color: #008000\">return [self.parse_func(i) for i in page]\\n'</span>\n",
       "<span style=\"font-weight: bold\">}</span>\n",
       "</pre>\n"
      ],
      "text/plain": [
       "\u001b[1m{\u001b[0m\n",
       "    \u001b[32m'WebBrowserEngine'\u001b[0m: \u001b[32m'class WebBrowserEngine:\\n    def __init__\u001b[0m\u001b[32m(\u001b[0m\u001b[32m\\n        self,\\n        engine: \u001b[0m\n",
       "\u001b[32mWebBrowserEngineType | None = None,\\n        run_func: Callable\u001b[0m\u001b[32m[\u001b[0m\u001b[32m..., Coroutine\u001b[0m\u001b[32m[\u001b[0m\u001b[32mAny, Any, str | list\u001b[0m\u001b[32m[\u001b[0m\u001b[32mstr\u001b[0m\u001b[32m]\u001b[0m\u001b[32m]\u001b[0m\u001b[32m]\u001b[0m\u001b[32m | None =\u001b[0m\n",
       "\u001b[32mNone,\\n        parse_func: Callable\u001b[0m\u001b[32m[\u001b[0m\u001b[32m[\u001b[0m\u001b[32mstr\u001b[0m\u001b[32m]\u001b[0m\u001b[32m, str\u001b[0m\u001b[32m]\u001b[0m\u001b[32m | None = None,\\n    \u001b[0m\u001b[32m)\u001b[0m\u001b[32m:\\n        engine = engine or \u001b[0m\n",
       "\u001b[32mCONFIG.web_browser_engine\\n\\n        if engine == WebBrowserEngineType.PLAYWRIGHT:\\n            module = \u001b[0m\n",
       "\u001b[32m\"metagpt.tools.web_browser_engine_playwright\"\\n            run_func = \u001b[0m\n",
       "\u001b[32mimportlib.import_module\u001b[0m\u001b[32m(\u001b[0m\u001b[32mmodule\u001b[0m\u001b[32m)\u001b[0m\u001b[32m.PlaywrightWrapper\u001b[0m\u001b[32m(\u001b[0m\u001b[32m)\u001b[0m\u001b[32m.run\\n        elif engine == WebBrowserEngineType.SELENIUM:\\n   \u001b[0m\n",
       "\u001b[32mmodule = \"metagpt.tools.web_browser_engine_selenium\"\\n            run_func = \u001b[0m\n",
       "\u001b[32mimportlib.import_module\u001b[0m\u001b[32m(\u001b[0m\u001b[32mmodule\u001b[0m\u001b[32m)\u001b[0m\u001b[32m.SeleniumWrapper\u001b[0m\u001b[32m(\u001b[0m\u001b[32m)\u001b[0m\u001b[32m.run\\n        elif engine == WebBrowserEngineType.CUSTOM:\\n       \u001b[0m\n",
       "\u001b[32mrun_func = run_func\\n        else:\\n            raise NotImplementedError\\n        self.parse_func = parse_func or \u001b[0m\n",
       "\u001b[32mget_page_content\\n        self.run_func = run_func\\n        self.engine = engine\\n\\n    @overload\\n    async def \u001b[0m\n",
       "\u001b[32mrun\u001b[0m\u001b[32m(\u001b[0m\u001b[32mself, url: str\u001b[0m\u001b[32m)\u001b[0m\u001b[32m -> str:\\n        ...\\n\\n    @overload\\n    async def run\u001b[0m\u001b[32m(\u001b[0m\u001b[32mself, url: str, *urls: str\u001b[0m\u001b[32m)\u001b[0m\u001b[32m -> \u001b[0m\n",
       "\u001b[32mlist\u001b[0m\u001b[32m[\u001b[0m\u001b[32mstr\u001b[0m\u001b[32m]\u001b[0m\u001b[32m:\\n        ...\\n\\n    async def run\u001b[0m\u001b[32m(\u001b[0m\u001b[32mself, url: str, *urls: str\u001b[0m\u001b[32m)\u001b[0m\u001b[32m -> str | list\u001b[0m\u001b[32m[\u001b[0m\u001b[32mstr\u001b[0m\u001b[32m]\u001b[0m\u001b[32m:\\n        page = await \u001b[0m\n",
       "\u001b[32mself.run_func\u001b[0m\u001b[32m(\u001b[0m\u001b[32murl, *urls\u001b[0m\u001b[32m)\u001b[0m\u001b[32m\\n        if isinstance\u001b[0m\u001b[32m(\u001b[0m\u001b[32mpage, str\u001b[0m\u001b[32m)\u001b[0m\u001b[32m:\\n            return self.parse_func\u001b[0m\u001b[32m(\u001b[0m\u001b[32mpage\u001b[0m\u001b[32m)\u001b[0m\u001b[32m\\n        \u001b[0m\n",
       "\u001b[32mreturn \u001b[0m\u001b[32m[\u001b[0m\u001b[32mself.parse_func\u001b[0m\u001b[32m(\u001b[0m\u001b[32mi\u001b[0m\u001b[32m)\u001b[0m\u001b[32m for i in page\u001b[0m\u001b[32m]\u001b[0m\u001b[32m\\n'\u001b[0m\n",
       "\u001b[1m}\u001b[0m\n"
      ]
     },
     "metadata": {},
     "output_type": "display_data"
    },
    {
     "data": {
      "text/html": [
       "<pre style=\"white-space:pre;overflow-x:auto;line-height:normal;font-family:Menlo,'DejaVu Sans Mono',consolas,'Courier New',monospace\"><span style=\"font-weight: bold\">{}</span>\n",
       "</pre>\n"
      ],
      "text/plain": [
       "\u001b[1m{\u001b[0m\u001b[1m}\u001b[0m\n"
      ]
     },
     "metadata": {},
     "output_type": "display_data"
    },
    {
     "data": {
      "text/html": [
       "<pre style=\"white-space:pre;overflow-x:auto;line-height:normal;font-family:Menlo,'DejaVu Sans Mono',consolas,'Courier New',monospace\"><span style=\"font-weight: bold\">{</span>\n",
       "    <span style=\"color: #008000; text-decoration-color: #008000\">'SerperWrapper'</span>: <span style=\"color: #008000; text-decoration-color: #008000\">'class SerperWrapper(BaseModel):\\n    \"\"\"Wrapper around SerpAPI.\\n\\n    To use, you should </span>\n",
       "<span style=\"color: #008000; text-decoration-color: #008000\">have the ``google-search-results`` python package installed,\\n    and the environment variable ``SERPAPI_API_KEY`` </span>\n",
       "<span style=\"color: #008000; text-decoration-color: #008000\">set with your API key, or pass\\n    `serpapi_api_key` as a named parameter to the constructor.\\n    \"\"\"\\n\\n    </span>\n",
       "<span style=\"color: #008000; text-decoration-color: #008000\">search_engine: Any  #: :meta private:\\n    payload: dict = Field(\\n        default={\\n            \"page\": 1,\\n     </span>\n",
       "<span style=\"color: #008000; text-decoration-color: #008000\">\"num\": 10\\n        }\\n    )\\n    config = Config()\\n    serper_api_key: Optional[str] = config.serper_api_key\\n    </span>\n",
       "<span style=\"color: #008000; text-decoration-color: #008000\">aiosession: Optional[aiohttp.ClientSession] = None\\n\\n    class Config:\\n        arbitrary_types_allowed = True\\n\\n</span>\n",
       "<span style=\"color: #008000; text-decoration-color: #008000\">async def run(self, query: str, **kwargs: Any) -&gt; str:\\n        \"\"\"Run query through Serper and parse result </span>\n",
       "<span style=\"color: #008000; text-decoration-color: #008000\">async.\"\"\"\\n        queries = query.split(\"\\\\n\")\\n        return \"\\\\n\".join([self._process_response(res) for res in </span>\n",
       "<span style=\"color: #008000; text-decoration-color: #008000\">await self.results(queries)])\\n\\n    async def results(self, queries: list[str]) -&gt; dict:\\n        \"\"\"Use aiohttp </span>\n",
       "<span style=\"color: #008000; text-decoration-color: #008000\">to run query through Serper and return the results async.\"\"\"\\n\\n        def construct_url_and_payload_and_headers()</span>\n",
       "<span style=\"color: #008000; text-decoration-color: #008000\">-&gt; Tuple[str, Dict[str, str]]:\\n            payloads = self.get_payloads(queries)\\n            url = </span>\n",
       "<span style=\"color: #008000; text-decoration-color: #008000\">\"https://google.serper.dev/search\"\\n            headers = self.get_headers()\\n            return url, payloads, </span>\n",
       "<span style=\"color: #008000; text-decoration-color: #008000\">headers\\n\\n        url, payloads, headers = construct_url_and_payload_and_headers()\\n        if not </span>\n",
       "<span style=\"color: #008000; text-decoration-color: #008000\">self.aiosession:\\n            async with aiohttp.ClientSession() as session:\\n                async with </span>\n",
       "<span style=\"color: #008000; text-decoration-color: #008000\">session.post(url, data=payloads, headers=headers) as response:\\n                    res = await response.json()\\n  </span>\n",
       "<span style=\"color: #008000; text-decoration-color: #008000\">else:\\n            async with self.aiosession.get.post(url, data=payloads, headers=headers) as response:\\n         </span>\n",
       "<span style=\"color: #008000; text-decoration-color: #008000\">res = await response.json()\\n\\n        return res\\n\\n    def get_payloads(self, queries: list[str]) -&gt; Dict[str, </span>\n",
       "<span style=\"color: #008000; text-decoration-color: #008000\">str]:\\n        \"\"\"Get payloads for Serper.\"\"\"\\n        payloads = []\\n        for query in queries:\\n            </span>\n",
       "<span style=\"color: #008000; text-decoration-color: #008000\">_payload = {\\n                \"q\": query,\\n            }\\n            payloads.append({**self.payload, </span>\n",
       "<span style=\"color: #008000; text-decoration-color: #008000\">**_payload})\\n        return json.dumps(payloads, sort_keys=True)\\n\\n    def get_headers(self) -&gt; Dict[str, str]:\\n</span>\n",
       "<span style=\"color: #008000; text-decoration-color: #008000\">headers = {\\n            \\'X-API-KEY\\':  self.serper_api_key,\\n            \\'Content-Type\\': \\'application/json\\'\\n</span>\n",
       "<span style=\"color: #008000; text-decoration-color: #008000\">}\\n        return headers\\n\\n    @staticmethod\\n    def _process_response(res: dict) -&gt; str:\\n        \"\"\"Process </span>\n",
       "<span style=\"color: #008000; text-decoration-color: #008000\">response from SerpAPI.\"\"\"\\n        # logger.debug(res)\\n        focus = [\\'title\\', \\'snippet\\', \\'link\\']\\n       </span>\n",
       "<span style=\"color: #008000; text-decoration-color: #008000\">def get_focused(x): return {i: j for i, j in x.items() if i in focus}\\n\\n        if \"error\" in res.keys():\\n       </span>\n",
       "<span style=\"color: #008000; text-decoration-color: #008000\">raise ValueError(f\"Got error from SerpAPI: {res[\\'error\\']}\")\\n        if \"answer_box\" in res.keys() and \"answer\" </span>\n",
       "<span style=\"color: #008000; text-decoration-color: #008000\">in res[\"answer_box\"].keys():\\n            toret = res[\"answer_box\"][\"answer\"]\\n        elif \"answer_box\" in </span>\n",
       "<span style=\"color: #008000; text-decoration-color: #008000\">res.keys() and \"snippet\" in res[\"answer_box\"].keys():\\n            toret = res[\"answer_box\"][\"snippet\"]\\n        </span>\n",
       "<span style=\"color: #008000; text-decoration-color: #008000\">elif (\\n            \"answer_box\" in res.keys()\\n            and \"snippet_highlighted_words\" in </span>\n",
       "<span style=\"color: #008000; text-decoration-color: #008000\">res[\"answer_box\"].keys()\\n        ):\\n            toret = res[\"answer_box\"][\"snippet_highlighted_words\"][0]\\n      </span>\n",
       "<span style=\"color: #008000; text-decoration-color: #008000\">elif (\\n            \"sports_results\" in res.keys()\\n            and \"game_spotlight\" in </span>\n",
       "<span style=\"color: #008000; text-decoration-color: #008000\">res[\"sports_results\"].keys()\\n        ):\\n            toret = res[\"sports_results\"][\"game_spotlight\"]\\n        elif</span>\n",
       "<span style=\"color: #008000; text-decoration-color: #008000\">(\\n            \"knowledge_graph\" in res.keys()\\n            and \"description\" in res[\"knowledge_graph\"].keys()\\n   </span>\n",
       "<span style=\"color: #008000; text-decoration-color: #008000\">):\\n            toret = res[\"knowledge_graph\"][\"description\"]\\n        elif \"snippet\" in </span>\n",
       "<span style=\"color: #008000; text-decoration-color: #008000\">res[\"organic\"][0].keys():\\n            toret = res[\"organic\"][0][\"snippet\"]\\n        else:\\n            toret = \"No</span>\n",
       "<span style=\"color: #008000; text-decoration-color: #008000\">good search result found\"\\n\\n        toret_l = []\\n        if \"answer_box\" in res.keys() and \"snippet\" in </span>\n",
       "<span style=\"color: #008000; text-decoration-color: #008000\">res[\"answer_box\"].keys():\\n            toret_l += [get_focused(res[\"answer_box\"])]\\n        if </span>\n",
       "<span style=\"color: #008000; text-decoration-color: #008000\">res.get(\"organic\"):\\n            toret_l += [get_focused(i) for i in res.get(\"organic\")]\\n\\n        return </span>\n",
       "<span style=\"color: #008000; text-decoration-color: #008000\">str(toret) + \\'\\\\n\\' + str(toret_l)'</span>\n",
       "<span style=\"font-weight: bold\">}</span>\n",
       "</pre>\n"
      ],
      "text/plain": [
       "\u001b[1m{\u001b[0m\n",
       "    \u001b[32m'SerperWrapper'\u001b[0m: \u001b[32m'class SerperWrapper\u001b[0m\u001b[32m(\u001b[0m\u001b[32mBaseModel\u001b[0m\u001b[32m)\u001b[0m\u001b[32m:\\n    \"\"\"Wrapper around SerpAPI.\\n\\n    To use, you should \u001b[0m\n",
       "\u001b[32mhave the ``google-search-results`` python package installed,\\n    and the environment variable ``SERPAPI_API_KEY`` \u001b[0m\n",
       "\u001b[32mset with your API key, or pass\\n    `serpapi_api_key` as a named parameter to the constructor.\\n    \"\"\"\\n\\n    \u001b[0m\n",
       "\u001b[32msearch_engine: Any  #: :meta private:\\n    payload: dict = Field\u001b[0m\u001b[32m(\u001b[0m\u001b[32m\\n        \u001b[0m\u001b[32mdefault\u001b[0m\u001b[32m=\u001b[0m\u001b[32m{\u001b[0m\u001b[32m\\n            \"page\": 1,\\n     \u001b[0m\n",
       "\u001b[32m\"num\": 10\\n        \u001b[0m\u001b[32m}\u001b[0m\u001b[32m\\n    \u001b[0m\u001b[32m)\u001b[0m\u001b[32m\\n    config = Config\u001b[0m\u001b[32m(\u001b[0m\u001b[32m)\u001b[0m\u001b[32m\\n    serper_api_key: Optional\u001b[0m\u001b[32m[\u001b[0m\u001b[32mstr\u001b[0m\u001b[32m]\u001b[0m\u001b[32m = config.serper_api_key\\n    \u001b[0m\n",
       "\u001b[32maiosession: Optional\u001b[0m\u001b[32m[\u001b[0m\u001b[32maiohttp.ClientSession\u001b[0m\u001b[32m]\u001b[0m\u001b[32m = None\\n\\n    class Config:\\n        arbitrary_types_allowed = True\\n\\n\u001b[0m\n",
       "\u001b[32masync def run\u001b[0m\u001b[32m(\u001b[0m\u001b[32mself, query: str, **kwargs: Any\u001b[0m\u001b[32m)\u001b[0m\u001b[32m -> str:\\n        \"\"\"Run query through Serper and parse result \u001b[0m\n",
       "\u001b[32masync.\"\"\"\\n        queries = query.split\u001b[0m\u001b[32m(\u001b[0m\u001b[32m\"\\\\n\"\u001b[0m\u001b[32m)\u001b[0m\u001b[32m\\n        return \"\\\\n\".join\u001b[0m\u001b[32m(\u001b[0m\u001b[32m[\u001b[0m\u001b[32mself._process_response\u001b[0m\u001b[32m(\u001b[0m\u001b[32mres\u001b[0m\u001b[32m)\u001b[0m\u001b[32m for res in \u001b[0m\n",
       "\u001b[32mawait self.results\u001b[0m\u001b[32m(\u001b[0m\u001b[32mqueries\u001b[0m\u001b[32m)\u001b[0m\u001b[32m]\u001b[0m\u001b[32m)\u001b[0m\u001b[32m\\n\\n    async def results\u001b[0m\u001b[32m(\u001b[0m\u001b[32mself, queries: list\u001b[0m\u001b[32m[\u001b[0m\u001b[32mstr\u001b[0m\u001b[32m]\u001b[0m\u001b[32m)\u001b[0m\u001b[32m -> dict:\\n        \"\"\"Use aiohttp \u001b[0m\n",
       "\u001b[32mto run query through Serper and return the results async.\"\"\"\\n\\n        def construct_url_and_payload_and_headers\u001b[0m\u001b[32m(\u001b[0m\u001b[32m)\u001b[0m\n",
       "\u001b[32m-> Tuple\u001b[0m\u001b[32m[\u001b[0m\u001b[32mstr, Dict\u001b[0m\u001b[32m[\u001b[0m\u001b[32mstr, str\u001b[0m\u001b[32m]\u001b[0m\u001b[32m]\u001b[0m\u001b[32m:\\n            payloads = self.get_payloads\u001b[0m\u001b[32m(\u001b[0m\u001b[32mqueries\u001b[0m\u001b[32m)\u001b[0m\u001b[32m\\n            url = \u001b[0m\n",
       "\u001b[32m\"https://google.serper.dev/search\"\\n            headers = self.get_headers\u001b[0m\u001b[32m(\u001b[0m\u001b[32m)\u001b[0m\u001b[32m\\n            return url, payloads, \u001b[0m\n",
       "\u001b[32mheaders\\n\\n        url, payloads, headers = construct_url_and_payload_and_headers\u001b[0m\u001b[32m(\u001b[0m\u001b[32m)\u001b[0m\u001b[32m\\n        if not \u001b[0m\n",
       "\u001b[32mself.aiosession:\\n            async with aiohttp.ClientSession\u001b[0m\u001b[32m(\u001b[0m\u001b[32m)\u001b[0m\u001b[32m as session:\\n                async with \u001b[0m\n",
       "\u001b[32msession.post\u001b[0m\u001b[32m(\u001b[0m\u001b[32murl, \u001b[0m\u001b[32mdata\u001b[0m\u001b[32m=\u001b[0m\u001b[32mpayloads\u001b[0m\u001b[32m, \u001b[0m\u001b[32mheaders\u001b[0m\u001b[32m=\u001b[0m\u001b[32mheaders\u001b[0m\u001b[32m)\u001b[0m\u001b[32m as response:\\n                    res = await response.json\u001b[0m\u001b[32m(\u001b[0m\u001b[32m)\u001b[0m\u001b[32m\\n  \u001b[0m\n",
       "\u001b[32melse:\\n            async with self.aiosession.get.post\u001b[0m\u001b[32m(\u001b[0m\u001b[32murl, \u001b[0m\u001b[32mdata\u001b[0m\u001b[32m=\u001b[0m\u001b[32mpayloads\u001b[0m\u001b[32m, \u001b[0m\u001b[32mheaders\u001b[0m\u001b[32m=\u001b[0m\u001b[32mheaders\u001b[0m\u001b[32m)\u001b[0m\u001b[32m as response:\\n         \u001b[0m\n",
       "\u001b[32mres = await response.json\u001b[0m\u001b[32m(\u001b[0m\u001b[32m)\u001b[0m\u001b[32m\\n\\n        return res\\n\\n    def get_payloads\u001b[0m\u001b[32m(\u001b[0m\u001b[32mself, queries: list\u001b[0m\u001b[32m[\u001b[0m\u001b[32mstr\u001b[0m\u001b[32m]\u001b[0m\u001b[32m)\u001b[0m\u001b[32m -> Dict\u001b[0m\u001b[32m[\u001b[0m\u001b[32mstr, \u001b[0m\n",
       "\u001b[32mstr\u001b[0m\u001b[32m]\u001b[0m\u001b[32m:\\n        \"\"\"Get payloads for Serper.\"\"\"\\n        payloads = \u001b[0m\u001b[32m[\u001b[0m\u001b[32m]\u001b[0m\u001b[32m\\n        for query in queries:\\n            \u001b[0m\n",
       "\u001b[32m_payload = \u001b[0m\u001b[32m{\u001b[0m\u001b[32m\\n                \"q\": query,\\n            \u001b[0m\u001b[32m}\u001b[0m\u001b[32m\\n            payloads.append\u001b[0m\u001b[32m(\u001b[0m\u001b[32m{\u001b[0m\u001b[32m**self.payload, \u001b[0m\n",
       "\u001b[32m**_payload\u001b[0m\u001b[32m}\u001b[0m\u001b[32m)\u001b[0m\u001b[32m\\n        return json.dumps\u001b[0m\u001b[32m(\u001b[0m\u001b[32mpayloads, \u001b[0m\u001b[32msort_keys\u001b[0m\u001b[32m=\u001b[0m\u001b[32mTrue\u001b[0m\u001b[32m)\u001b[0m\u001b[32m\\n\\n    def get_headers\u001b[0m\u001b[32m(\u001b[0m\u001b[32mself\u001b[0m\u001b[32m)\u001b[0m\u001b[32m -> Dict\u001b[0m\u001b[32m[\u001b[0m\u001b[32mstr, str\u001b[0m\u001b[32m]\u001b[0m\u001b[32m:\\n\u001b[0m\n",
       "\u001b[32mheaders = \u001b[0m\u001b[32m{\u001b[0m\u001b[32m\\n            \\'X-API-KEY\\':  self.serper_api_key,\\n            \\'Content-Type\\': \\'application/json\\'\\n\u001b[0m\n",
       "\u001b[32m}\u001b[0m\u001b[32m\\n        return headers\\n\\n    @staticmethod\\n    def _process_response\u001b[0m\u001b[32m(\u001b[0m\u001b[32mres: dict\u001b[0m\u001b[32m)\u001b[0m\u001b[32m -> str:\\n        \"\"\"Process \u001b[0m\n",
       "\u001b[32mresponse from SerpAPI.\"\"\"\\n        # logger.debug\u001b[0m\u001b[32m(\u001b[0m\u001b[32mres\u001b[0m\u001b[32m)\u001b[0m\u001b[32m\\n        focus = \u001b[0m\u001b[32m[\u001b[0m\u001b[32m\\'title\\', \\'snippet\\', \\'link\\'\u001b[0m\u001b[32m]\u001b[0m\u001b[32m\\n       \u001b[0m\n",
       "\u001b[32mdef get_focused\u001b[0m\u001b[32m(\u001b[0m\u001b[32mx\u001b[0m\u001b[32m)\u001b[0m\u001b[32m: return \u001b[0m\u001b[32m{\u001b[0m\u001b[32mi: j for i, j in x.items\u001b[0m\u001b[32m(\u001b[0m\u001b[32m)\u001b[0m\u001b[32m if i in focus\u001b[0m\u001b[32m}\u001b[0m\u001b[32m\\n\\n        if \"error\" in res.keys\u001b[0m\u001b[32m(\u001b[0m\u001b[32m)\u001b[0m\u001b[32m:\\n       \u001b[0m\n",
       "\u001b[32mraise ValueError\u001b[0m\u001b[32m(\u001b[0m\u001b[32mf\"Got error from SerpAPI: \u001b[0m\u001b[32m{\u001b[0m\u001b[32mres\u001b[0m\u001b[32m[\u001b[0m\u001b[32m\\'error\\'\u001b[0m\u001b[32m]\u001b[0m\u001b[32m}\u001b[0m\u001b[32m\"\u001b[0m\u001b[32m)\u001b[0m\u001b[32m\\n        if \"answer_box\" in res.keys\u001b[0m\u001b[32m(\u001b[0m\u001b[32m)\u001b[0m\u001b[32m and \"answer\" \u001b[0m\n",
       "\u001b[32min res\u001b[0m\u001b[32m[\u001b[0m\u001b[32m\"answer_box\"\u001b[0m\u001b[32m]\u001b[0m\u001b[32m.keys\u001b[0m\u001b[32m(\u001b[0m\u001b[32m)\u001b[0m\u001b[32m:\\n            toret = res\u001b[0m\u001b[32m[\u001b[0m\u001b[32m\"answer_box\"\u001b[0m\u001b[32m]\u001b[0m\u001b[32m[\u001b[0m\u001b[32m\"answer\"\u001b[0m\u001b[32m]\u001b[0m\u001b[32m\\n        elif \"answer_box\" in \u001b[0m\n",
       "\u001b[32mres.keys\u001b[0m\u001b[32m(\u001b[0m\u001b[32m)\u001b[0m\u001b[32m and \"snippet\" in res\u001b[0m\u001b[32m[\u001b[0m\u001b[32m\"answer_box\"\u001b[0m\u001b[32m]\u001b[0m\u001b[32m.keys\u001b[0m\u001b[32m(\u001b[0m\u001b[32m)\u001b[0m\u001b[32m:\\n            toret = res\u001b[0m\u001b[32m[\u001b[0m\u001b[32m\"answer_box\"\u001b[0m\u001b[32m]\u001b[0m\u001b[32m[\u001b[0m\u001b[32m\"snippet\"\u001b[0m\u001b[32m]\u001b[0m\u001b[32m\\n        \u001b[0m\n",
       "\u001b[32melif \u001b[0m\u001b[32m(\u001b[0m\u001b[32m\\n            \"answer_box\" in res.keys\u001b[0m\u001b[32m(\u001b[0m\u001b[32m)\u001b[0m\u001b[32m\\n            and \"snippet_highlighted_words\" in \u001b[0m\n",
       "\u001b[32mres\u001b[0m\u001b[32m[\u001b[0m\u001b[32m\"answer_box\"\u001b[0m\u001b[32m]\u001b[0m\u001b[32m.keys\u001b[0m\u001b[32m(\u001b[0m\u001b[32m)\u001b[0m\u001b[32m\\n        \u001b[0m\u001b[32m)\u001b[0m\u001b[32m:\\n            toret = res\u001b[0m\u001b[32m[\u001b[0m\u001b[32m\"answer_box\"\u001b[0m\u001b[32m]\u001b[0m\u001b[32m[\u001b[0m\u001b[32m\"snippet_highlighted_words\"\u001b[0m\u001b[32m]\u001b[0m\u001b[32m[\u001b[0m\u001b[32m0\u001b[0m\u001b[32m]\u001b[0m\u001b[32m\\n      \u001b[0m\n",
       "\u001b[32melif \u001b[0m\u001b[32m(\u001b[0m\u001b[32m\\n            \"sports_results\" in res.keys\u001b[0m\u001b[32m(\u001b[0m\u001b[32m)\u001b[0m\u001b[32m\\n            and \"game_spotlight\" in \u001b[0m\n",
       "\u001b[32mres\u001b[0m\u001b[32m[\u001b[0m\u001b[32m\"sports_results\"\u001b[0m\u001b[32m]\u001b[0m\u001b[32m.keys\u001b[0m\u001b[32m(\u001b[0m\u001b[32m)\u001b[0m\u001b[32m\\n        \u001b[0m\u001b[32m)\u001b[0m\u001b[32m:\\n            toret = res\u001b[0m\u001b[32m[\u001b[0m\u001b[32m\"sports_results\"\u001b[0m\u001b[32m]\u001b[0m\u001b[32m[\u001b[0m\u001b[32m\"game_spotlight\"\u001b[0m\u001b[32m]\u001b[0m\u001b[32m\\n        elif\u001b[0m\n",
       "\u001b[32m(\u001b[0m\u001b[32m\\n            \"knowledge_graph\" in res.keys\u001b[0m\u001b[32m(\u001b[0m\u001b[32m)\u001b[0m\u001b[32m\\n            and \"description\" in res\u001b[0m\u001b[32m[\u001b[0m\u001b[32m\"knowledge_graph\"\u001b[0m\u001b[32m]\u001b[0m\u001b[32m.keys\u001b[0m\u001b[32m(\u001b[0m\u001b[32m)\u001b[0m\u001b[32m\\n   \u001b[0m\n",
       "\u001b[32m)\u001b[0m\u001b[32m:\\n            toret = res\u001b[0m\u001b[32m[\u001b[0m\u001b[32m\"knowledge_graph\"\u001b[0m\u001b[32m]\u001b[0m\u001b[32m[\u001b[0m\u001b[32m\"description\"\u001b[0m\u001b[32m]\u001b[0m\u001b[32m\\n        elif \"snippet\" in \u001b[0m\n",
       "\u001b[32mres\u001b[0m\u001b[32m[\u001b[0m\u001b[32m\"organic\"\u001b[0m\u001b[32m]\u001b[0m\u001b[32m[\u001b[0m\u001b[32m0\u001b[0m\u001b[32m]\u001b[0m\u001b[32m.keys\u001b[0m\u001b[32m(\u001b[0m\u001b[32m)\u001b[0m\u001b[32m:\\n            toret = res\u001b[0m\u001b[32m[\u001b[0m\u001b[32m\"organic\"\u001b[0m\u001b[32m]\u001b[0m\u001b[32m[\u001b[0m\u001b[32m0\u001b[0m\u001b[32m]\u001b[0m\u001b[32m[\u001b[0m\u001b[32m\"snippet\"\u001b[0m\u001b[32m]\u001b[0m\u001b[32m\\n        else:\\n            toret = \"No\u001b[0m\n",
       "\u001b[32mgood search result found\"\\n\\n        toret_l = \u001b[0m\u001b[32m[\u001b[0m\u001b[32m]\u001b[0m\u001b[32m\\n        if \"answer_box\" in res.keys\u001b[0m\u001b[32m(\u001b[0m\u001b[32m)\u001b[0m\u001b[32m and \"snippet\" in \u001b[0m\n",
       "\u001b[32mres\u001b[0m\u001b[32m[\u001b[0m\u001b[32m\"answer_box\"\u001b[0m\u001b[32m]\u001b[0m\u001b[32m.keys\u001b[0m\u001b[32m(\u001b[0m\u001b[32m)\u001b[0m\u001b[32m:\\n            toret_l += \u001b[0m\u001b[32m[\u001b[0m\u001b[32mget_focused\u001b[0m\u001b[32m(\u001b[0m\u001b[32mres\u001b[0m\u001b[32m[\u001b[0m\u001b[32m\"answer_box\"\u001b[0m\u001b[32m]\u001b[0m\u001b[32m)\u001b[0m\u001b[32m]\u001b[0m\u001b[32m\\n        if \u001b[0m\n",
       "\u001b[32mres.get\u001b[0m\u001b[32m(\u001b[0m\u001b[32m\"organic\"\u001b[0m\u001b[32m)\u001b[0m\u001b[32m:\\n            toret_l += \u001b[0m\u001b[32m[\u001b[0m\u001b[32mget_focused\u001b[0m\u001b[32m(\u001b[0m\u001b[32mi\u001b[0m\u001b[32m)\u001b[0m\u001b[32m for i in res.get\u001b[0m\u001b[32m(\u001b[0m\u001b[32m\"organic\"\u001b[0m\u001b[32m)\u001b[0m\u001b[32m]\u001b[0m\u001b[32m\\n\\n        return \u001b[0m\n",
       "\u001b[32mstr\u001b[0m\u001b[32m(\u001b[0m\u001b[32mtoret\u001b[0m\u001b[32m)\u001b[0m\u001b[32m + \\'\\\\n\\' + str\u001b[0m\u001b[32m(\u001b[0m\u001b[32mtoret_l\u001b[0m\u001b[32m)\u001b[0m\u001b[32m'\u001b[0m\n",
       "\u001b[1m}\u001b[0m\n"
      ]
     },
     "metadata": {},
     "output_type": "display_data"
    },
    {
     "data": {
      "text/html": [
       "<pre style=\"white-space:pre;overflow-x:auto;line-height:normal;font-family:Menlo,'DejaVu Sans Mono',consolas,'Courier New',monospace\"><span style=\"font-weight: bold\">{}</span>\n",
       "</pre>\n"
      ],
      "text/plain": [
       "\u001b[1m{\u001b[0m\u001b[1m}\u001b[0m\n"
      ]
     },
     "metadata": {},
     "output_type": "display_data"
    },
    {
     "data": {
      "text/html": [
       "<pre style=\"white-space:pre;overflow-x:auto;line-height:normal;font-family:Menlo,'DejaVu Sans Mono',consolas,'Courier New',monospace\"><span style=\"font-weight: bold\">{</span>\n",
       "    <span style=\"color: #008000; text-decoration-color: #008000\">'SearchEngineType'</span>: <span style=\"color: #008000; text-decoration-color: #008000\">'class SearchEngineType(Enum):\\n    SERPAPI_GOOGLE = auto()\\n    DIRECT_GOOGLE = auto()\\n  </span>\n",
       "<span style=\"color: #008000; text-decoration-color: #008000\">SERPER_GOOGLE = auto()\\n    CUSTOM_ENGINE = auto()\\n'</span>,\n",
       "    <span style=\"color: #008000; text-decoration-color: #008000\">'WebBrowserEngineType'</span>: <span style=\"color: #008000; text-decoration-color: #008000\">'class WebBrowserEngineType(Enum):\\n    PLAYWRIGHT = \"playwright\"\\n    SELENIUM = </span>\n",
       "<span style=\"color: #008000; text-decoration-color: #008000\">\"selenium\"\\n    CUSTOM = \"custom\"'</span>\n",
       "<span style=\"font-weight: bold\">}</span>\n",
       "</pre>\n"
      ],
      "text/plain": [
       "\u001b[1m{\u001b[0m\n",
       "    \u001b[32m'SearchEngineType'\u001b[0m: \u001b[32m'class SearchEngineType\u001b[0m\u001b[32m(\u001b[0m\u001b[32mEnum\u001b[0m\u001b[32m)\u001b[0m\u001b[32m:\\n    SERPAPI_GOOGLE = auto\u001b[0m\u001b[32m(\u001b[0m\u001b[32m)\u001b[0m\u001b[32m\\n    DIRECT_GOOGLE = auto\u001b[0m\u001b[32m(\u001b[0m\u001b[32m)\u001b[0m\u001b[32m\\n  \u001b[0m\n",
       "\u001b[32mSERPER_GOOGLE = auto\u001b[0m\u001b[32m(\u001b[0m\u001b[32m)\u001b[0m\u001b[32m\\n    CUSTOM_ENGINE = auto\u001b[0m\u001b[32m(\u001b[0m\u001b[32m)\u001b[0m\u001b[32m\\n'\u001b[0m,\n",
       "    \u001b[32m'WebBrowserEngineType'\u001b[0m: \u001b[32m'class WebBrowserEngineType\u001b[0m\u001b[32m(\u001b[0m\u001b[32mEnum\u001b[0m\u001b[32m)\u001b[0m\u001b[32m:\\n    PLAYWRIGHT = \"playwright\"\\n    SELENIUM = \u001b[0m\n",
       "\u001b[32m\"selenium\"\\n    CUSTOM = \"custom\"'\u001b[0m\n",
       "\u001b[1m}\u001b[0m\n"
      ]
     },
     "metadata": {},
     "output_type": "display_data"
    },
    {
     "data": {
      "text/html": [
       "<pre style=\"white-space:pre;overflow-x:auto;line-height:normal;font-family:Menlo,'DejaVu Sans Mono',consolas,'Courier New',monospace\"><span style=\"font-weight: bold\">{}</span>\n",
       "</pre>\n"
      ],
      "text/plain": [
       "\u001b[1m{\u001b[0m\u001b[1m}\u001b[0m\n"
      ]
     },
     "metadata": {},
     "output_type": "display_data"
    },
    {
     "data": {
      "text/html": [
       "<pre style=\"white-space:pre;overflow-x:auto;line-height:normal;font-family:Menlo,'DejaVu Sans Mono',consolas,'Courier New',monospace\"><span style=\"font-weight: bold\">{</span>\n",
       "    <span style=\"color: #008000; text-decoration-color: #008000\">'SeleniumWrapper'</span>: <span style=\"color: #008000; text-decoration-color: #008000\">'class SeleniumWrapper:\\n    \"\"\"Wrapper around Selenium.\\n\\n    To use this module, you </span>\n",
       "<span style=\"color: #008000; text-decoration-color: #008000\">should check the following:\\n\\n    1. Run the following command: pip install metagpt[selenium].\\n    2. Make sure </span>\n",
       "<span style=\"color: #008000; text-decoration-color: #008000\">you have a compatible web browser installed and the appropriate WebDriver set up\\n       for that browser before </span>\n",
       "<span style=\"color: #008000; text-decoration-color: #008000\">running. For example, if you have Mozilla Firefox installed on your\\n       computer, you can set the configuration</span>\n",
       "<span style=\"color: #008000; text-decoration-color: #008000\">SELENIUM_BROWSER_TYPE to firefox. After that, you\\n       can scrape web pages using the Selenium </span>\n",
       "<span style=\"color: #008000; text-decoration-color: #008000\">WebBrowserEngine.\\n    \"\"\"\\n\\n    def __init__(\\n        self,\\n        browser_type: Literal[\"chrome\", \"firefox\", </span>\n",
       "<span style=\"color: #008000; text-decoration-color: #008000\">\"edge\", \"ie\"] | None = None,\\n        launch_kwargs: dict | None = None,\\n        *,\\n        loop: </span>\n",
       "<span style=\"color: #008000; text-decoration-color: #008000\">asyncio.AbstractEventLoop | None = None,\\n        executor: futures.Executor | None = None,\\n    ) -&gt; None:\\n      </span>\n",
       "<span style=\"color: #008000; text-decoration-color: #008000\">if browser_type is None:\\n            browser_type = CONFIG.selenium_browser_type\\n        self.browser_type = </span>\n",
       "<span style=\"color: #008000; text-decoration-color: #008000\">browser_type\\n        launch_kwargs = launch_kwargs or {}\\n        if CONFIG.global_proxy and \"proxy-server\" not in</span>\n",
       "<span style=\"color: #008000; text-decoration-color: #008000\">launch_kwargs:\\n            launch_kwargs[\"proxy-server\"] = CONFIG.global_proxy\\n\\n        self.executable_path = </span>\n",
       "<span style=\"color: #008000; text-decoration-color: #008000\">launch_kwargs.pop(\"executable_path\", None)\\n        self.launch_args = [f\"--{k}={v}\" for k, v in </span>\n",
       "<span style=\"color: #008000; text-decoration-color: #008000\">launch_kwargs.items()]\\n        self._has_run_precheck = False\\n        self._get_driver = None\\n        self.loop </span>\n",
       "<span style=\"color: #008000; text-decoration-color: #008000\">= loop\\n        self.executor = executor\\n\\n    async def run(self, url: str, *urls: str) -&gt; str | list[str]:\\n    </span>\n",
       "<span style=\"color: #008000; text-decoration-color: #008000\">await self._run_precheck()\\n\\n        _scrape = lambda url: self.loop.run_in_executor(self.executor, </span>\n",
       "<span style=\"color: #008000; text-decoration-color: #008000\">self._scrape_website, url)\\n\\n        if urls:\\n            return await asyncio.gather(_scrape(url), *(_scrape(i) </span>\n",
       "<span style=\"color: #008000; text-decoration-color: #008000\">for i in urls))\\n        return await _scrape(url)\\n\\n    async def _run_precheck(self):\\n        if </span>\n",
       "<span style=\"color: #008000; text-decoration-color: #008000\">self._has_run_precheck:\\n            return\\n        self.loop = self.loop or asyncio.get_event_loop()\\n        </span>\n",
       "<span style=\"color: #008000; text-decoration-color: #008000\">self._get_driver = await self.loop.run_in_executor(\\n            self.executor,\\n            lambda: </span>\n",
       "<span style=\"color: #008000; text-decoration-color: #008000\">_gen_get_driver_func(self.browser_type, *self.launch_args, executable_path=self.executable_path),\\n        )\\n     </span>\n",
       "<span style=\"color: #008000; text-decoration-color: #008000\">self._has_run_precheck = True\\n\\n    def _scrape_website(self, url):\\n        with self._get_driver() as driver:\\n </span>\n",
       "<span style=\"color: #008000; text-decoration-color: #008000\">driver.get(url)\\n            WebDriverWait(driver, 30).until(EC.presence_of_element_located((By.TAG_NAME, </span>\n",
       "<span style=\"color: #008000; text-decoration-color: #008000\">\"body\")))\\n            return driver.page_source\\n'</span>\n",
       "<span style=\"font-weight: bold\">}</span>\n",
       "</pre>\n"
      ],
      "text/plain": [
       "\u001b[1m{\u001b[0m\n",
       "    \u001b[32m'SeleniumWrapper'\u001b[0m: \u001b[32m'class SeleniumWrapper:\\n    \"\"\"Wrapper around Selenium.\\n\\n    To use this module, you \u001b[0m\n",
       "\u001b[32mshould check the following:\\n\\n    1. Run the following command: pip install metagpt\u001b[0m\u001b[32m[\u001b[0m\u001b[32mselenium\u001b[0m\u001b[32m]\u001b[0m\u001b[32m.\\n    2. Make sure \u001b[0m\n",
       "\u001b[32myou have a compatible web browser installed and the appropriate WebDriver set up\\n       for that browser before \u001b[0m\n",
       "\u001b[32mrunning. For example, if you have Mozilla Firefox installed on your\\n       computer, you can set the configuration\u001b[0m\n",
       "\u001b[32mSELENIUM_BROWSER_TYPE to firefox. After that, you\\n       can scrape web pages using the Selenium \u001b[0m\n",
       "\u001b[32mWebBrowserEngine.\\n    \"\"\"\\n\\n    def __init__\u001b[0m\u001b[32m(\u001b[0m\u001b[32m\\n        self,\\n        browser_type: Literal\u001b[0m\u001b[32m[\u001b[0m\u001b[32m\"chrome\", \"firefox\", \u001b[0m\n",
       "\u001b[32m\"edge\", \"ie\"\u001b[0m\u001b[32m]\u001b[0m\u001b[32m | None = None,\\n        launch_kwargs: dict | None = None,\\n        *,\\n        loop: \u001b[0m\n",
       "\u001b[32masyncio.AbstractEventLoop | None = None,\\n        executor: futures.Executor | None = None,\\n    \u001b[0m\u001b[32m)\u001b[0m\u001b[32m -> None:\\n      \u001b[0m\n",
       "\u001b[32mif browser_type is None:\\n            browser_type = CONFIG.selenium_browser_type\\n        self.browser_type = \u001b[0m\n",
       "\u001b[32mbrowser_type\\n        launch_kwargs = launch_kwargs or \u001b[0m\u001b[32m{\u001b[0m\u001b[32m}\u001b[0m\u001b[32m\\n        if CONFIG.global_proxy and \"proxy-server\" not in\u001b[0m\n",
       "\u001b[32mlaunch_kwargs:\\n            launch_kwargs\u001b[0m\u001b[32m[\u001b[0m\u001b[32m\"proxy-server\"\u001b[0m\u001b[32m]\u001b[0m\u001b[32m = CONFIG.global_proxy\\n\\n        self.executable_path = \u001b[0m\n",
       "\u001b[32mlaunch_kwargs.pop\u001b[0m\u001b[32m(\u001b[0m\u001b[32m\"executable_path\", None\u001b[0m\u001b[32m)\u001b[0m\u001b[32m\\n        self.launch_args = \u001b[0m\u001b[32m[\u001b[0m\u001b[32mf\"--\u001b[0m\u001b[32m{\u001b[0m\u001b[32mk\u001b[0m\u001b[32m}\u001b[0m\u001b[32m=\u001b[0m\u001b[32m{\u001b[0m\u001b[32mv\u001b[0m\u001b[32m}\u001b[0m\u001b[32m\" for k, v in \u001b[0m\n",
       "\u001b[32mlaunch_kwargs.items\u001b[0m\u001b[32m(\u001b[0m\u001b[32m)\u001b[0m\u001b[32m]\u001b[0m\u001b[32m\\n        self._has_run_precheck = False\\n        self._get_driver = None\\n        self.loop \u001b[0m\n",
       "\u001b[32m= loop\\n        self.executor = executor\\n\\n    async def run\u001b[0m\u001b[32m(\u001b[0m\u001b[32mself, url: str, *urls: str\u001b[0m\u001b[32m)\u001b[0m\u001b[32m -> str | list\u001b[0m\u001b[32m[\u001b[0m\u001b[32mstr\u001b[0m\u001b[32m]\u001b[0m\u001b[32m:\\n    \u001b[0m\n",
       "\u001b[32mawait self._run_precheck\u001b[0m\u001b[32m(\u001b[0m\u001b[32m)\u001b[0m\u001b[32m\\n\\n        _scrape = lambda url: self.loop.run_in_executor\u001b[0m\u001b[32m(\u001b[0m\u001b[32mself.executor, \u001b[0m\n",
       "\u001b[32mself._scrape_website, url\u001b[0m\u001b[32m)\u001b[0m\u001b[32m\\n\\n        if urls:\\n            return await asyncio.gather\u001b[0m\u001b[32m(\u001b[0m\u001b[32m_scrape\u001b[0m\u001b[32m(\u001b[0m\u001b[32murl\u001b[0m\u001b[32m)\u001b[0m\u001b[32m, *\u001b[0m\u001b[32m(\u001b[0m\u001b[32m_scrape\u001b[0m\u001b[32m(\u001b[0m\u001b[32mi\u001b[0m\u001b[32m)\u001b[0m\u001b[32m \u001b[0m\n",
       "\u001b[32mfor i in urls\u001b[0m\u001b[32m)\u001b[0m\u001b[32m)\u001b[0m\u001b[32m\\n        return await _scrape\u001b[0m\u001b[32m(\u001b[0m\u001b[32murl\u001b[0m\u001b[32m)\u001b[0m\u001b[32m\\n\\n    async def _run_precheck\u001b[0m\u001b[32m(\u001b[0m\u001b[32mself\u001b[0m\u001b[32m)\u001b[0m\u001b[32m:\\n        if \u001b[0m\n",
       "\u001b[32mself._has_run_precheck:\\n            return\\n        self.loop = self.loop or asyncio.get_event_loop\u001b[0m\u001b[32m(\u001b[0m\u001b[32m)\u001b[0m\u001b[32m\\n        \u001b[0m\n",
       "\u001b[32mself._get_driver = await self.loop.run_in_executor\u001b[0m\u001b[32m(\u001b[0m\u001b[32m\\n            self.executor,\\n            lambda: \u001b[0m\n",
       "\u001b[32m_gen_get_driver_func\u001b[0m\u001b[32m(\u001b[0m\u001b[32mself.browser_type, *self.launch_args, \u001b[0m\u001b[32mexecutable_path\u001b[0m\u001b[32m=\u001b[0m\u001b[32mself\u001b[0m\u001b[32m.executable_path\u001b[0m\u001b[32m)\u001b[0m\u001b[32m,\\n        \u001b[0m\u001b[32m)\u001b[0m\u001b[32m\\n     \u001b[0m\n",
       "\u001b[32mself._has_run_precheck = True\\n\\n    def _scrape_website\u001b[0m\u001b[32m(\u001b[0m\u001b[32mself, url\u001b[0m\u001b[32m)\u001b[0m\u001b[32m:\\n        with self._get_driver\u001b[0m\u001b[32m(\u001b[0m\u001b[32m)\u001b[0m\u001b[32m as driver:\\n \u001b[0m\n",
       "\u001b[32mdriver.get\u001b[0m\u001b[32m(\u001b[0m\u001b[32murl\u001b[0m\u001b[32m)\u001b[0m\u001b[32m\\n            WebDriverWait\u001b[0m\u001b[32m(\u001b[0m\u001b[32mdriver, 30\u001b[0m\u001b[32m)\u001b[0m\u001b[32m.until\u001b[0m\u001b[32m(\u001b[0m\u001b[32mEC.presence_of_element_located\u001b[0m\u001b[32m(\u001b[0m\u001b[32m(\u001b[0m\u001b[32mBy.TAG_NAME, \u001b[0m\n",
       "\u001b[32m\"body\"\u001b[0m\u001b[32m)\u001b[0m\u001b[32m)\u001b[0m\u001b[32m)\u001b[0m\u001b[32m\\n            return driver.page_source\\n'\u001b[0m\n",
       "\u001b[1m}\u001b[0m\n"
      ]
     },
     "metadata": {},
     "output_type": "display_data"
    },
    {
     "data": {
      "text/html": [
       "<pre style=\"white-space:pre;overflow-x:auto;line-height:normal;font-family:Menlo,'DejaVu Sans Mono',consolas,'Courier New',monospace\"><span style=\"font-weight: bold\">{</span>\n",
       "    <span style=\"color: #008000; text-decoration-color: #008000\">'decode_base64_to_image'</span>: <span style=\"color: #008000; text-decoration-color: #008000\">'def decode_base64_to_image(img, save_name):\\n    image = </span>\n",
       "<span style=\"color: #008000; text-decoration-color: #008000\">Image.open(io.BytesIO(base64.b64decode(img.split(\",\", 1)[0])))\\n    pnginfo = PngImagePlugin.PngInfo()\\n    </span>\n",
       "<span style=\"color: #008000; text-decoration-color: #008000\">logger.info(save_name)\\n    image.save(f\"{save_name}.png\", pnginfo=pnginfo)\\n    return pnginfo, image\\n'</span>,\n",
       "    <span style=\"color: #008000; text-decoration-color: #008000\">'batch_decode_base64_to_image'</span>: <span style=\"color: #008000; text-decoration-color: #008000\">'def batch_decode_base64_to_image(imgs, save_dir=\"\", save_name=\"\"):\\n    for </span>\n",
       "<span style=\"color: #008000; text-decoration-color: #008000\">idx, _img in enumerate(imgs):\\n        save_name = join(save_dir, save_name)\\n        decode_base64_to_image(_img, </span>\n",
       "<span style=\"color: #008000; text-decoration-color: #008000\">save_name=save_name)\\n'</span>\n",
       "<span style=\"font-weight: bold\">}</span>\n",
       "</pre>\n"
      ],
      "text/plain": [
       "\u001b[1m{\u001b[0m\n",
       "    \u001b[32m'decode_base64_to_image'\u001b[0m: \u001b[32m'def decode_base64_to_image\u001b[0m\u001b[32m(\u001b[0m\u001b[32mimg, save_name\u001b[0m\u001b[32m)\u001b[0m\u001b[32m:\\n    image = \u001b[0m\n",
       "\u001b[32mImage.open\u001b[0m\u001b[32m(\u001b[0m\u001b[32mio.BytesIO\u001b[0m\u001b[32m(\u001b[0m\u001b[32mbase64.b64decode\u001b[0m\u001b[32m(\u001b[0m\u001b[32mimg.split\u001b[0m\u001b[32m(\u001b[0m\u001b[32m\",\", 1\u001b[0m\u001b[32m)\u001b[0m\u001b[32m[\u001b[0m\u001b[32m0\u001b[0m\u001b[32m]\u001b[0m\u001b[32m)\u001b[0m\u001b[32m)\u001b[0m\u001b[32m)\u001b[0m\u001b[32m\\n    pnginfo = PngImagePlugin.PngInfo\u001b[0m\u001b[32m(\u001b[0m\u001b[32m)\u001b[0m\u001b[32m\\n    \u001b[0m\n",
       "\u001b[32mlogger.info\u001b[0m\u001b[32m(\u001b[0m\u001b[32msave_name\u001b[0m\u001b[32m)\u001b[0m\u001b[32m\\n    image.save\u001b[0m\u001b[32m(\u001b[0m\u001b[32mf\"\u001b[0m\u001b[32m{\u001b[0m\u001b[32msave_name\u001b[0m\u001b[32m}\u001b[0m\u001b[32m.png\", \u001b[0m\u001b[32mpnginfo\u001b[0m\u001b[32m=\u001b[0m\u001b[32mpnginfo\u001b[0m\u001b[32m)\u001b[0m\u001b[32m\\n    return pnginfo, image\\n'\u001b[0m,\n",
       "    \u001b[32m'batch_decode_base64_to_image'\u001b[0m: \u001b[32m'def batch_decode_base64_to_image\u001b[0m\u001b[32m(\u001b[0m\u001b[32mimgs, \u001b[0m\u001b[32msave_dir\u001b[0m\u001b[32m=\"\", \u001b[0m\u001b[32msave_name\u001b[0m\u001b[32m=\"\"\u001b[0m\u001b[32m)\u001b[0m\u001b[32m:\\n    for \u001b[0m\n",
       "\u001b[32midx, _img in enumerate\u001b[0m\u001b[32m(\u001b[0m\u001b[32mimgs\u001b[0m\u001b[32m)\u001b[0m\u001b[32m:\\n        save_name = join\u001b[0m\u001b[32m(\u001b[0m\u001b[32msave_dir, save_name\u001b[0m\u001b[32m)\u001b[0m\u001b[32m\\n        decode_base64_to_image\u001b[0m\u001b[32m(\u001b[0m\u001b[32m_img, \u001b[0m\n",
       "\u001b[32msave_name\u001b[0m\u001b[32m=\u001b[0m\u001b[32msave_name\u001b[0m\u001b[32m)\u001b[0m\u001b[32m\\n'\u001b[0m\n",
       "\u001b[1m}\u001b[0m\n"
      ]
     },
     "metadata": {},
     "output_type": "display_data"
    },
    {
     "data": {
      "text/html": [
       "<pre style=\"white-space:pre;overflow-x:auto;line-height:normal;font-family:Menlo,'DejaVu Sans Mono',consolas,'Courier New',monospace\"><span style=\"font-weight: bold\">{</span>\n",
       "    <span style=\"color: #008000; text-decoration-color: #008000\">'SDEngine'</span>: <span style=\"color: #008000; text-decoration-color: #008000\">'class SDEngine:\\n    def __init__(self):\\n        # Initialize the SDEngine with configuration\\n  </span>\n",
       "<span style=\"color: #008000; text-decoration-color: #008000\">self.config = Config()\\n        self.sd_url = self.config.get(\\'SD_URL\\')\\n        self.sd_t2i_url = </span>\n",
       "<span style=\"color: #008000; text-decoration-color: #008000\">f\"{self.sd_url}{self.config.get(\\'SD_T2I_API\\')}\"\\n        # Define default payload settings for SD API\\n        </span>\n",
       "<span style=\"color: #008000; text-decoration-color: #008000\">self.payload = payload\\n        logger.info(self.sd_t2i_url)\\n    \\n    def construct_payload(self, prompt, </span>\n",
       "<span style=\"color: #008000; text-decoration-color: #008000\">negtive_prompt=default_negative_prompt, width=512, height=512,\\n                          </span>\n",
       "<span style=\"color: #008000; text-decoration-color: #008000\">sd_model=\"galaxytimemachinesGTM_photoV20\"):\\n        # Configure the payload with provided inputs\\n        </span>\n",
       "<span style=\"color: #008000; text-decoration-color: #008000\">self.payload[\"prompt\"] = prompt\\n        self.payload[\"negtive_prompt\"] = negtive_prompt\\n        </span>\n",
       "<span style=\"color: #008000; text-decoration-color: #008000\">self.payload[\"width\"] = width\\n        self.payload[\"height\"] = height\\n        </span>\n",
       "<span style=\"color: #008000; text-decoration-color: #008000\">self.payload[\"override_settings\"][\"sd_model_checkpoint\"] = sd_model\\n        logger.info(f\"call sd payload is </span>\n",
       "<span style=\"color: #008000; text-decoration-color: #008000\">{self.payload}\")\\n        return self.payload\\n    \\n    def _save(self, imgs, save_name=\"\"):\\n        save_dir = </span>\n",
       "<span style=\"color: #008000; text-decoration-color: #008000\">WORKSPACE_ROOT / \"resources\"/\"SD_Output\"\\n        if not os.path.exists(save_dir):\\n            </span>\n",
       "<span style=\"color: #008000; text-decoration-color: #008000\">os.makedirs(save_dir, exist_ok=True)\\n        batch_decode_base64_to_image(imgs, save_dir, save_name=save_name)\\n  </span>\n",
       "<span style=\"color: #008000; text-decoration-color: #008000\">\\n    async def run_t2i(self, prompts: List):\\n        # Asynchronously run the SD API for multiple prompts\\n      </span>\n",
       "<span style=\"color: #008000; text-decoration-color: #008000\">session = ClientSession()\\n        for payload_idx, payload in enumerate(prompts):\\n            results = await </span>\n",
       "<span style=\"color: #008000; text-decoration-color: #008000\">self.run(url=self.sd_t2i_url, payload=payload, session=session)\\n            self._save(results, </span>\n",
       "<span style=\"color: #008000; text-decoration-color: #008000\">save_name=f\"output_{payload_idx}\")\\n        await session.close()\\n    \\n    async def run(self, url, payload, </span>\n",
       "<span style=\"color: #008000; text-decoration-color: #008000\">session):\\n        # Perform the HTTP POST request to the SD API\\n        async with session.post(url, </span>\n",
       "<span style=\"color: #008000; text-decoration-color: #008000\">json=payload, timeout=600) as rsp:\\n            data = await rsp.read()\\n        \\n        rsp_json = </span>\n",
       "<span style=\"color: #008000; text-decoration-color: #008000\">json.loads(data)\\n        imgs = rsp_json[\\'images\\']\\n        logger.info(f\"callback rsp json is </span>\n",
       "<span style=\"color: #008000; text-decoration-color: #008000\">{rsp_json.keys()}\")\\n        return imgs\\n    \\n    async def run_i2i(self):\\n        # todo: 添加图生图接口调用\\n </span>\n",
       "<span style=\"color: #008000; text-decoration-color: #008000\">raise NotImplementedError\\n    \\n    async def run_sam(self):\\n        # todo：添加SAM接口调用\\n        raise </span>\n",
       "<span style=\"color: #008000; text-decoration-color: #008000\">NotImplementedError\\n'</span>\n",
       "<span style=\"font-weight: bold\">}</span>\n",
       "</pre>\n"
      ],
      "text/plain": [
       "\u001b[1m{\u001b[0m\n",
       "    \u001b[32m'SDEngine'\u001b[0m: \u001b[32m'class SDEngine:\\n    def __init__\u001b[0m\u001b[32m(\u001b[0m\u001b[32mself\u001b[0m\u001b[32m)\u001b[0m\u001b[32m:\\n        # Initialize the SDEngine with configuration\\n  \u001b[0m\n",
       "\u001b[32mself.config = Config\u001b[0m\u001b[32m(\u001b[0m\u001b[32m)\u001b[0m\u001b[32m\\n        self.sd_url = self.config.get\u001b[0m\u001b[32m(\u001b[0m\u001b[32m\\'SD_URL\\'\u001b[0m\u001b[32m)\u001b[0m\u001b[32m\\n        self.sd_t2i_url = \u001b[0m\n",
       "\u001b[32mf\"\u001b[0m\u001b[32m{\u001b[0m\u001b[32mself.sd_url\u001b[0m\u001b[32m}\u001b[0m\u001b[32m{\u001b[0m\u001b[32mself.config.get\u001b[0m\u001b[32m(\u001b[0m\u001b[32m\\'SD_T2I_API\\'\u001b[0m\u001b[32m)\u001b[0m\u001b[32m}\u001b[0m\u001b[32m\"\\n        # Define default payload settings for SD API\\n        \u001b[0m\n",
       "\u001b[32mself.payload = payload\\n        logger.info\u001b[0m\u001b[32m(\u001b[0m\u001b[32mself.sd_t2i_url\u001b[0m\u001b[32m)\u001b[0m\u001b[32m\\n    \\n    def construct_payload\u001b[0m\u001b[32m(\u001b[0m\u001b[32mself, prompt, \u001b[0m\n",
       "\u001b[32mnegtive_prompt\u001b[0m\u001b[32m=\u001b[0m\u001b[32mdefault_negative_prompt\u001b[0m\u001b[32m, \u001b[0m\u001b[32mwidth\u001b[0m\u001b[32m=\u001b[0m\u001b[32m512\u001b[0m\u001b[32m, \u001b[0m\u001b[32mheight\u001b[0m\u001b[32m=\u001b[0m\u001b[32m512\u001b[0m\u001b[32m,\\n                          \u001b[0m\n",
       "\u001b[32msd_model\u001b[0m\u001b[32m=\u001b[0m\u001b[32m\"galaxytimemachinesGTM_photoV20\"\u001b[0m\u001b[32m)\u001b[0m\u001b[32m:\\n        # Configure the payload with provided inputs\\n        \u001b[0m\n",
       "\u001b[32mself.payload\u001b[0m\u001b[32m[\u001b[0m\u001b[32m\"prompt\"\u001b[0m\u001b[32m]\u001b[0m\u001b[32m = prompt\\n        self.payload\u001b[0m\u001b[32m[\u001b[0m\u001b[32m\"negtive_prompt\"\u001b[0m\u001b[32m]\u001b[0m\u001b[32m = negtive_prompt\\n        \u001b[0m\n",
       "\u001b[32mself.payload\u001b[0m\u001b[32m[\u001b[0m\u001b[32m\"width\"\u001b[0m\u001b[32m]\u001b[0m\u001b[32m = width\\n        self.payload\u001b[0m\u001b[32m[\u001b[0m\u001b[32m\"height\"\u001b[0m\u001b[32m]\u001b[0m\u001b[32m = height\\n        \u001b[0m\n",
       "\u001b[32mself.payload\u001b[0m\u001b[32m[\u001b[0m\u001b[32m\"override_settings\"\u001b[0m\u001b[32m]\u001b[0m\u001b[32m[\u001b[0m\u001b[32m\"sd_model_checkpoint\"\u001b[0m\u001b[32m]\u001b[0m\u001b[32m = sd_model\\n        logger.info\u001b[0m\u001b[32m(\u001b[0m\u001b[32mf\"call sd payload is \u001b[0m\n",
       "\u001b[32m{\u001b[0m\u001b[32mself.payload\u001b[0m\u001b[32m}\u001b[0m\u001b[32m\"\u001b[0m\u001b[32m)\u001b[0m\u001b[32m\\n        return self.payload\\n    \\n    def _save\u001b[0m\u001b[32m(\u001b[0m\u001b[32mself, imgs, \u001b[0m\u001b[32msave_name\u001b[0m\u001b[32m=\"\"\u001b[0m\u001b[32m)\u001b[0m\u001b[32m:\\n        save_dir = \u001b[0m\n",
       "\u001b[32mWORKSPACE_ROOT / \"resources\"/\"SD_Output\"\\n        if not os.path.exists\u001b[0m\u001b[32m(\u001b[0m\u001b[32msave_dir\u001b[0m\u001b[32m)\u001b[0m\u001b[32m:\\n            \u001b[0m\n",
       "\u001b[32mos.makedirs\u001b[0m\u001b[32m(\u001b[0m\u001b[32msave_dir, \u001b[0m\u001b[32mexist_ok\u001b[0m\u001b[32m=\u001b[0m\u001b[32mTrue\u001b[0m\u001b[32m)\u001b[0m\u001b[32m\\n        batch_decode_base64_to_image\u001b[0m\u001b[32m(\u001b[0m\u001b[32mimgs, save_dir, \u001b[0m\u001b[32msave_name\u001b[0m\u001b[32m=\u001b[0m\u001b[32msave_name\u001b[0m\u001b[32m)\u001b[0m\u001b[32m\\n  \u001b[0m\n",
       "\u001b[32m\\n    async def run_t2i\u001b[0m\u001b[32m(\u001b[0m\u001b[32mself, prompts: List\u001b[0m\u001b[32m)\u001b[0m\u001b[32m:\\n        # Asynchronously run the SD API for multiple prompts\\n      \u001b[0m\n",
       "\u001b[32msession = ClientSession\u001b[0m\u001b[32m(\u001b[0m\u001b[32m)\u001b[0m\u001b[32m\\n        for payload_idx, payload in enumerate\u001b[0m\u001b[32m(\u001b[0m\u001b[32mprompts\u001b[0m\u001b[32m)\u001b[0m\u001b[32m:\\n            results = await \u001b[0m\n",
       "\u001b[32mself.run\u001b[0m\u001b[32m(\u001b[0m\u001b[32murl\u001b[0m\u001b[32m=\u001b[0m\u001b[32mself\u001b[0m\u001b[32m.sd_t2i_url, \u001b[0m\u001b[32mpayload\u001b[0m\u001b[32m=\u001b[0m\u001b[32mpayload\u001b[0m\u001b[32m, \u001b[0m\u001b[32msession\u001b[0m\u001b[32m=\u001b[0m\u001b[32msession\u001b[0m\u001b[32m)\u001b[0m\u001b[32m\\n            self._save\u001b[0m\u001b[32m(\u001b[0m\u001b[32mresults, \u001b[0m\n",
       "\u001b[32msave_name\u001b[0m\u001b[32m=\u001b[0m\u001b[32mf\"\u001b[0m\u001b[32moutput_\u001b[0m\u001b[32m{\u001b[0m\u001b[32mpayload_idx\u001b[0m\u001b[32m}\u001b[0m\u001b[32m\"\u001b[0m\u001b[32m)\u001b[0m\u001b[32m\\n        await session.close\u001b[0m\u001b[32m(\u001b[0m\u001b[32m)\u001b[0m\u001b[32m\\n    \\n    async def run\u001b[0m\u001b[32m(\u001b[0m\u001b[32mself, url, payload, \u001b[0m\n",
       "\u001b[32msession\u001b[0m\u001b[32m)\u001b[0m\u001b[32m:\\n        # Perform the HTTP POST request to the SD API\\n        async with session.post\u001b[0m\u001b[32m(\u001b[0m\u001b[32murl, \u001b[0m\n",
       "\u001b[32mjson\u001b[0m\u001b[32m=\u001b[0m\u001b[32mpayload\u001b[0m\u001b[32m, \u001b[0m\u001b[32mtimeout\u001b[0m\u001b[32m=\u001b[0m\u001b[32m600\u001b[0m\u001b[32m)\u001b[0m\u001b[32m as rsp:\\n            data = await rsp.read\u001b[0m\u001b[32m(\u001b[0m\u001b[32m)\u001b[0m\u001b[32m\\n        \\n        rsp_json = \u001b[0m\n",
       "\u001b[32mjson.loads\u001b[0m\u001b[32m(\u001b[0m\u001b[32mdata\u001b[0m\u001b[32m)\u001b[0m\u001b[32m\\n        imgs = rsp_json\u001b[0m\u001b[32m[\u001b[0m\u001b[32m\\'images\\'\u001b[0m\u001b[32m]\u001b[0m\u001b[32m\\n        logger.info\u001b[0m\u001b[32m(\u001b[0m\u001b[32mf\"callback rsp json is \u001b[0m\n",
       "\u001b[32m{\u001b[0m\u001b[32mrsp_json.keys\u001b[0m\u001b[32m(\u001b[0m\u001b[32m)\u001b[0m\u001b[32m}\u001b[0m\u001b[32m\"\u001b[0m\u001b[32m)\u001b[0m\u001b[32m\\n        return imgs\\n    \\n    async def run_i2i\u001b[0m\u001b[32m(\u001b[0m\u001b[32mself\u001b[0m\u001b[32m)\u001b[0m\u001b[32m:\\n        # todo: 添加图生图接口调用\\n \u001b[0m\n",
       "\u001b[32mraise NotImplementedError\\n    \\n    async def run_sam\u001b[0m\u001b[32m(\u001b[0m\u001b[32mself\u001b[0m\u001b[32m)\u001b[0m\u001b[32m:\\n        # todo：添加SAM接口调用\\n        raise \u001b[0m\n",
       "\u001b[32mNotImplementedError\\n'\u001b[0m\n",
       "\u001b[1m}\u001b[0m\n"
      ]
     },
     "metadata": {},
     "output_type": "display_data"
    },
    {
     "data": {
      "text/html": [
       "<pre style=\"white-space:pre;overflow-x:auto;line-height:normal;font-family:Menlo,'DejaVu Sans Mono',consolas,'Courier New',monospace\"><span style=\"font-weight: bold\">{}</span>\n",
       "</pre>\n"
      ],
      "text/plain": [
       "\u001b[1m{\u001b[0m\u001b[1m}\u001b[0m\n"
      ]
     },
     "metadata": {},
     "output_type": "display_data"
    },
    {
     "data": {
      "text/html": [
       "<pre style=\"white-space:pre;overflow-x:auto;line-height:normal;font-family:Menlo,'DejaVu Sans Mono',consolas,'Courier New',monospace\"><span style=\"font-weight: bold\">{</span>\n",
       "    <span style=\"color: #008000; text-decoration-color: #008000\">'UTGenerator'</span>: <span style=\"color: #008000; text-decoration-color: #008000\">'class UTGenerator:\\n    \"\"\"UT生成器：通过API文档构造UT\"\"\"\\n\\n    def __init__(self, </span>\n",
       "<span style=\"color: #008000; text-decoration-color: #008000\">swagger_file: str, ut_py_path: str, questions_path: str,\\n                 chatgpt_method: str = \"API\", </span>\n",
       "<span style=\"color: #008000; text-decoration-color: #008000\">template_prefix=YFT_PROMPT_PREFIX) -&gt; None:\\n        \"\"\"初始化UT生成器\\n\\n        Args:\\n            swagger_file: </span>\n",
       "<span style=\"color: #008000; text-decoration-color: #008000\">swagger路径\\n            ut_py_path: 用例存放路径\\n            questions_path: 模版存放路径，便于后续排查\\n        </span>\n",
       "<span style=\"color: #008000; text-decoration-color: #008000\">chatgpt_method: API\\n            template_prefix: 使用模版，默认使用YFT_UT_PROMPT\\n        \"\"\"\\n        </span>\n",
       "<span style=\"color: #008000; text-decoration-color: #008000\">self.swagger_file = swagger_file\\n        self.ut_py_path = ut_py_path\\n        self.questions_path = </span>\n",
       "<span style=\"color: #008000; text-decoration-color: #008000\">questions_path\\n        assert chatgpt_method in [\"API\"], \"非法chatgpt_method\"\\n        self.chatgpt_method = </span>\n",
       "<span style=\"color: #008000; text-decoration-color: #008000\">chatgpt_method\\n\\n        # ICL: In-Context Learning，这里给出例子，要求GPT模仿例子\\n        self.icl_sample = </span>\n",
       "<span style=\"color: #008000; text-decoration-color: #008000\">ICL_SAMPLE\\n        self.template_prefix = template_prefix\\n\\n    def get_swagger_json(self) -&gt; dict:\\n        </span>\n",
       "<span style=\"color: #008000; text-decoration-color: #008000\">\"\"\"从本地文件加载Swagger JSON\"\"\"\\n        with open(self.swagger_file, \"r\", encoding=\"utf-8\") as file:\\n           </span>\n",
       "<span style=\"color: #008000; text-decoration-color: #008000\">swagger_json = json.load(file)\\n        return swagger_json\\n\\n    def __para_to_str(self, prop, required, </span>\n",
       "<span style=\"color: #008000; text-decoration-color: #008000\">name=\"\"):\\n        name = name or prop[\"name\"]\\n        ptype = prop[\"type\"]\\n        title = prop.get(\"title\", </span>\n",
       "<span style=\"color: #008000; text-decoration-color: #008000\">\"\")\\n        desc = prop.get(\"description\", \"\")\\n        return f\\'{name}\\\\t{ptype}\\\\t{\"是\" if required else </span>\n",
       "<span style=\"color: #008000; text-decoration-color: #008000\">\"否\"}\\\\t{title}\\\\t{desc}\\'\\n\\n    def _para_to_str(self, prop):\\n        required = prop.get(\"required\", False)\\n  </span>\n",
       "<span style=\"color: #008000; text-decoration-color: #008000\">return self.__para_to_str(prop, required)\\n\\n    def para_to_str(self, name, prop, prop_object_required):\\n        </span>\n",
       "<span style=\"color: #008000; text-decoration-color: #008000\">required = name in prop_object_required\\n        return self.__para_to_str(prop, required, name)\\n\\n    def </span>\n",
       "<span style=\"color: #008000; text-decoration-color: #008000\">build_object_properties(self, node, prop_object_required, level: int = 0) -&gt; str:\\n        </span>\n",
       "<span style=\"color: #008000; text-decoration-color: #008000\">\"\"\"递归输出object和array[object]类型的子属性\\n\\n        Args:\\n            node (_type_): 子项的值\\n            </span>\n",
       "<span style=\"color: #008000; text-decoration-color: #008000\">prop_object_required (_type_): 是否必填项\\n            level: 当前递归深度\\n        \"\"\"\\n\\n        doc = \"\"\\n\\n    </span>\n",
       "<span style=\"color: #008000; text-decoration-color: #008000\">def dive_into_object(node):\\n            \"\"\"如果是object类型，递归输出子属性\"\"\"\\n            if node.get(\"type\") ==</span>\n",
       "<span style=\"color: #008000; text-decoration-color: #008000\">\"object\":\\n                sub_properties = node.get(\"properties\", {})\\n                return </span>\n",
       "<span style=\"color: #008000; text-decoration-color: #008000\">self.build_object_properties(sub_properties, prop_object_required, level=level + 1)\\n            return \"\"\\n\\n     </span>\n",
       "<span style=\"color: #008000; text-decoration-color: #008000\">if node.get(\"in\", \"\") in [\"query\", \"header\", \"formData\"]:\\n            doc += f\\'{\"\\t\" * </span>\n",
       "<span style=\"color: #008000; text-decoration-color: #008000\">level}{self._para_to_str(node)}\\\\n\\'\\n            doc += dive_into_object(node)\\n            return doc\\n\\n        </span>\n",
       "<span style=\"color: #008000; text-decoration-color: #008000\">for name, prop in node.items():\\n            doc += f\\'{\"\\t\" * level}{self.para_to_str(name, prop, </span>\n",
       "<span style=\"color: #008000; text-decoration-color: #008000\">prop_object_required)}\\\\n\\'\\n            doc += dive_into_object(prop)\\n            if prop[\"type\"] == \"array\":\\n  </span>\n",
       "<span style=\"color: #008000; text-decoration-color: #008000\">items = prop.get(\"items\", {})\\n                doc += dive_into_object(items)\\n        return doc\\n\\n    def </span>\n",
       "<span style=\"color: #008000; text-decoration-color: #008000\">get_tags_mapping(self) -&gt; dict:\\n        \"\"\"处理tag与path\\n\\n        Returns:\\n            Dict: tag: </span>\n",
       "<span style=\"color: #008000; text-decoration-color: #008000\">path对应关系\\n        \"\"\"\\n        swagger_data = self.get_swagger_json()\\n        paths = swagger_data[\"paths\"]\\n </span>\n",
       "<span style=\"color: #008000; text-decoration-color: #008000\">tags = {}\\n\\n        for path, path_obj in paths.items():\\n            for method, method_obj in </span>\n",
       "<span style=\"color: #008000; text-decoration-color: #008000\">path_obj.items():\\n                for tag in method_obj[\"tags\"]:\\n                    if tag not in tags:\\n       </span>\n",
       "<span style=\"color: #008000; text-decoration-color: #008000\">tags[tag] = {}\\n                    if path not in tags[tag]:\\n                        tags[tag][path] = {}\\n      </span>\n",
       "<span style=\"color: #008000; text-decoration-color: #008000\">tags[tag][path][method] = method_obj\\n\\n        return tags\\n\\n    def generate_ut(self, include_tags) -&gt; bool:\\n  </span>\n",
       "<span style=\"color: #008000; text-decoration-color: #008000\">\"\"\"生成用例文件\"\"\"\\n        tags = self.get_tags_mapping()\\n        for tag, paths in tags.items():\\n            if</span>\n",
       "<span style=\"color: #008000; text-decoration-color: #008000\">include_tags is None or tag in include_tags:\\n                self._generate_ut(tag, paths)\\n        return </span>\n",
       "<span style=\"color: #008000; text-decoration-color: #008000\">True\\n\\n    def build_api_doc(self, node: dict, path: str, method: str) -&gt; str:\\n        summary = </span>\n",
       "<span style=\"color: #008000; text-decoration-color: #008000\">node[\"summary\"]\\n\\n        doc = f\"接口名称：{summary}\\\\n接口路径：{path}\\\\nMethod：{method.upper()}\\\\n\"\\n        </span>\n",
       "<span style=\"color: #008000; text-decoration-color: #008000\">doc += \"\\\\n请求参数：\\\\n\"\\n        if \"parameters\" in node:\\n            parameters = node[\"parameters\"]\\n         </span>\n",
       "<span style=\"color: #008000; text-decoration-color: #008000\">doc += \"路径参数：\\\\n\"\\n\\n            # param[\"in\"]: path / formData / body / query / header\\n            for param</span>\n",
       "<span style=\"color: #008000; text-decoration-color: #008000\">in parameters:\\n                if param[\"in\"] == \"path\":\\n                    doc += f\\'{param[\"name\"]} \\\\n\\'\\n\\n </span>\n",
       "<span style=\"color: #008000; text-decoration-color: #008000\">doc += \"\\\\nBody参数：\\\\n\"\\n            doc += \"名称\\\\t类型\\\\t是否必须\\\\t默认值\\\\t备注\\\\n\"\\n            for param in</span>\n",
       "<span style=\"color: #008000; text-decoration-color: #008000\">parameters:\\n                if param[\"in\"] == \"body\":\\n                    schema = param.get(\"schema\", {})\\n     </span>\n",
       "<span style=\"color: #008000; text-decoration-color: #008000\">prop_properties = schema.get(\"properties\", {})\\n                    prop_required = schema.get(\"required\", [])\\n   </span>\n",
       "<span style=\"color: #008000; text-decoration-color: #008000\">doc += self.build_object_properties(prop_properties, prop_required)\\n                else:\\n                    doc</span>\n",
       "<span style=\"color: #008000; text-decoration-color: #008000\">+= self.build_object_properties(param, [])\\n\\n        # 输出返回数据信息\\n        doc += \"\\\\n返回数据：\\\\n\"\\n      </span>\n",
       "<span style=\"color: #008000; text-decoration-color: #008000\">doc += \"名称\\\\t类型\\\\t是否必须\\\\t默认值\\\\t备注\\\\n\"\\n        responses = node[\"responses\"]\\n        response = </span>\n",
       "<span style=\"color: #008000; text-decoration-color: #008000\">responses.get(\"200\", {})\\n        schema = response.get(\"schema\", {})\\n        properties = </span>\n",
       "<span style=\"color: #008000; text-decoration-color: #008000\">schema.get(\"properties\", {})\\n        required = schema.get(\"required\", {})\\n\\n        doc += </span>\n",
       "<span style=\"color: #008000; text-decoration-color: #008000\">self.build_object_properties(properties, required)\\n        doc += \"\\\\n\"\\n        doc += \"```\"\\n\\n        return </span>\n",
       "<span style=\"color: #008000; text-decoration-color: #008000\">doc\\n\\n    def _store(self, data, base, folder, fname):\\n        file_path = self.get_file_path(Path(base) / </span>\n",
       "<span style=\"color: #008000; text-decoration-color: #008000\">folder, fname)\\n        with open(file_path, \"w\", encoding=\"utf-8\") as file:\\n            file.write(data)\\n\\n    </span>\n",
       "<span style=\"color: #008000; text-decoration-color: #008000\">def ask_gpt_and_save(self, question: str, tag: str, fname: str):\\n        \"\"\"生成问题，并且存储问题与答案\"\"\"\\n     </span>\n",
       "<span style=\"color: #008000; text-decoration-color: #008000\">messages = [self.icl_sample, question]\\n        result = self.gpt_msgs_to_code(messages=messages)\\n\\n        </span>\n",
       "<span style=\"color: #008000; text-decoration-color: #008000\">self._store(question, self.questions_path, tag, f\"{fname}.txt\")\\n        self._store(result, self.ut_py_path, tag, </span>\n",
       "<span style=\"color: #008000; text-decoration-color: #008000\">f\"{fname}.py\")\\n\\n    def _generate_ut(self, tag, paths):\\n        \"\"\"处理数据路径下的结构\\n\\n        Args:\\n      </span>\n",
       "<span style=\"color: #008000; text-decoration-color: #008000\">tag (_type_): 模块名称\\n            paths (_type_): 路径Object\\n        \"\"\"\\n        for path, path_obj in </span>\n",
       "<span style=\"color: #008000; text-decoration-color: #008000\">paths.items():\\n            for method, node in path_obj.items():\\n                summary = node[\"summary\"]\\n     </span>\n",
       "<span style=\"color: #008000; text-decoration-color: #008000\">question = self.template_prefix\\n                question += self.build_api_doc(node, path, method)\\n              </span>\n",
       "<span style=\"color: #008000; text-decoration-color: #008000\">self.ask_gpt_and_save(question, tag, summary)\\n\\n    def gpt_msgs_to_code(self, messages: list) -&gt; str:\\n        </span>\n",
       "<span style=\"color: #008000; text-decoration-color: #008000\">\"\"\"根据不同调用方式选择\"\"\"\\n        result = \\'\\'\\n        if self.chatgpt_method == \"API\":\\n            result = </span>\n",
       "<span style=\"color: #008000; text-decoration-color: #008000\">GPTAPI().ask_code(msgs=messages)\\n\\n        return result\\n\\n    def get_file_path(self, base: Path, fname: str):\\n</span>\n",
       "<span style=\"color: #008000; text-decoration-color: #008000\">\"\"\"保存不同的文件路径\\n\\n        Args:\\n            base (str): 路径\\n            fname (str): 文件名称\\n        </span>\n",
       "<span style=\"color: #008000; text-decoration-color: #008000\">\"\"\"\\n        path = Path(base)\\n        path.mkdir(parents=True, exist_ok=True)\\n        file_path = path / fname\\n</span>\n",
       "<span style=\"color: #008000; text-decoration-color: #008000\">return str(file_path)'</span>\n",
       "<span style=\"font-weight: bold\">}</span>\n",
       "</pre>\n"
      ],
      "text/plain": [
       "\u001b[1m{\u001b[0m\n",
       "    \u001b[32m'UTGenerator'\u001b[0m: \u001b[32m'class UTGenerator:\\n    \"\"\"UT生成器：通过API文档构造UT\"\"\"\\n\\n    def __init__\u001b[0m\u001b[32m(\u001b[0m\u001b[32mself, \u001b[0m\n",
       "\u001b[32mswagger_file: str, ut_py_path: str, questions_path: str,\\n                 chatgpt_method: str = \"API\", \u001b[0m\n",
       "\u001b[32mtemplate_prefix\u001b[0m\u001b[32m=\u001b[0m\u001b[32mYFT_PROMPT_PREFIX\u001b[0m\u001b[32m)\u001b[0m\u001b[32m -> None:\\n        \"\"\"初始化UT生成器\\n\\n        Args:\\n            swagger_file: \u001b[0m\n",
       "\u001b[32mswagger路径\\n            ut_py_path: 用例存放路径\\n            questions_path: 模版存放路径，便于后续排查\\n        \u001b[0m\n",
       "\u001b[32mchatgpt_method: API\\n            template_prefix: 使用模版，默认使用YFT_UT_PROMPT\\n        \"\"\"\\n        \u001b[0m\n",
       "\u001b[32mself.swagger_file = swagger_file\\n        self.ut_py_path = ut_py_path\\n        self.questions_path = \u001b[0m\n",
       "\u001b[32mquestions_path\\n        assert chatgpt_method in \u001b[0m\u001b[32m[\u001b[0m\u001b[32m\"API\"\u001b[0m\u001b[32m]\u001b[0m\u001b[32m, \"非法chatgpt_method\"\\n        self.chatgpt_method = \u001b[0m\n",
       "\u001b[32mchatgpt_method\\n\\n        # ICL: In-Context Learning，这里给出例子，要求GPT模仿例子\\n        self.icl_sample = \u001b[0m\n",
       "\u001b[32mICL_SAMPLE\\n        self.template_prefix = template_prefix\\n\\n    def get_swagger_json\u001b[0m\u001b[32m(\u001b[0m\u001b[32mself\u001b[0m\u001b[32m)\u001b[0m\u001b[32m -> dict:\\n        \u001b[0m\n",
       "\u001b[32m\"\"\"从本地文件加载Swagger JSON\"\"\"\\n        with open\u001b[0m\u001b[32m(\u001b[0m\u001b[32mself.swagger_file, \"r\", \u001b[0m\u001b[32mencoding\u001b[0m\u001b[32m=\u001b[0m\u001b[32m\"utf\u001b[0m\u001b[32m-8\"\u001b[0m\u001b[32m)\u001b[0m\u001b[32m as file:\\n           \u001b[0m\n",
       "\u001b[32mswagger_json = json.load\u001b[0m\u001b[32m(\u001b[0m\u001b[32mfile\u001b[0m\u001b[32m)\u001b[0m\u001b[32m\\n        return swagger_json\\n\\n    def __para_to_str\u001b[0m\u001b[32m(\u001b[0m\u001b[32mself, prop, required, \u001b[0m\n",
       "\u001b[32mname\u001b[0m\u001b[32m=\"\"\u001b[0m\u001b[32m)\u001b[0m\u001b[32m:\\n        name = name or prop\u001b[0m\u001b[32m[\u001b[0m\u001b[32m\"name\"\u001b[0m\u001b[32m]\u001b[0m\u001b[32m\\n        ptype = prop\u001b[0m\u001b[32m[\u001b[0m\u001b[32m\"type\"\u001b[0m\u001b[32m]\u001b[0m\u001b[32m\\n        title = prop.get\u001b[0m\u001b[32m(\u001b[0m\u001b[32m\"title\", \u001b[0m\n",
       "\u001b[32m\"\"\u001b[0m\u001b[32m)\u001b[0m\u001b[32m\\n        desc = prop.get\u001b[0m\u001b[32m(\u001b[0m\u001b[32m\"description\", \"\"\u001b[0m\u001b[32m)\u001b[0m\u001b[32m\\n        return f\\'\u001b[0m\u001b[32m{\u001b[0m\u001b[32mname\u001b[0m\u001b[32m}\u001b[0m\u001b[32m\\\\t\u001b[0m\u001b[32m{\u001b[0m\u001b[32mptype\u001b[0m\u001b[32m}\u001b[0m\u001b[32m\\\\t\u001b[0m\u001b[32m{\u001b[0m\u001b[32m\"是\" if required else \u001b[0m\n",
       "\u001b[32m\"否\"\u001b[0m\u001b[32m}\u001b[0m\u001b[32m\\\\t\u001b[0m\u001b[32m{\u001b[0m\u001b[32mtitle\u001b[0m\u001b[32m}\u001b[0m\u001b[32m\\\\t\u001b[0m\u001b[32m{\u001b[0m\u001b[32mdesc\u001b[0m\u001b[32m}\u001b[0m\u001b[32m\\'\\n\\n    def _para_to_str\u001b[0m\u001b[32m(\u001b[0m\u001b[32mself, prop\u001b[0m\u001b[32m)\u001b[0m\u001b[32m:\\n        required = prop.get\u001b[0m\u001b[32m(\u001b[0m\u001b[32m\"required\", False\u001b[0m\u001b[32m)\u001b[0m\u001b[32m\\n  \u001b[0m\n",
       "\u001b[32mreturn self.__para_to_str\u001b[0m\u001b[32m(\u001b[0m\u001b[32mprop, required\u001b[0m\u001b[32m)\u001b[0m\u001b[32m\\n\\n    def para_to_str\u001b[0m\u001b[32m(\u001b[0m\u001b[32mself, name, prop, prop_object_required\u001b[0m\u001b[32m)\u001b[0m\u001b[32m:\\n        \u001b[0m\n",
       "\u001b[32mrequired = name in prop_object_required\\n        return self.__para_to_str\u001b[0m\u001b[32m(\u001b[0m\u001b[32mprop, required, name\u001b[0m\u001b[32m)\u001b[0m\u001b[32m\\n\\n    def \u001b[0m\n",
       "\u001b[32mbuild_object_properties\u001b[0m\u001b[32m(\u001b[0m\u001b[32mself, node, prop_object_required, level: int = 0\u001b[0m\u001b[32m)\u001b[0m\u001b[32m -> str:\\n        \u001b[0m\n",
       "\u001b[32m\"\"\"递归输出object和array\u001b[0m\u001b[32m[\u001b[0m\u001b[32mobject\u001b[0m\u001b[32m]\u001b[0m\u001b[32m类型的子属性\\n\\n        Args:\\n            node \u001b[0m\u001b[32m(\u001b[0m\u001b[32m_type_\u001b[0m\u001b[32m)\u001b[0m\u001b[32m: 子项的值\\n            \u001b[0m\n",
       "\u001b[32mprop_object_required \u001b[0m\u001b[32m(\u001b[0m\u001b[32m_type_\u001b[0m\u001b[32m)\u001b[0m\u001b[32m: 是否必填项\\n            level: 当前递归深度\\n        \"\"\"\\n\\n        doc = \"\"\\n\\n    \u001b[0m\n",
       "\u001b[32mdef dive_into_object\u001b[0m\u001b[32m(\u001b[0m\u001b[32mnode\u001b[0m\u001b[32m)\u001b[0m\u001b[32m:\\n            \"\"\"如果是object类型，递归输出子属性\"\"\"\\n            if node.get\u001b[0m\u001b[32m(\u001b[0m\u001b[32m\"type\"\u001b[0m\u001b[32m)\u001b[0m\u001b[32m ==\u001b[0m\n",
       "\u001b[32m\"object\":\\n                sub_properties = node.get\u001b[0m\u001b[32m(\u001b[0m\u001b[32m\"properties\", \u001b[0m\u001b[32m{\u001b[0m\u001b[32m}\u001b[0m\u001b[32m)\u001b[0m\u001b[32m\\n                return \u001b[0m\n",
       "\u001b[32mself.build_object_properties\u001b[0m\u001b[32m(\u001b[0m\u001b[32msub_properties, prop_object_required, \u001b[0m\u001b[32mlevel\u001b[0m\u001b[32m=\u001b[0m\u001b[32mlevel\u001b[0m\u001b[32m + 1\u001b[0m\u001b[32m)\u001b[0m\u001b[32m\\n            return \"\"\\n\\n     \u001b[0m\n",
       "\u001b[32mif node.get\u001b[0m\u001b[32m(\u001b[0m\u001b[32m\"in\", \"\"\u001b[0m\u001b[32m)\u001b[0m\u001b[32m in \u001b[0m\u001b[32m[\u001b[0m\u001b[32m\"query\", \"header\", \"formData\"\u001b[0m\u001b[32m]\u001b[0m\u001b[32m:\\n            doc += f\\'\u001b[0m\u001b[32m{\u001b[0m\u001b[32m\"\\t\" * \u001b[0m\n",
       "\u001b[32mlevel\u001b[0m\u001b[32m}\u001b[0m\u001b[32m{\u001b[0m\u001b[32mself._para_to_str\u001b[0m\u001b[32m(\u001b[0m\u001b[32mnode\u001b[0m\u001b[32m)\u001b[0m\u001b[32m}\u001b[0m\u001b[32m\\\\n\\'\\n            doc += dive_into_object\u001b[0m\u001b[32m(\u001b[0m\u001b[32mnode\u001b[0m\u001b[32m)\u001b[0m\u001b[32m\\n            return doc\\n\\n        \u001b[0m\n",
       "\u001b[32mfor name, prop in node.items\u001b[0m\u001b[32m(\u001b[0m\u001b[32m)\u001b[0m\u001b[32m:\\n            doc += f\\'\u001b[0m\u001b[32m{\u001b[0m\u001b[32m\"\\t\" * level\u001b[0m\u001b[32m}\u001b[0m\u001b[32m{\u001b[0m\u001b[32mself.para_to_str\u001b[0m\u001b[32m(\u001b[0m\u001b[32mname, prop, \u001b[0m\n",
       "\u001b[32mprop_object_required\u001b[0m\u001b[32m)\u001b[0m\u001b[32m}\u001b[0m\u001b[32m\\\\n\\'\\n            doc += dive_into_object\u001b[0m\u001b[32m(\u001b[0m\u001b[32mprop\u001b[0m\u001b[32m)\u001b[0m\u001b[32m\\n            if prop\u001b[0m\u001b[32m[\u001b[0m\u001b[32m\"type\"\u001b[0m\u001b[32m]\u001b[0m\u001b[32m == \"array\":\\n  \u001b[0m\n",
       "\u001b[32mitems = prop.get\u001b[0m\u001b[32m(\u001b[0m\u001b[32m\"items\", \u001b[0m\u001b[32m{\u001b[0m\u001b[32m}\u001b[0m\u001b[32m)\u001b[0m\u001b[32m\\n                doc += dive_into_object\u001b[0m\u001b[32m(\u001b[0m\u001b[32mitems\u001b[0m\u001b[32m)\u001b[0m\u001b[32m\\n        return doc\\n\\n    def \u001b[0m\n",
       "\u001b[32mget_tags_mapping\u001b[0m\u001b[32m(\u001b[0m\u001b[32mself\u001b[0m\u001b[32m)\u001b[0m\u001b[32m -> dict:\\n        \"\"\"处理tag与path\\n\\n        Returns:\\n            Dict: tag: \u001b[0m\n",
       "\u001b[32mpath对应关系\\n        \"\"\"\\n        swagger_data = self.get_swagger_json\u001b[0m\u001b[32m(\u001b[0m\u001b[32m)\u001b[0m\u001b[32m\\n        paths = swagger_data\u001b[0m\u001b[32m[\u001b[0m\u001b[32m\"paths\"\u001b[0m\u001b[32m]\u001b[0m\u001b[32m\\n \u001b[0m\n",
       "\u001b[32mtags = \u001b[0m\u001b[32m{\u001b[0m\u001b[32m}\u001b[0m\u001b[32m\\n\\n        for path, path_obj in paths.items\u001b[0m\u001b[32m(\u001b[0m\u001b[32m)\u001b[0m\u001b[32m:\\n            for method, method_obj in \u001b[0m\n",
       "\u001b[32mpath_obj.items\u001b[0m\u001b[32m(\u001b[0m\u001b[32m)\u001b[0m\u001b[32m:\\n                for tag in method_obj\u001b[0m\u001b[32m[\u001b[0m\u001b[32m\"tags\"\u001b[0m\u001b[32m]\u001b[0m\u001b[32m:\\n                    if tag not in tags:\\n       \u001b[0m\n",
       "\u001b[32mtags\u001b[0m\u001b[32m[\u001b[0m\u001b[32mtag\u001b[0m\u001b[32m]\u001b[0m\u001b[32m = \u001b[0m\u001b[32m{\u001b[0m\u001b[32m}\u001b[0m\u001b[32m\\n                    if path not in tags\u001b[0m\u001b[32m[\u001b[0m\u001b[32mtag\u001b[0m\u001b[32m]\u001b[0m\u001b[32m:\\n                        tags\u001b[0m\u001b[32m[\u001b[0m\u001b[32mtag\u001b[0m\u001b[32m]\u001b[0m\u001b[32m[\u001b[0m\u001b[32mpath\u001b[0m\u001b[32m]\u001b[0m\u001b[32m = \u001b[0m\u001b[32m{\u001b[0m\u001b[32m}\u001b[0m\u001b[32m\\n      \u001b[0m\n",
       "\u001b[32mtags\u001b[0m\u001b[32m[\u001b[0m\u001b[32mtag\u001b[0m\u001b[32m]\u001b[0m\u001b[32m[\u001b[0m\u001b[32mpath\u001b[0m\u001b[32m]\u001b[0m\u001b[32m[\u001b[0m\u001b[32mmethod\u001b[0m\u001b[32m]\u001b[0m\u001b[32m = method_obj\\n\\n        return tags\\n\\n    def generate_ut\u001b[0m\u001b[32m(\u001b[0m\u001b[32mself, include_tags\u001b[0m\u001b[32m)\u001b[0m\u001b[32m -> bool:\\n  \u001b[0m\n",
       "\u001b[32m\"\"\"生成用例文件\"\"\"\\n        tags = self.get_tags_mapping\u001b[0m\u001b[32m(\u001b[0m\u001b[32m)\u001b[0m\u001b[32m\\n        for tag, paths in tags.items\u001b[0m\u001b[32m(\u001b[0m\u001b[32m)\u001b[0m\u001b[32m:\\n            if\u001b[0m\n",
       "\u001b[32minclude_tags is None or tag in include_tags:\\n                self._generate_ut\u001b[0m\u001b[32m(\u001b[0m\u001b[32mtag, paths\u001b[0m\u001b[32m)\u001b[0m\u001b[32m\\n        return \u001b[0m\n",
       "\u001b[32mTrue\\n\\n    def build_api_doc\u001b[0m\u001b[32m(\u001b[0m\u001b[32mself, node: dict, path: str, method: str\u001b[0m\u001b[32m)\u001b[0m\u001b[32m -> str:\\n        summary = \u001b[0m\n",
       "\u001b[32mnode\u001b[0m\u001b[32m[\u001b[0m\u001b[32m\"summary\"\u001b[0m\u001b[32m]\u001b[0m\u001b[32m\\n\\n        doc = f\"接口名称：\u001b[0m\u001b[32m{\u001b[0m\u001b[32msummary\u001b[0m\u001b[32m}\u001b[0m\u001b[32m\\\\n接口路径：\u001b[0m\u001b[32m{\u001b[0m\u001b[32mpath\u001b[0m\u001b[32m}\u001b[0m\u001b[32m\\\\nMethod：\u001b[0m\u001b[32m{\u001b[0m\u001b[32mmethod.upper\u001b[0m\u001b[32m(\u001b[0m\u001b[32m)\u001b[0m\u001b[32m}\u001b[0m\u001b[32m\\\\n\"\\n        \u001b[0m\n",
       "\u001b[32mdoc += \"\\\\n请求参数：\\\\n\"\\n        if \"parameters\" in node:\\n            parameters = node\u001b[0m\u001b[32m[\u001b[0m\u001b[32m\"parameters\"\u001b[0m\u001b[32m]\u001b[0m\u001b[32m\\n         \u001b[0m\n",
       "\u001b[32mdoc += \"路径参数：\\\\n\"\\n\\n            # param\u001b[0m\u001b[32m[\u001b[0m\u001b[32m\"in\"\u001b[0m\u001b[32m]\u001b[0m\u001b[32m: path / formData / body / query / header\\n            for param\u001b[0m\n",
       "\u001b[32min parameters:\\n                if param\u001b[0m\u001b[32m[\u001b[0m\u001b[32m\"in\"\u001b[0m\u001b[32m]\u001b[0m\u001b[32m == \"path\":\\n                    doc += f\\'\u001b[0m\u001b[32m{\u001b[0m\u001b[32mparam\u001b[0m\u001b[32m[\u001b[0m\u001b[32m\"name\"\u001b[0m\u001b[32m]\u001b[0m\u001b[32m}\u001b[0m\u001b[32m \\\\n\\'\\n\\n \u001b[0m\n",
       "\u001b[32mdoc += \"\\\\nBody参数：\\\\n\"\\n            doc += \"名称\\\\t类型\\\\t是否必须\\\\t默认值\\\\t备注\\\\n\"\\n            for param in\u001b[0m\n",
       "\u001b[32mparameters:\\n                if param\u001b[0m\u001b[32m[\u001b[0m\u001b[32m\"in\"\u001b[0m\u001b[32m]\u001b[0m\u001b[32m == \"body\":\\n                    schema = param.get\u001b[0m\u001b[32m(\u001b[0m\u001b[32m\"schema\", \u001b[0m\u001b[32m{\u001b[0m\u001b[32m}\u001b[0m\u001b[32m)\u001b[0m\u001b[32m\\n     \u001b[0m\n",
       "\u001b[32mprop_properties = schema.get\u001b[0m\u001b[32m(\u001b[0m\u001b[32m\"properties\", \u001b[0m\u001b[32m{\u001b[0m\u001b[32m}\u001b[0m\u001b[32m)\u001b[0m\u001b[32m\\n                    prop_required = schema.get\u001b[0m\u001b[32m(\u001b[0m\u001b[32m\"required\", \u001b[0m\u001b[32m[\u001b[0m\u001b[32m]\u001b[0m\u001b[32m)\u001b[0m\u001b[32m\\n   \u001b[0m\n",
       "\u001b[32mdoc += self.build_object_properties\u001b[0m\u001b[32m(\u001b[0m\u001b[32mprop_properties, prop_required\u001b[0m\u001b[32m)\u001b[0m\u001b[32m\\n                else:\\n                    doc\u001b[0m\n",
       "\u001b[32m+= self.build_object_properties\u001b[0m\u001b[32m(\u001b[0m\u001b[32mparam, \u001b[0m\u001b[32m[\u001b[0m\u001b[32m]\u001b[0m\u001b[32m)\u001b[0m\u001b[32m\\n\\n        # 输出返回数据信息\\n        doc += \"\\\\n返回数据：\\\\n\"\\n      \u001b[0m\n",
       "\u001b[32mdoc += \"名称\\\\t类型\\\\t是否必须\\\\t默认值\\\\t备注\\\\n\"\\n        responses = node\u001b[0m\u001b[32m[\u001b[0m\u001b[32m\"responses\"\u001b[0m\u001b[32m]\u001b[0m\u001b[32m\\n        response = \u001b[0m\n",
       "\u001b[32mresponses.get\u001b[0m\u001b[32m(\u001b[0m\u001b[32m\"200\", \u001b[0m\u001b[32m{\u001b[0m\u001b[32m}\u001b[0m\u001b[32m)\u001b[0m\u001b[32m\\n        schema = response.get\u001b[0m\u001b[32m(\u001b[0m\u001b[32m\"schema\", \u001b[0m\u001b[32m{\u001b[0m\u001b[32m}\u001b[0m\u001b[32m)\u001b[0m\u001b[32m\\n        properties = \u001b[0m\n",
       "\u001b[32mschema.get\u001b[0m\u001b[32m(\u001b[0m\u001b[32m\"properties\", \u001b[0m\u001b[32m{\u001b[0m\u001b[32m}\u001b[0m\u001b[32m)\u001b[0m\u001b[32m\\n        required = schema.get\u001b[0m\u001b[32m(\u001b[0m\u001b[32m\"required\", \u001b[0m\u001b[32m{\u001b[0m\u001b[32m}\u001b[0m\u001b[32m)\u001b[0m\u001b[32m\\n\\n        doc += \u001b[0m\n",
       "\u001b[32mself.build_object_properties\u001b[0m\u001b[32m(\u001b[0m\u001b[32mproperties, required\u001b[0m\u001b[32m)\u001b[0m\u001b[32m\\n        doc += \"\\\\n\"\\n        doc += \"```\"\\n\\n        return \u001b[0m\n",
       "\u001b[32mdoc\\n\\n    def _store\u001b[0m\u001b[32m(\u001b[0m\u001b[32mself, data, base, folder, fname\u001b[0m\u001b[32m)\u001b[0m\u001b[32m:\\n        file_path = self.get_file_path\u001b[0m\u001b[32m(\u001b[0m\u001b[32mPath\u001b[0m\u001b[32m(\u001b[0m\u001b[32mbase\u001b[0m\u001b[32m)\u001b[0m\u001b[32m / \u001b[0m\n",
       "\u001b[32mfolder, fname\u001b[0m\u001b[32m)\u001b[0m\u001b[32m\\n        with open\u001b[0m\u001b[32m(\u001b[0m\u001b[32mfile_path, \"w\", \u001b[0m\u001b[32mencoding\u001b[0m\u001b[32m=\u001b[0m\u001b[32m\"utf\u001b[0m\u001b[32m-8\"\u001b[0m\u001b[32m)\u001b[0m\u001b[32m as file:\\n            file.write\u001b[0m\u001b[32m(\u001b[0m\u001b[32mdata\u001b[0m\u001b[32m)\u001b[0m\u001b[32m\\n\\n    \u001b[0m\n",
       "\u001b[32mdef ask_gpt_and_save\u001b[0m\u001b[32m(\u001b[0m\u001b[32mself, question: str, tag: str, fname: str\u001b[0m\u001b[32m)\u001b[0m\u001b[32m:\\n        \"\"\"生成问题，并且存储问题与答案\"\"\"\\n     \u001b[0m\n",
       "\u001b[32mmessages = \u001b[0m\u001b[32m[\u001b[0m\u001b[32mself.icl_sample, question\u001b[0m\u001b[32m]\u001b[0m\u001b[32m\\n        result = self.gpt_msgs_to_code\u001b[0m\u001b[32m(\u001b[0m\u001b[32mmessages\u001b[0m\u001b[32m=\u001b[0m\u001b[32mmessages\u001b[0m\u001b[32m)\u001b[0m\u001b[32m\\n\\n        \u001b[0m\n",
       "\u001b[32mself._store\u001b[0m\u001b[32m(\u001b[0m\u001b[32mquestion, self.questions_path, tag, f\"\u001b[0m\u001b[32m{\u001b[0m\u001b[32mfname\u001b[0m\u001b[32m}\u001b[0m\u001b[32m.txt\"\u001b[0m\u001b[32m)\u001b[0m\u001b[32m\\n        self._store\u001b[0m\u001b[32m(\u001b[0m\u001b[32mresult, self.ut_py_path, tag, \u001b[0m\n",
       "\u001b[32mf\"\u001b[0m\u001b[32m{\u001b[0m\u001b[32mfname\u001b[0m\u001b[32m}\u001b[0m\u001b[32m.py\"\u001b[0m\u001b[32m)\u001b[0m\u001b[32m\\n\\n    def _generate_ut\u001b[0m\u001b[32m(\u001b[0m\u001b[32mself, tag, paths\u001b[0m\u001b[32m)\u001b[0m\u001b[32m:\\n        \"\"\"处理数据路径下的结构\\n\\n        Args:\\n      \u001b[0m\n",
       "\u001b[32mtag \u001b[0m\u001b[32m(\u001b[0m\u001b[32m_type_\u001b[0m\u001b[32m)\u001b[0m\u001b[32m: 模块名称\\n            paths \u001b[0m\u001b[32m(\u001b[0m\u001b[32m_type_\u001b[0m\u001b[32m)\u001b[0m\u001b[32m: 路径Object\\n        \"\"\"\\n        for path, path_obj in \u001b[0m\n",
       "\u001b[32mpaths.items\u001b[0m\u001b[32m(\u001b[0m\u001b[32m)\u001b[0m\u001b[32m:\\n            for method, node in path_obj.items\u001b[0m\u001b[32m(\u001b[0m\u001b[32m)\u001b[0m\u001b[32m:\\n                summary = node\u001b[0m\u001b[32m[\u001b[0m\u001b[32m\"summary\"\u001b[0m\u001b[32m]\u001b[0m\u001b[32m\\n     \u001b[0m\n",
       "\u001b[32mquestion = self.template_prefix\\n                question += self.build_api_doc\u001b[0m\u001b[32m(\u001b[0m\u001b[32mnode, path, method\u001b[0m\u001b[32m)\u001b[0m\u001b[32m\\n              \u001b[0m\n",
       "\u001b[32mself.ask_gpt_and_save\u001b[0m\u001b[32m(\u001b[0m\u001b[32mquestion, tag, summary\u001b[0m\u001b[32m)\u001b[0m\u001b[32m\\n\\n    def gpt_msgs_to_code\u001b[0m\u001b[32m(\u001b[0m\u001b[32mself, messages: list\u001b[0m\u001b[32m)\u001b[0m\u001b[32m -> str:\\n        \u001b[0m\n",
       "\u001b[32m\"\"\"根据不同调用方式选择\"\"\"\\n        result = \\'\\'\\n        if self.chatgpt_method == \"API\":\\n            result = \u001b[0m\n",
       "\u001b[32mGPTAPI\u001b[0m\u001b[32m(\u001b[0m\u001b[32m)\u001b[0m\u001b[32m.ask_code\u001b[0m\u001b[32m(\u001b[0m\u001b[32mmsgs\u001b[0m\u001b[32m=\u001b[0m\u001b[32mmessages\u001b[0m\u001b[32m)\u001b[0m\u001b[32m\\n\\n        return result\\n\\n    def get_file_path\u001b[0m\u001b[32m(\u001b[0m\u001b[32mself, base: Path, fname: str\u001b[0m\u001b[32m)\u001b[0m\u001b[32m:\\n\u001b[0m\n",
       "\u001b[32m\"\"\"保存不同的文件路径\\n\\n        Args:\\n            base \u001b[0m\u001b[32m(\u001b[0m\u001b[32mstr\u001b[0m\u001b[32m)\u001b[0m\u001b[32m: 路径\\n            fname \u001b[0m\u001b[32m(\u001b[0m\u001b[32mstr\u001b[0m\u001b[32m)\u001b[0m\u001b[32m: 文件名称\\n        \u001b[0m\n",
       "\u001b[32m\"\"\"\\n        path = Path\u001b[0m\u001b[32m(\u001b[0m\u001b[32mbase\u001b[0m\u001b[32m)\u001b[0m\u001b[32m\\n        path.mkdir\u001b[0m\u001b[32m(\u001b[0m\u001b[32mparents\u001b[0m\u001b[32m=\u001b[0m\u001b[32mTrue\u001b[0m\u001b[32m, \u001b[0m\u001b[32mexist_ok\u001b[0m\u001b[32m=\u001b[0m\u001b[32mTrue\u001b[0m\u001b[32m)\u001b[0m\u001b[32m\\n        file_path = path / fname\\n\u001b[0m\n",
       "\u001b[32mreturn str\u001b[0m\u001b[32m(\u001b[0m\u001b[32mfile_path\u001b[0m\u001b[32m)\u001b[0m\u001b[32m'\u001b[0m\n",
       "\u001b[1m}\u001b[0m\n"
      ]
     },
     "metadata": {},
     "output_type": "display_data"
    },
    {
     "data": {
      "text/html": [
       "<pre style=\"white-space:pre;overflow-x:auto;line-height:normal;font-family:Menlo,'DejaVu Sans Mono',consolas,'Courier New',monospace\"><span style=\"font-weight: bold\">{}</span>\n",
       "</pre>\n"
      ],
      "text/plain": [
       "\u001b[1m{\u001b[0m\u001b[1m}\u001b[0m\n"
      ]
     },
     "metadata": {},
     "output_type": "display_data"
    },
    {
     "data": {
      "text/html": [
       "<pre style=\"white-space:pre;overflow-x:auto;line-height:normal;font-family:Menlo,'DejaVu Sans Mono',consolas,'Courier New',monospace\"><span style=\"font-weight: bold\">{</span>\n",
       "    <span style=\"color: #008000; text-decoration-color: #008000\">'Translator'</span>: <span style=\"color: #008000; text-decoration-color: #008000\">\"class Translator:\\n\\n    @classmethod\\n    def translate_prompt(cls, original, lang='中文'):\\n  </span>\n",
       "<span style=\"color: #008000; text-decoration-color: #008000\">return prompt.format(LANG=lang, ORIGINAL=original)\"</span>\n",
       "<span style=\"font-weight: bold\">}</span>\n",
       "</pre>\n"
      ],
      "text/plain": [
       "\u001b[1m{\u001b[0m\n",
       "    \u001b[32m'Translator'\u001b[0m: \u001b[32m\"class Translator:\\n\\n    @classmethod\\n    def translate_prompt\u001b[0m\u001b[32m(\u001b[0m\u001b[32mcls, original, \u001b[0m\u001b[32mlang\u001b[0m\u001b[32m='中文'\u001b[0m\u001b[32m)\u001b[0m\u001b[32m:\\n  \u001b[0m\n",
       "\u001b[32mreturn prompt.format\u001b[0m\u001b[32m(\u001b[0m\u001b[32mLANG\u001b[0m\u001b[32m=\u001b[0m\u001b[32mlang\u001b[0m\u001b[32m, \u001b[0m\u001b[32mORIGINAL\u001b[0m\u001b[32m=\u001b[0m\u001b[32moriginal\u001b[0m\u001b[32m)\u001b[0m\u001b[32m\"\u001b[0m\n",
       "\u001b[1m}\u001b[0m\n"
      ]
     },
     "metadata": {},
     "output_type": "display_data"
    },
    {
     "ename": "AttributeError",
     "evalue": "'Subscript' object has no attribute 'attr'",
     "output_type": "error",
     "traceback": [
      "\u001b[0;31m---------------------------------------------------------------------------\u001b[0m",
      "\u001b[0;31mAttributeError\u001b[0m                            Traceback (most recent call last)",
      "Cell \u001b[0;32mIn[53], line 102\u001b[0m\n\u001b[1;32m     99\u001b[0m         \u001b[39mprint\u001b[39m(result[\u001b[39m'\u001b[39m\u001b[39mclass_codes\u001b[39m\u001b[39m'\u001b[39m])\n\u001b[1;32m    101\u001b[0m \u001b[39mif\u001b[39;00m \u001b[39m__name__\u001b[39m \u001b[39m==\u001b[39m \u001b[39m\"\u001b[39m\u001b[39m__main__\u001b[39m\u001b[39m\"\u001b[39m:\n\u001b[0;32m--> 102\u001b[0m     main()\n",
      "Cell \u001b[0;32mIn[53], line 96\u001b[0m, in \u001b[0;36mmain\u001b[0;34m()\u001b[0m\n\u001b[1;32m     93\u001b[0m \u001b[39mwith\u001b[39;00m \u001b[39mopen\u001b[39m(path, \u001b[39m\"\u001b[39m\u001b[39mr\u001b[39m\u001b[39m\"\u001b[39m) \u001b[39mas\u001b[39;00m source:\n\u001b[1;32m     94\u001b[0m     code \u001b[39m=\u001b[39m source\u001b[39m.\u001b[39mread()\n\u001b[0;32m---> 96\u001b[0m result \u001b[39m=\u001b[39m analyze_code(code)\n\u001b[1;32m     98\u001b[0m \u001b[39mprint\u001b[39m(result[\u001b[39m'\u001b[39m\u001b[39mfunction_codes\u001b[39m\u001b[39m'\u001b[39m])\n\u001b[1;32m     99\u001b[0m \u001b[39mprint\u001b[39m(result[\u001b[39m'\u001b[39m\u001b[39mclass_codes\u001b[39m\u001b[39m'\u001b[39m])\n",
      "Cell \u001b[0;32mIn[53], line 77\u001b[0m, in \u001b[0;36manalyze_code\u001b[0;34m(code)\u001b[0m\n\u001b[1;32m     75\u001b[0m \u001b[39mfor\u001b[39;00m key, extractor \u001b[39min\u001b[39;00m extractors\u001b[39m.\u001b[39mitems():\n\u001b[1;32m     76\u001b[0m     \u001b[39mfor\u001b[39;00m node \u001b[39min\u001b[39;00m ast\u001b[39m.\u001b[39mwalk(tree):\n\u001b[0;32m---> 77\u001b[0m         data[key]\u001b[39m.\u001b[39mextend(extract_from_node(extractor, node))\n\u001b[1;32m     79\u001b[0m \u001b[39mfor\u001b[39;00m node \u001b[39min\u001b[39;00m tree\u001b[39m.\u001b[39mbody:  \u001b[39m# Only top-level nodes\u001b[39;00m\n\u001b[1;32m     80\u001b[0m     \u001b[39mif\u001b[39;00m \u001b[39misinstance\u001b[39m(node, ast\u001b[39m.\u001b[39mFunctionDef) \u001b[39mand\u001b[39;00m \u001b[39mnot\u001b[39;00m node\u001b[39m.\u001b[39mname\u001b[39m.\u001b[39mstartswith(\u001b[39m'\u001b[39m\u001b[39m_\u001b[39m\u001b[39m'\u001b[39m):\n",
      "Cell \u001b[0;32mIn[53], line 22\u001b[0m, in \u001b[0;36mextract_from_node\u001b[0;34m(extractor, node)\u001b[0m\n\u001b[1;32m     21\u001b[0m \u001b[39mdef\u001b[39;00m \u001b[39mextract_from_node\u001b[39m(extractor: Type, node: ast\u001b[39m.\u001b[39mAST) \u001b[39m-\u001b[39m\u001b[39m>\u001b[39m List[\u001b[39mstr\u001b[39m]:\n\u001b[0;32m---> 22\u001b[0m     \u001b[39mreturn\u001b[39;00m extractor\u001b[39m.\u001b[39;49mextract(node)\n",
      "Cell \u001b[0;32mIn[53], line 37\u001b[0m, in \u001b[0;36mFunctionCallExtractor.extract\u001b[0;34m(node)\u001b[0m\n\u001b[1;32m     34\u001b[0m \u001b[39m@staticmethod\u001b[39m\n\u001b[1;32m     35\u001b[0m \u001b[39mdef\u001b[39;00m \u001b[39mextract\u001b[39m(node: ast\u001b[39m.\u001b[39mAST) \u001b[39m-\u001b[39m\u001b[39m>\u001b[39m List[\u001b[39mstr\u001b[39m]:\n\u001b[1;32m     36\u001b[0m     \u001b[39mif\u001b[39;00m \u001b[39misinstance\u001b[39m(node, ast\u001b[39m.\u001b[39mCall):\n\u001b[0;32m---> 37\u001b[0m         \u001b[39mreturn\u001b[39;00m [node\u001b[39m.\u001b[39mfunc\u001b[39m.\u001b[39mid \u001b[39mif\u001b[39;00m \u001b[39misinstance\u001b[39m(node\u001b[39m.\u001b[39mfunc, ast\u001b[39m.\u001b[39mName) \u001b[39melse\u001b[39;00m node\u001b[39m.\u001b[39;49mfunc\u001b[39m.\u001b[39;49mattr]\n\u001b[1;32m     38\u001b[0m     \u001b[39mreturn\u001b[39;00m []\n",
      "\u001b[0;31mAttributeError\u001b[0m: 'Subscript' object has no attribute 'attr'"
     ]
    }
   ],
   "source": [
    "import ast\n",
    "import tokenize\n",
    "from io import BytesIO\n",
    "from typing import List, Dict, Union, Optional, Any, Type, Callable\n",
    "from typing_extensions import TypedDict\n",
    "from rich import print\n",
    "\n",
    "from file import get_file_paths\n",
    "\n",
    "PROJECT_DIR = \"./MetaGPT/metagpt\"\n",
    "SUPPORTED_FILE_TYPES = [\".py\"]\n",
    "\n",
    "class DependencyData(TypedDict):\n",
    "    modules: List[str]\n",
    "    functions_called: List[str]\n",
    "    global_vars: List[str]\n",
    "    classes_used: List[str]\n",
    "    function_codes: Dict[str, str]\n",
    "    class_codes: Dict[str, str]\n",
    "    \n",
    "def extract_from_node(extractor: Type, node: ast.AST) -> List[str]:\n",
    "    return extractor.extract(node)\n",
    "\n",
    "class ImportExtractor:\n",
    "    @staticmethod\n",
    "    def extract(node: ast.AST) -> List[str]:\n",
    "        if isinstance(node, ast.Import):\n",
    "            return [n.name for n in node.names]\n",
    "        elif isinstance(node, ast.ImportFrom):\n",
    "            return [f\"{node.module}.{n.name}\" for n in node.names]\n",
    "        return []\n",
    "\n",
    "class FunctionCallExtractor:\n",
    "    @staticmethod\n",
    "    def extract(node: ast.AST) -> List[str]:\n",
    "        if isinstance(node, ast.Call):\n",
    "            return [node.func.id if isinstance(node.func, ast.Name) else node.func.attr]\n",
    "        return []\n",
    "\n",
    "class GlobalVarExtractor:\n",
    "    @staticmethod\n",
    "    def extract(node: ast.AST) -> List[str]:\n",
    "        return node.names if isinstance(node, ast.Global) else []\n",
    "\n",
    "class ClassUsageExtractor:\n",
    "    @staticmethod\n",
    "    def extract(node: ast.AST) -> List[str]:\n",
    "        return [node.name] if isinstance(node, ast.ClassDef) else []\n",
    "\n",
    "def extract_code_segment(code: str, node: Union[ast.FunctionDef, ast.ClassDef]) -> Optional[str]:\n",
    "    # Use the line numbers provided by the ast node\n",
    "    start_line = node.lineno - 1  # AST line numbers are 1-based, lists are 0-based\n",
    "    end_line = node.end_lineno if hasattr(node, 'end_lineno') else start_line\n",
    "    return '\\n'.join(code.splitlines()[start_line:end_line + 1])\n",
    "\n",
    "def analyze_code(code: str) -> DependencyData:\n",
    "    tree = ast.parse(code)\n",
    "    \n",
    "    data: DependencyData = {\n",
    "        'modules': [],\n",
    "        'functions_called': [],\n",
    "        'global_vars': [],\n",
    "        'classes_used': [],\n",
    "        'function_codes': {},\n",
    "        'class_codes': {}\n",
    "    }\n",
    "\n",
    "    extractors = {\n",
    "        'modules': ImportExtractor,\n",
    "        'functions_called': FunctionCallExtractor,\n",
    "        'global_vars': GlobalVarExtractor,\n",
    "        'classes_used': ClassUsageExtractor\n",
    "    }\n",
    "\n",
    "    for key, extractor in extractors.items():\n",
    "        for node in ast.walk(tree):\n",
    "            data[key].extend(extract_from_node(extractor, node))\n",
    "\n",
    "    for node in tree.body:  # Only top-level nodes\n",
    "        if isinstance(node, ast.FunctionDef) and not node.name.startswith('_'):\n",
    "            data['function_codes'][node.name] = extract_code_segment(code, node)\n",
    "        elif isinstance(node, ast.ClassDef):\n",
    "            data['class_codes'][node.name] = extract_code_segment(code, node)\n",
    "\n",
    "    return data\n",
    "\n",
    "\n",
    "\n",
    "def main():\n",
    "    paths = get_file_paths(PROJECT_DIR, SUPPORTED_FILE_TYPES)\n",
    "    \n",
    "    for path in paths:\n",
    "        with open(path, \"r\") as source:\n",
    "            code = source.read()\n",
    "        \n",
    "        result = analyze_code(code)\n",
    "        \n",
    "        print(result['function_codes'])\n",
    "        print(result['class_codes'])\n",
    "\n",
    "if __name__ == \"__main__\":\n",
    "    main()"
   ]
  },
  {
   "cell_type": "code",
   "execution_count": null,
   "metadata": {},
   "outputs": [],
   "source": []
  },
  {
   "cell_type": "code",
   "execution_count": null,
   "metadata": {},
   "outputs": [],
   "source": []
  }
 ],
 "metadata": {
  "kernelspec": {
   "display_name": ".venv",
   "language": "python",
   "name": "python3"
  },
  "language_info": {
   "codemirror_mode": {
    "name": "ipython",
    "version": 3
   },
   "file_extension": ".py",
   "mimetype": "text/x-python",
   "name": "python",
   "nbconvert_exporter": "python",
   "pygments_lexer": "ipython3",
   "version": "3.10.10"
  },
  "orig_nbformat": 4
 },
 "nbformat": 4,
 "nbformat_minor": 2
}
